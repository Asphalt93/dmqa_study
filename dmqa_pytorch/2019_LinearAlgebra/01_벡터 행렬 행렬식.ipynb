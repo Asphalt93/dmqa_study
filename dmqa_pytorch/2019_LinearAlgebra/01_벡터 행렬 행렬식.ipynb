{
 "cells": [
  {
   "cell_type": "code",
   "execution_count": 1,
   "metadata": {},
   "outputs": [],
   "source": [
    "# 예시에는 numpy를 사용한다.\n",
    "import numpy as np"
   ]
  },
  {
   "cell_type": "markdown",
   "metadata": {},
   "source": [
    "# 1.1 벡터와 공간"
   ]
  },
  {
   "cell_type": "markdown",
   "metadata": {},
   "source": [
    "## 1.1.1 우선적인 정의: 수치의 조합을 정리하여 나타내는 기법"
   ]
  },
  {
   "cell_type": "markdown",
   "metadata": {},
   "source": [
    "다음과 같이 수를 나열한 것을 벡터라고 부른다."
   ]
  },
  {
   "cell_type": "code",
   "execution_count": 4,
   "metadata": {},
   "outputs": [
    {
     "name": "stdout",
     "output_type": "stream",
     "text": [
      "[2 5] [6 3 3]\n"
     ]
    }
   ],
   "source": [
    "ex1 = np.array([2,5])\n",
    "ex2 = np.array([6,3,3])\n",
    "print(ex1, ex2)"
   ]
  },
  {
   "cell_type": "markdown",
   "metadata": {},
   "source": [
    "성분 수를 명시하고 싶을 때에는 각각 2차원 벡터, 3차원 벡터라고 부른다."
   ]
  },
  {
   "cell_type": "markdown",
   "metadata": {},
   "source": [
    "책에서는 세로로 늘어선 '종벡터'로 표시하고 있지만 Numpy에서는 가로로 늘어선 '횡벡터'로 표시하고 있다."
   ]
  },
  {
   "cell_type": "markdown",
   "metadata": {},
   "source": [
    "T는 전치를 뜻하는 Transpose의 T이다. 예시는 다음과 같다."
   ]
  },
  {
   "cell_type": "code",
   "execution_count": 10,
   "metadata": {},
   "outputs": [
    {
     "name": "stdout",
     "output_type": "stream",
     "text": [
      "[[1 2 3]\n",
      " [4 5 6]] \n",
      "\n",
      "[[1 4]\n",
      " [2 5]\n",
      " [3 6]]\n"
     ]
    }
   ],
   "source": [
    "ex3 = np.array([[1,2,3],\n",
    "                [4,5,6]])\n",
    "\n",
    "ex3_t = ex3.T\n",
    "\n",
    "print(ex3,'\\n')\n",
    "print(ex3_t)"
   ]
  },
  {
   "cell_type": "markdown",
   "metadata": {},
   "source": [
    "벡터의 덧셈과 정수배(스칼라배)는 다음과 같이 정의한다."
   ]
  },
  {
   "cell_type": "code",
   "execution_count": 21,
   "metadata": {
    "scrolled": true
   },
   "outputs": [
    {
     "name": "stdout",
     "output_type": "stream",
     "text": [
      "벡터의 덧셈\n",
      "[[1 2 3]\n",
      " [4 5 6]] \n",
      " +\n",
      " [[10 11 12]\n",
      " [16 17 18]] \n",
      " =\n",
      " [[11 13 15]\n",
      " [20 22 24]]\n",
      "\n",
      "벡터의 정수배\n",
      "3 *\n",
      " [[10 11 12]\n",
      " [16 17 18]] \n",
      " =\n",
      " [[30 33 36]\n",
      " [48 51 54]]\n"
     ]
    }
   ],
   "source": [
    "ex4 = np.array([[10,11,12],\n",
    "               [16,17,18]])\n",
    "print('벡터의 덧셈')\n",
    "print(ex3,'\\n', '+\\n' ,ex4,'\\n', '=\\n', np.add(ex3, ex4))\n",
    "print('\\n벡터의 정수배')\n",
    "print(3, '*\\n' ,ex4,'\\n', '=\\n', np.multiply(3, ex4))"
   ]
  },
  {
   "cell_type": "markdown",
   "metadata": {},
   "source": [
    "수 $c, c'$와 벡터 $x,y$의 성질은 다음과 같다."
   ]
  },
  {
   "cell_type": "markdown",
   "metadata": {},
   "source": [
    "* $(cc')x = c(c')x$ ::: 결합법칙"
   ]
  },
  {
   "cell_type": "code",
   "execution_count": 26,
   "metadata": {},
   "outputs": [
    {
     "data": {
      "text/plain": [
       "True"
      ]
     },
     "execution_count": 26,
     "metadata": {},
     "output_type": "execute_result"
    }
   ],
   "source": [
    "r1 = np.multiply((2*3), ex4)\n",
    "r2 = np.multiply(2, (3*ex4))\n",
    "\n",
    "(r1 == r2).any()"
   ]
  },
  {
   "cell_type": "markdown",
   "metadata": {},
   "source": [
    "* $1x = x$"
   ]
  },
  {
   "cell_type": "code",
   "execution_count": 28,
   "metadata": {},
   "outputs": [
    {
     "data": {
      "text/plain": [
       "True"
      ]
     },
     "execution_count": 28,
     "metadata": {},
     "output_type": "execute_result"
    }
   ],
   "source": [
    "r3 = np.multiply(1, ex4)\n",
    "\n",
    "(ex4 == r3).any()"
   ]
  },
  {
   "cell_type": "markdown",
   "metadata": {},
   "source": [
    "* $x+y = y+x$ ::: 교환법칙"
   ]
  },
  {
   "cell_type": "code",
   "execution_count": 29,
   "metadata": {},
   "outputs": [
    {
     "data": {
      "text/plain": [
       "True"
      ]
     },
     "execution_count": 29,
     "metadata": {},
     "output_type": "execute_result"
    }
   ],
   "source": [
    "r4 = np.add(ex3, ex4)\n",
    "r5 = np.add(ex4, ex3)\n",
    "\n",
    "(r4 == r5).any()"
   ]
  },
  {
   "cell_type": "markdown",
   "metadata": {},
   "source": [
    "* $(x+y)+z = x+(y+z)$ ::: 결합법칙"
   ]
  },
  {
   "cell_type": "code",
   "execution_count": 31,
   "metadata": {},
   "outputs": [
    {
     "data": {
      "text/plain": [
       "True"
      ]
     },
     "execution_count": 31,
     "metadata": {},
     "output_type": "execute_result"
    }
   ],
   "source": [
    "ex5 = np.array([[9,10,11],\n",
    "                [16,17,19]])\n",
    "\n",
    "r6 = np.add(ex3 + ex4, ex5)\n",
    "r7 = np.add(ex3, ex4 + ex5)\n",
    "\n",
    "(r6 == r7).any()"
   ]
  },
  {
   "cell_type": "markdown",
   "metadata": {},
   "source": [
    "* $x+o = x$ ::: 항등원이 존재"
   ]
  },
  {
   "cell_type": "code",
   "execution_count": 35,
   "metadata": {},
   "outputs": [
    {
     "data": {
      "text/plain": [
       "True"
      ]
     },
     "execution_count": 35,
     "metadata": {},
     "output_type": "execute_result"
    }
   ],
   "source": [
    "r8 = np.add(ex5,np.zeros(ex5.shape))\n",
    "\n",
    "(ex5 == r8).any()"
   ]
  },
  {
   "cell_type": "markdown",
   "metadata": {},
   "source": [
    "* $x+(-x)=o$ ::: 역원이 존재"
   ]
  },
  {
   "cell_type": "code",
   "execution_count": 36,
   "metadata": {},
   "outputs": [
    {
     "data": {
      "text/plain": [
       "True"
      ]
     },
     "execution_count": 36,
     "metadata": {},
     "output_type": "execute_result"
    }
   ],
   "source": [
    "r9 = np.add(ex5, -ex5)\n",
    "\n",
    "(r9 == np.zeros(ex5.shape)).any()"
   ]
  },
  {
   "cell_type": "markdown",
   "metadata": {},
   "source": [
    "* $c(x+y) = cx + cy$ :::분배법칙"
   ]
  },
  {
   "cell_type": "code",
   "execution_count": 37,
   "metadata": {},
   "outputs": [
    {
     "data": {
      "text/plain": [
       "True"
      ]
     },
     "execution_count": 37,
     "metadata": {},
     "output_type": "execute_result"
    }
   ],
   "source": [
    "r10 = np.multiply(3, (ex4+ex5) )\n",
    "r11 = np.add(np.multiply(3, ex4),\n",
    "             np.multiply(3, ex5))\n",
    "\n",
    "(r10 == r11).any()"
   ]
  },
  {
   "cell_type": "markdown",
   "metadata": {},
   "source": [
    "* $(c+c')x = cx + c'x$ ::: 분배법칙"
   ]
  },
  {
   "cell_type": "code",
   "execution_count": 38,
   "metadata": {},
   "outputs": [
    {
     "data": {
      "text/plain": [
       "True"
      ]
     },
     "execution_count": 38,
     "metadata": {},
     "output_type": "execute_result"
    }
   ],
   "source": [
    "r12 = np.multiply((3+7), ex5) \n",
    "r13 = np.add(np.multiply(3, ex5),\n",
    "             np.multiply(7, ex5))\n",
    "\n",
    "(r12 == r13).any()"
   ]
  },
  {
   "cell_type": "markdown",
   "metadata": {},
   "source": [
    "## 1.1.2 '공간'의 이미지"
   ]
  },
  {
   "cell_type": "markdown",
   "metadata": {},
   "source": [
    "## 1.1.3 기저 (Basis)"
   ]
  },
  {
   "cell_type": "markdown",
   "metadata": {},
   "source": [
    "'덧셈'과 '정수배'가 정의된 세계를 선형공간(=벡터공간)이라고 부른다.\n",
    "\n",
    "이 세계에서 기준이 되는 것은 원점$O$ 하나이기 때문에 영벡터만 특별하고 그 외에는 어느 벡터도 대등하다."
   ]
  },
  {
   "cell_type": "markdown",
   "metadata": {},
   "source": [
    "여기서 기준이 되는 벡터는 $\\vec{e}_1,\\vec{e}_2$(기저벡터)이다. 좌표를 표현하기 위해서 기저벡터를 사용할 수 있다."
   ]
  },
  {
   "cell_type": "markdown",
   "metadata": {},
   "source": [
    "## 1.1.4 기저가 되기 위한 조건"
   ]
  },
  {
   "cell_type": "markdown",
   "metadata": {},
   "source": [
    "<span style=\"color:blue\">(큐스터디)</span><br>\n",
    "벡터공간 V의 벡터집합 = {$v_1, v_2, ... ,v_n$}이 다음 두 가지 조건을 만족할 때 s를 v의 기저라 한다.\n",
    "\n",
    "1) S는 일차독립이다.\n",
    "\n",
    "2) S는 V를 생성한다. 즉, V의 모든 원소는 S의 원소들의 일차결합으로 나타낼 수 있다."
   ]
  },
  {
   "cell_type": "markdown",
   "metadata": {},
   "source": [
    "<span style=\"color:blue\">(프로그래머를 위한 선형대수)</span><br>\n",
    "벡터의 조합을 기저라 부르는 것은 다음 두 가지 조건을 만족시켰을 때 뿐입니다.\n",
    "\n",
    "1) (지금 생각하고 있는 공간 안의) 어떤 벡터$\\vec{v}$라도 \n",
    "    $$ \\vec{v} = x_1\\vec{e}_1 + \\dots + x_n\\vec{e}_n $$\n",
    "    라는 형태로 나타낼 수 있다. $\\rightarrow$ 모든 토지에 번지가 붙어 있다.\n",
    "   \n",
    "   \n",
    "2) 게다가 나타내는 방법은 한 가지뿐이다. $\\rightarrow$ 토지 하나에 번지는 하나뿐이다."
   ]
  },
  {
   "cell_type": "markdown",
   "metadata": {},
   "source": [
    "주어진 벡터 $\\vec{e}_1, ... \\vec{e}_n$에 대해 무언가의 수 $u_1, ... , u_n$을 가져와서 생기는 벡터는 다음과 같다.\n",
    "\n",
    "$$ u_1\\vec{e}_1 + u_1\\vec{e}_2 + ... +u_1\\vec{e}_n $$\n",
    "\n",
    "이를 $\\vec{e}_1, ... , \\vec{e}_n$의 선형결합이라고 한다.\n",
    "\n",
    "위의 개념을 통해서 임의의 벡터 $\\vec{x}$가 나타나고, 거기다 그 표현법이 유일할 때 $ u_1\\vec{e}_1 + u_1\\vec{e}_2 + ... +u_1\\vec{e}_n $을 기저라고 부른다."
   ]
  },
  {
   "cell_type": "markdown",
   "metadata": {},
   "source": []
  },
  {
   "cell_type": "markdown",
   "metadata": {},
   "source": []
  },
  {
   "cell_type": "markdown",
   "metadata": {},
   "source": []
  },
  {
   "cell_type": "markdown",
   "metadata": {},
   "source": []
  },
  {
   "cell_type": "markdown",
   "metadata": {},
   "source": []
  },
  {
   "cell_type": "markdown",
   "metadata": {},
   "source": [
    "## 1.1.5 차원"
   ]
  },
  {
   "cell_type": "markdown",
   "metadata": {},
   "source": [
    "기저벡터의 개수가 곧 그 공간의 차원이다.\n",
    "\n",
    "차원 = 기저 벡터의 개수 = 좌표의 성분수"
   ]
  },
  {
   "cell_type": "markdown",
   "metadata": {},
   "source": [
    "<span style=\"color:blue\">(큐스터디)</span><br>\n",
    "벡터공간 $V$의 차원은 기저를 구성하는 벡터의 개수이다.\n",
    "\n",
    "차원은 $\\dim V$이다. 특히, $\\dim R^n = n$이다.\n",
    "\n",
    "* $W$를 $R^3$의 부분공간이라 하면 $\\dim(W) \\leq 3$이고 다음이 성립한다.\n",
    "\n",
    "1) $\\dim(W)=0$이면 $W=\\{0\\}$이다.\n",
    "\n",
    "2) $\\dim(W)=1$이면 $W$는 원점을 지나는 직선이다.\n",
    "\n",
    "3) $\\dim(W)=2$이면 $W$는 원점을 지나는 평면이다.\n",
    "\n",
    "4) $\\dim(W)=3$이면 $W$는 원점을 지나는 공간이다.\n",
    "\n"
   ]
  },
  {
   "cell_type": "markdown",
   "metadata": {},
   "source": []
  },
  {
   "cell_type": "markdown",
   "metadata": {},
   "source": []
  },
  {
   "cell_type": "markdown",
   "metadata": {},
   "source": [
    "# 1.2 행렬과 사상"
   ]
  },
  {
   "cell_type": "markdown",
   "metadata": {},
   "source": [
    "## 1.2.1 우선적인 정의: 순수한 관계를 나타내는 편리한 기법"
   ]
  },
  {
   "cell_type": "markdown",
   "metadata": {},
   "source": [
    "행 수와 열 수가 같은 행렬을 <b>정방행렬</b>이라고 한다."
   ]
  },
  {
   "cell_type": "markdown",
   "metadata": {},
   "source": [
    "곱 $m \\times n$행렬과 $n$차원 벡터에 대해 곱에 대해서는 다음 사항을 주의하도록 한다.\n",
    "\n",
    "1) 행렬과 벡터의 곱은 벡터\n",
    "\n",
    "2) 행렬의 열 수(가로폭)가 '입력'의 차원 수, 행 수(높이)가 '출력'의 차원 수\n",
    "\n",
    "3) 입력의 종벡터를 가로로 넘겨 딱딱 계산하는 느낌"
   ]
  },
  {
   "cell_type": "markdown",
   "metadata": {},
   "source": [
    "이 책에서 '순수하다'라고 하는 이유는, 입력과 출력의 관계가 선형성을 가지기 때문이다. \n",
    "<br>예를 들어 더 많이 산다고 해서 가격이 떨어지는 일 등이 없다. 즉, 다음과 같이 표현할 수 있다.\n",
    "\n",
    "$$ x + y = z \\:\\: \\rightarrow \\:\\: Ax + Ay = Az$$\n",
    "\n",
    "$$ cx = y \\:\\: \\rightarrow \\:\\: c(Ax) = Ay $$"
   ]
  },
  {
   "cell_type": "markdown",
   "metadata": {},
   "source": []
  },
  {
   "cell_type": "markdown",
   "metadata": {},
   "source": []
  },
  {
   "cell_type": "markdown",
   "metadata": {},
   "source": [
    "## 1.2.2 여러 가지 관계를 행렬로 나타내다 (1)"
   ]
  },
  {
   "cell_type": "markdown",
   "metadata": {},
   "source": [
    "## 1.2.3 행렬은 사상이다."
   ]
  },
  {
   "cell_type": "markdown",
   "metadata": {},
   "source": [
    "$n$차원 벡터 $x$에 $m \\times n$ 행렬$A$를 곱하면 $m$차원 벡터 $y=Ax$가 얻어진다. \n",
    "\n",
    "즉, 행렬$A$를 지정하면 벡터를 다른 벡터에 옮기는 사상이 결정된다. <b><span style=\"color:blue\">(행렬은 사상이다)</span></b>\n",
    "\n",
    "사상은 <b>n차원 공간에서 m차원 공간이라는 다른 세계에 옮기는 것</b>이다."
   ]
  },
  {
   "cell_type": "code",
   "execution_count": 43,
   "metadata": {},
   "outputs": [
    {
     "name": "stdout",
     "output_type": "stream",
     "text": [
      "[[ 1.  -0.3]\n",
      " [-0.7  0.6]]\n"
     ]
    }
   ],
   "source": [
    "doc = \"\"\"\n",
    "예를 들어,\n",
    "행렬 I가 기저벡터 e_1 = [1,0]과 e_2 = [0,1]의 선형결합으로 이루어졌다고 했을 때,\n",
    "행렬 A를 곱함으로써 다른 차원의 공간으로 이동하게 된다. \n",
    "즉, 행렬 A(m x n)는 n차원의 공간을 m차원의 공간으로 옮기는 사상(similar to 함수)이다.\n",
    "\"\"\"\n",
    "mat_I = np.eye(2)\n",
    "mat_A = np.array([[1,-0.3],\n",
    "                 [-0.7,0.6]])\n",
    "\n",
    "r14 = np.dot(mat_I, mat_A) #행렬의 곱 (dot product)\n",
    "print(r14)"
   ]
  },
  {
   "cell_type": "markdown",
   "metadata": {},
   "source": [
    "위의 경우 A의 1열은 $e_1$의 목적지, 2열은 $e_2$의 목적지를 나타낸다고 볼 수 있다.\n",
    "\n",
    "따라서 두 기저벡터가 어디로 이동하는지만 알면 사상의 형태도 상상할 수 있다."
   ]
  },
  {
   "cell_type": "markdown",
   "metadata": {},
   "source": [
    "사상이 같다면 행렬도 같다.\n",
    "\n",
    "즉, 같은 크기의 행렬 A, B가 임의의 백터 x에 대해 항상 Ax = Bx라면 A = B이다."
   ]
  },
  {
   "cell_type": "markdown",
   "metadata": {},
   "source": [
    "## 1.2.4 행렬의 곱 = 사상의 합성"
   ]
  },
  {
   "cell_type": "markdown",
   "metadata": {},
   "source": []
  }
 ],
 "metadata": {
  "kernelspec": {
   "display_name": "dmqa_pytorch",
   "language": "python",
   "name": "dmqa_pytorch"
  },
  "language_info": {
   "codemirror_mode": {
    "name": "ipython",
    "version": 3
   },
   "file_extension": ".py",
   "mimetype": "text/x-python",
   "name": "python",
   "nbconvert_exporter": "python",
   "pygments_lexer": "ipython3",
   "version": "3.7.4"
  }
 },
 "nbformat": 4,
 "nbformat_minor": 2
}
