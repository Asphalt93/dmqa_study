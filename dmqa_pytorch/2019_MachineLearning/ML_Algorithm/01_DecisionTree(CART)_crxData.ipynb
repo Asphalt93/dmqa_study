{
 "cells": [
  {
   "cell_type": "code",
   "execution_count": 40,
   "metadata": {},
   "outputs": [],
   "source": [
    "import numpy as np\n",
    "import pandas as pd\n",
    "import matplotlib.pyplot as plt\n",
    "import seaborn as sns\n",
    "\n",
    "import warnings\n",
    "warnings.filterwarnings(\"ignore\")"
   ]
  },
  {
   "cell_type": "code",
   "execution_count": 20,
   "metadata": {},
   "outputs": [
    {
     "name": "stdout",
     "output_type": "stream",
     "text": [
      "\n",
      "1. Title: Credit Approval\n",
      "\n",
      "2. Sources: \n",
      "    (confidential)\n",
      "    Submitted by quinlan@cs.su.oz.au\n",
      "\n",
      "3.  Past Usage:\n",
      "\n",
      "    See Quinlan,\n",
      "    * \"Simplifying decision trees\", Int J Man-Machine Studies 27,\n",
      "      Dec 1987, pp. 221-234.\n",
      "    * \"C4.5: Programs for Machine Learning\", Morgan Kaufmann, Oct 1992\n",
      "  \n",
      "4.  Relevant Information:\n",
      "\n",
      "    This file concerns credit card applications.  All attribute names\n",
      "    and values have been changed to meaningless symbols to protect\n",
      "    confidentiality of the data.\n",
      "  \n",
      "    This dataset is interesting because there is a good mix of\n",
      "    attributes -- continuous, nominal with small numbers of\n",
      "    values, and nominal with larger numbers of values.  There\n",
      "    are also a few missing values.\n",
      "  \n",
      "5.  Number of Instances: 690\n",
      "\n",
      "6.  Number of Attributes: 15 + class attribute\n",
      "\n",
      "7.  Attribute Information:\n",
      "\n",
      "    A1:\tb, a.\n",
      "    A2:\tcontinuous.\n",
      "    A3:\tcontinuous.\n",
      "    A4:\tu, y, l, t.\n",
      "    A5:\tg, p, gg.\n",
      "    A6:\tc, d, cc, i, j, k, m, r, q, w, x, e, aa, ff.\n",
      "    A7:\tv, h, bb, j, n, z, dd, ff, o.\n",
      "    A8:\tcontinuous.\n",
      "    A9:\tt, f.\n",
      "    A10:\tt, f.\n",
      "    A11:\tcontinuous.\n",
      "    A12:\tt, f.\n",
      "    A13:\tg, p, s.\n",
      "    A14:\tcontinuous.\n",
      "    A15:\tcontinuous.\n",
      "    A16: +,-         (class attribute)\n",
      "\n",
      "8.  Missing Attribute Values:\n",
      "    37 cases (5%) have one or more missing values.  The missing\n",
      "    values from particular attributes are:\n",
      "\n",
      "    A1:  12\n",
      "    A2:  12\n",
      "    A4:   6\n",
      "    A5:   6\n",
      "    A6:   9\n",
      "    A7:   9\n",
      "    A14: 13\n",
      "\n",
      "9.  Class Distribution\n",
      "  \n",
      "    +: 307 (44.5%)\n",
      "    -: 383 (55.5%)\n",
      "\n",
      "\n"
     ]
    }
   ],
   "source": [
    "#데이터 설명\n",
    "with open('./data/crx.names') as t:\n",
    "    print(t.read())\n",
    "\n",
    "# A1 ~ A15 ::: feature\n",
    "# A16 ::: target\n",
    "# 결측치는 ?로 표기 되어 있음."
   ]
  },
  {
   "cell_type": "code",
   "execution_count": 143,
   "metadata": {},
   "outputs": [],
   "source": [
    "set_type = {'A1':str, 'A2':np.float64, 'A3':np.float64,'A4':str, 'A5':str,\n",
    "           'A6':str, 'A7':str, 'A8':np.float64, 'A9':str, 'A10':str,\n",
    "           'A11':np.float64, 'A12':str, 'A13':str, 'A14':np.float64, 'A15': np.float64, 'A16':str}\n",
    "\n",
    "col_name = ['A'+str(c) for c in range(1,16+1)]\n",
    "convert_value = lambda x: np.nan if x == '?' else x"
   ]
  },
  {
   "cell_type": "code",
   "execution_count": 144,
   "metadata": {},
   "outputs": [],
   "source": [
    "df = pd.read_table('./data/crx.data', sep=',',header = None, names = col_name, converters= {c:convert_value for c in col_name})\n",
    "df = df.astype(set_type)"
   ]
  },
  {
   "cell_type": "code",
   "execution_count": 145,
   "metadata": {},
   "outputs": [],
   "source": [
    "df.dropna(inplace = True)"
   ]
  },
  {
   "cell_type": "code",
   "execution_count": 146,
   "metadata": {},
   "outputs": [
    {
     "data": {
      "text/html": [
       "<div>\n",
       "<style scoped>\n",
       "    .dataframe tbody tr th:only-of-type {\n",
       "        vertical-align: middle;\n",
       "    }\n",
       "\n",
       "    .dataframe tbody tr th {\n",
       "        vertical-align: top;\n",
       "    }\n",
       "\n",
       "    .dataframe thead th {\n",
       "        text-align: right;\n",
       "    }\n",
       "</style>\n",
       "<table border=\"1\" class=\"dataframe\">\n",
       "  <thead>\n",
       "    <tr style=\"text-align: right;\">\n",
       "      <th></th>\n",
       "      <th>A1</th>\n",
       "      <th>A2</th>\n",
       "      <th>A3</th>\n",
       "      <th>A4</th>\n",
       "      <th>A5</th>\n",
       "      <th>A6</th>\n",
       "      <th>A7</th>\n",
       "      <th>A8</th>\n",
       "      <th>A9</th>\n",
       "      <th>A10</th>\n",
       "      <th>A11</th>\n",
       "      <th>A12</th>\n",
       "      <th>A13</th>\n",
       "      <th>A14</th>\n",
       "      <th>A15</th>\n",
       "      <th>A16</th>\n",
       "    </tr>\n",
       "  </thead>\n",
       "  <tbody>\n",
       "    <tr>\n",
       "      <td>0</td>\n",
       "      <td>b</td>\n",
       "      <td>30.83</td>\n",
       "      <td>0.000</td>\n",
       "      <td>u</td>\n",
       "      <td>g</td>\n",
       "      <td>w</td>\n",
       "      <td>v</td>\n",
       "      <td>1.25</td>\n",
       "      <td>t</td>\n",
       "      <td>t</td>\n",
       "      <td>1.0</td>\n",
       "      <td>f</td>\n",
       "      <td>g</td>\n",
       "      <td>202.0</td>\n",
       "      <td>0.0</td>\n",
       "      <td>+</td>\n",
       "    </tr>\n",
       "    <tr>\n",
       "      <td>1</td>\n",
       "      <td>a</td>\n",
       "      <td>58.67</td>\n",
       "      <td>4.460</td>\n",
       "      <td>u</td>\n",
       "      <td>g</td>\n",
       "      <td>q</td>\n",
       "      <td>h</td>\n",
       "      <td>3.04</td>\n",
       "      <td>t</td>\n",
       "      <td>t</td>\n",
       "      <td>6.0</td>\n",
       "      <td>f</td>\n",
       "      <td>g</td>\n",
       "      <td>43.0</td>\n",
       "      <td>560.0</td>\n",
       "      <td>+</td>\n",
       "    </tr>\n",
       "    <tr>\n",
       "      <td>2</td>\n",
       "      <td>a</td>\n",
       "      <td>24.50</td>\n",
       "      <td>0.500</td>\n",
       "      <td>u</td>\n",
       "      <td>g</td>\n",
       "      <td>q</td>\n",
       "      <td>h</td>\n",
       "      <td>1.50</td>\n",
       "      <td>t</td>\n",
       "      <td>f</td>\n",
       "      <td>0.0</td>\n",
       "      <td>f</td>\n",
       "      <td>g</td>\n",
       "      <td>280.0</td>\n",
       "      <td>824.0</td>\n",
       "      <td>+</td>\n",
       "    </tr>\n",
       "    <tr>\n",
       "      <td>3</td>\n",
       "      <td>b</td>\n",
       "      <td>27.83</td>\n",
       "      <td>1.540</td>\n",
       "      <td>u</td>\n",
       "      <td>g</td>\n",
       "      <td>w</td>\n",
       "      <td>v</td>\n",
       "      <td>3.75</td>\n",
       "      <td>t</td>\n",
       "      <td>t</td>\n",
       "      <td>5.0</td>\n",
       "      <td>t</td>\n",
       "      <td>g</td>\n",
       "      <td>100.0</td>\n",
       "      <td>3.0</td>\n",
       "      <td>+</td>\n",
       "    </tr>\n",
       "    <tr>\n",
       "      <td>4</td>\n",
       "      <td>b</td>\n",
       "      <td>20.17</td>\n",
       "      <td>5.625</td>\n",
       "      <td>u</td>\n",
       "      <td>g</td>\n",
       "      <td>w</td>\n",
       "      <td>v</td>\n",
       "      <td>1.71</td>\n",
       "      <td>t</td>\n",
       "      <td>f</td>\n",
       "      <td>0.0</td>\n",
       "      <td>f</td>\n",
       "      <td>s</td>\n",
       "      <td>120.0</td>\n",
       "      <td>0.0</td>\n",
       "      <td>+</td>\n",
       "    </tr>\n",
       "  </tbody>\n",
       "</table>\n",
       "</div>"
      ],
      "text/plain": [
       "  A1     A2     A3 A4 A5 A6 A7    A8 A9 A10  A11 A12 A13    A14    A15 A16\n",
       "0  b  30.83  0.000  u  g  w  v  1.25  t   t  1.0   f   g  202.0    0.0   +\n",
       "1  a  58.67  4.460  u  g  q  h  3.04  t   t  6.0   f   g   43.0  560.0   +\n",
       "2  a  24.50  0.500  u  g  q  h  1.50  t   f  0.0   f   g  280.0  824.0   +\n",
       "3  b  27.83  1.540  u  g  w  v  3.75  t   t  5.0   t   g  100.0    3.0   +\n",
       "4  b  20.17  5.625  u  g  w  v  1.71  t   f  0.0   f   s  120.0    0.0   +"
      ]
     },
     "execution_count": 146,
     "metadata": {},
     "output_type": "execute_result"
    }
   ],
   "source": [
    "df.head()"
   ]
  },
  {
   "cell_type": "markdown",
   "metadata": {},
   "source": [
    "## Sci-kit Learn"
   ]
  },
  {
   "cell_type": "code",
   "execution_count": 198,
   "metadata": {},
   "outputs": [],
   "source": [
    "from sklearn.tree import DecisionTreeRegressor\n",
    "from sklearn.model_selection import cross_val_score, StratifiedKFold, train_test_split\n",
    "model_dtr = DecisionTreeRegressor(random_state = 42)"
   ]
  },
  {
   "cell_type": "code",
   "execution_count": 199,
   "metadata": {},
   "outputs": [],
   "source": [
    "df_x = df.drop(['A16'], axis = 1)\n",
    "df_y = df[['A16']]"
   ]
  },
  {
   "cell_type": "code",
   "execution_count": 201,
   "metadata": {},
   "outputs": [],
   "source": [
    "df_x = pd.merge(df_x.drop([c for c,b in (df_x.dtypes == object).reset_index().values if b == True], axis = 1),\n",
    "         pd.get_dummies(df_x[[c for c,b in (df_x.dtypes == object).reset_index().values if b == True]]),\n",
    "         how = 'left',\n",
    "         left_index=True,\n",
    "         right_index=True)"
   ]
  },
  {
   "cell_type": "code",
   "execution_count": 202,
   "metadata": {},
   "outputs": [],
   "source": [
    "df_y['A16'] = df_y.A16.apply(lambda x: 0 if x == '+' else 1)"
   ]
  },
  {
   "cell_type": "code",
   "execution_count": 203,
   "metadata": {},
   "outputs": [],
   "source": [
    "df = pd.merge(df_x, df_y, how = 'left', left_index = True, right_index = True)"
   ]
  },
  {
   "cell_type": "code",
   "execution_count": 204,
   "metadata": {},
   "outputs": [],
   "source": [
    "X_train, X_test, y_train, y_test = train_test_split(df.drop(['A16'], axis = 1), df.A16, test_size=0.33, random_state=42)"
   ]
  },
  {
   "cell_type": "code",
   "execution_count": 206,
   "metadata": {},
   "outputs": [
    {
     "data": {
      "text/plain": [
       "DecisionTreeRegressor(criterion='mse', max_depth=None, max_features=None,\n",
       "                      max_leaf_nodes=None, min_impurity_decrease=0.0,\n",
       "                      min_impurity_split=None, min_samples_leaf=1,\n",
       "                      min_samples_split=2, min_weight_fraction_leaf=0.0,\n",
       "                      presort=False, random_state=42, splitter='best')"
      ]
     },
     "execution_count": 206,
     "metadata": {},
     "output_type": "execute_result"
    }
   ],
   "source": [
    "model_dtr.fit(X_train, y_train)"
   ]
  },
  {
   "cell_type": "code",
   "execution_count": 214,
   "metadata": {},
   "outputs": [
    {
     "data": {
      "text/plain": [
       "0.8333333333333334"
      ]
     },
     "execution_count": 214,
     "metadata": {},
     "output_type": "execute_result"
    }
   ],
   "source": [
    "sum(model_dtr.predict(X_test) == y_test) / y_test.count()"
   ]
  },
  {
   "cell_type": "code",
   "execution_count": null,
   "metadata": {},
   "outputs": [],
   "source": []
  }
 ],
 "metadata": {
  "kernelspec": {
   "display_name": "dmqa_pytorch",
   "language": "python",
   "name": "dmqa_pytorch"
  },
  "language_info": {
   "codemirror_mode": {
    "name": "ipython",
    "version": 3
   },
   "file_extension": ".py",
   "mimetype": "text/x-python",
   "name": "python",
   "nbconvert_exporter": "python",
   "pygments_lexer": "ipython3",
   "version": "3.7.4"
  }
 },
 "nbformat": 4,
 "nbformat_minor": 2
}
