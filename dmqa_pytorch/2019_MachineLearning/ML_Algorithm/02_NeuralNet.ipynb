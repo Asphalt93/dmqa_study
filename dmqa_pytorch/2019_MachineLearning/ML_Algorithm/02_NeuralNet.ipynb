{
 "cells": [
  {
   "cell_type": "markdown",
   "metadata": {},
   "source": [
    "# Neural Net\n",
    "정의"
   ]
  },
  {
   "cell_type": "markdown",
   "metadata": {},
   "source": []
  },
  {
   "cell_type": "markdown",
   "metadata": {},
   "source": []
  },
  {
   "cell_type": "markdown",
   "metadata": {},
   "source": [
    "## 퍼셉트론(Perceptron)\n",
    "퍼셉트론은 다수의 신호를 input(입력)으로 받아 하나의 output(출력)을 반환한다."
   ]
  },
  {
   "cell_type": "markdown",
   "metadata": {},
   "source": [
    "아래의 예시는 input(입력)이 2개인 퍼셉트론이다.\n",
    "\n",
    "<img src=\"img/NN_A_01.PNG\">"
   ]
  },
  {
   "cell_type": "markdown",
   "metadata": {},
   "source": [
    "아주 기본적인 퍼셉트론은 뉴런에서 보내온 신호의 총합이 정해진 한계(임계값; $\\theta$)를 넘어설 때만 1을 출력한다. (즉, 뉴런이 활성화되는 경우에만!)\n",
    "\n"
   ]
  },
  {
   "cell_type": "markdown",
   "metadata": {},
   "source": [
    "따라서 이 구조를 수식으로 표현하면 아래와 같다.\n",
    "\n",
    "$$  y = 0 \\ \\ \\ \\ (w_1x_1 + w_2x_2 \\leq \\theta) $$\n",
    "$$  y = 1 \\ \\ \\ \\ (w_1x_1 + w_2x_2 > \\theta) $$"
   ]
  },
  {
   "cell_type": "markdown",
   "metadata": {},
   "source": [
    "### 논리회로 (AND, NAND, OR, XOR)\n",
    "\n",
    "입력(input)과 출력(output)의 대응 표를 진리표(truth table)라고 한다.\n",
    "\n",
    "각 게이트 별 진리표는 다음과 같다."
   ]
  },
  {
   "cell_type": "markdown",
   "metadata": {},
   "source": [
    "#### AND 게이트"
   ]
  },
  {
   "cell_type": "markdown",
   "metadata": {},
   "source": [
    "<img src=\"img/NN_A_02.PNG\">\n",
    "\n",
    "AND 게이트는 두 입력이 모두 1인 경우에만 1을 출력하고 나머지는 0을 출력한다."
   ]
  },
  {
   "cell_type": "code",
   "execution_count": 69,
   "metadata": {},
   "outputs": [
    {
     "name": "stdout",
     "output_type": "stream",
     "text": [
      "[[0 0]\n",
      " [1 0]\n",
      " [0 1]\n",
      " [1 1]] 에 대한 AND게이트의 결과는... \n",
      "\n",
      "[[0]\n",
      " [0]\n",
      " [0]\n",
      " [1]]\n"
     ]
    }
   ],
   "source": [
    "import numpy as np\n",
    "\n",
    "def AND(elem_matrix):\n",
    "    w1 = np.ones((1,1)) * 0.5\n",
    "    w2 = np.ones((1,1)) * 0.5\n",
    "    w = np.concatenate((w1,w2))\n",
    "    \n",
    "    theta = np.ones((4,1)) * 0.7\n",
    "    \n",
    "    cal_result = (np.dot(elem_matrix.T, w) > theta).astype(int)\n",
    "    return cal_result\n",
    "\n",
    "elem_input = np.array([[0,1,0,1],\n",
    "                       [0,0,1,1]])\n",
    "\n",
    "print(elem_input.T,'에 대한 AND게이트의 결과는...','\\n')\n",
    "print(AND(elem_input))"
   ]
  },
  {
   "cell_type": "markdown",
   "metadata": {},
   "source": [
    "#### NAND 게이트"
   ]
  },
  {
   "cell_type": "markdown",
   "metadata": {},
   "source": [
    "<img src=\"img/NN_A_03.PNG\">"
   ]
  },
  {
   "cell_type": "code",
   "execution_count": 71,
   "metadata": {},
   "outputs": [
    {
     "name": "stdout",
     "output_type": "stream",
     "text": [
      "[[0 0]\n",
      " [1 0]\n",
      " [0 1]\n",
      " [1 1]] 에 대한 NAND게이트의 결과는... \n",
      "\n",
      "[[1]\n",
      " [1]\n",
      " [1]\n",
      " [0]]\n"
     ]
    }
   ],
   "source": [
    "import numpy as np\n",
    "\n",
    "def NAND(elem_matrix):\n",
    "    w1 = np.ones((1,1)) * -0.5 # AND와 부호를 반대로 하여 가중치를 부여한다.\n",
    "    w2 = np.ones((1,1)) * -0.5 # AND와 부호를 반대로 하여 가중치를 부여한다.\n",
    "    w = np.concatenate((w1,w2))\n",
    "    \n",
    "    b = np.ones((4,1)) * 0.7 # Bias; 편향\n",
    "    \n",
    "    theta = np.ones((4,1)) * 0\n",
    "    \n",
    "    cal_result = (np.dot(elem_matrix.T, w) + b > theta).astype(int)\n",
    "    return cal_result\n",
    "\n",
    "elem_input = np.array([[0,1,0,1],\n",
    "                       [0,0,1,1]])\n",
    "\n",
    "print(elem_input.T,'에 대한 NAND게이트의 결과는...','\\n')\n",
    "print(NAND(elem_input))"
   ]
  },
  {
   "cell_type": "markdown",
   "metadata": {},
   "source": [
    "#### OR 게이트"
   ]
  },
  {
   "cell_type": "markdown",
   "metadata": {},
   "source": [
    "<img src=\"img/NN_A_04.PNG\">"
   ]
  },
  {
   "cell_type": "code",
   "execution_count": 79,
   "metadata": {},
   "outputs": [
    {
     "name": "stdout",
     "output_type": "stream",
     "text": [
      "[[0 0]\n",
      " [1 0]\n",
      " [0 1]\n",
      " [1 1]] 에 대한 OR게이트의 결과는... \n",
      "\n",
      "[[0]\n",
      " [1]\n",
      " [1]\n",
      " [1]]\n"
     ]
    }
   ],
   "source": [
    "import numpy as np\n",
    "\n",
    "def OR(elem_matrix):\n",
    "    w1 = np.ones((1,1)) * 0.2 # AND와 부호를 반대로 하여 가중치를 부여한다.\n",
    "    w2 = np.ones((1,1)) * 0.2 # AND와 부호를 반대로 하여 가중치를 부여한다.\n",
    "    w = np.concatenate((w1,w2))\n",
    "    \n",
    "    b = np.ones((4,1)) * -0.2 # Bias; 편향\n",
    "    \n",
    "    theta = np.ones((4,1)) * 0\n",
    "    \n",
    "    cal_result = (np.dot(elem_matrix.T, w) + b >= theta).astype(int)\n",
    "    return cal_result\n",
    "\n",
    "elem_input = np.array([[0,1,0,1],\n",
    "                       [0,0,1,1]])\n",
    "\n",
    "print(elem_input.T,'에 대한 OR게이트의 결과는...','\\n')\n",
    "print(OR(elem_input))"
   ]
  },
  {
   "cell_type": "markdown",
   "metadata": {},
   "source": [
    "#### XOR 게이트"
   ]
  },
  {
   "cell_type": "markdown",
   "metadata": {},
   "source": [
    "<img src=\"img/NN_A_05.PNG\">"
   ]
  },
  {
   "cell_type": "markdown",
   "metadata": {},
   "source": [
    "XOR 게이트(배타적 논리합 논리회로)는 $x_1$과 $x_2$ 중 한쪽이 1일 때만 1을 출력한다.\n",
    "\n",
    "<b>따라서 <span style=\"color:red\">기본적인 퍼셉트론으로는 XOR 게이트를 구현하는 것이 불가능하다.</span></b>\n",
    "\n",
    "이유는 아래와 같다."
   ]
  },
  {
   "cell_type": "markdown",
   "metadata": {},
   "source": [
    "<img src=\"img/NN_A_06.PNG\">\n",
    "\n",
    "퍼셉트론을 구현한 코드를 살펴보면 알겠지만 AND, NAND, OR 게이트는 가중치와 편향만 다르게 부여한 같은 구조의 일차방정식인 것을 알 수 있다.\n",
    "\n",
    "따라서 그래프 상에서도 볼 수 있듯이 AND, NAND, OR게이트의 경우 직선으로 세모와 동그라미를 구분한다. 하지만 XOR 게이트는 직선으로 해결할 수 없다.\n",
    "\n",
    "하지만 구역을 \"직선\"으로 나눠야한다는 제약을 버리게 된다면 \"비선형\"적인 방법으로 해결할 수 있습니다. \n"
   ]
  },
  {
   "cell_type": "markdown",
   "metadata": {},
   "source": [
    " "
   ]
  },
  {
   "cell_type": "markdown",
   "metadata": {},
   "source": [
    "## 다층 퍼셉트론(Multi-Layer Perceptron)\n",
    "다층 퍼셉트론은 말그대로 다수(multi)의 퍼셉트론으로 층(layer)을 쌓아서 만드는 퍼셉트론이다."
   ]
  },
  {
   "cell_type": "markdown",
   "metadata": {},
   "source": [
    "XOR 게이트의 문제는 AND, NAND, OR 게이트를 조합하여 해결할 수 있다.\n",
    "\n",
    "아래와 같이, $x_1$과 $x_2$는 NAND와 OR 게이트에 input을 하고, 이 두 게이트의 output을 AND 게이트의 input으로 다시 집어넣는다.\n",
    "\n",
    "따라서 다음과 같은 truth table(진리표)를 얻게 된다.\n",
    "\n"
   ]
  },
  {
   "cell_type": "markdown",
   "metadata": {},
   "source": [
    "<img src=\"img/NN_A_07.PNG\">"
   ]
  },
  {
   "cell_type": "code",
   "execution_count": 82,
   "metadata": {},
   "outputs": [
    {
     "name": "stdout",
     "output_type": "stream",
     "text": [
      "[[0 0]\n",
      " [1 0]\n",
      " [0 1]\n",
      " [1 1]] 에 대한 XOR게이트의 결과는... \n",
      "\n",
      "[[0]\n",
      " [1]\n",
      " [1]\n",
      " [0]]\n"
     ]
    }
   ],
   "source": [
    "import numpy as np\n",
    "\n",
    "def XOR(elem_matrix):\n",
    "    \n",
    "    s1 = NAND(elem_matrix).T\n",
    "    s2 = OR(elem_matrix).T\n",
    "    \n",
    "    s = np.concatenate((s1,s2))\n",
    "    \n",
    "    cal_result = (AND(s) > theta).astype(int)\n",
    "    return cal_result\n",
    "\n",
    "elem_input = np.array([[0,1,0,1],\n",
    "                       [0,0,1,1]])\n",
    "\n",
    "print(elem_input.T,'에 대한 XOR게이트의 결과는...','\\n')\n",
    "print(XOR(elem_input))"
   ]
  },
  {
   "cell_type": "markdown",
   "metadata": {},
   "source": [
    "이 과정을 그래프로 표현하면 아래와 같이 나타낼 수 있다.\n",
    "\n",
    "<img src=\"img/NN_A_08.PNG\">"
   ]
  },
  {
   "cell_type": "markdown",
   "metadata": {},
   "source": [
    "AND, NAND, OR 게이트가 1층인 단층 퍼셉트론이며, XOR 게이트는 층이 여러개(2층)인 다층 퍼셉트론이다.\n",
    "\n",
    "단일 퍼셉트론을 조합함으로써 단층 퍼셉트론으로는 표현하지 못한 것(비선형 구조)을 구현할 수 있다."
   ]
  },
  {
   "cell_type": "markdown",
   "metadata": {},
   "source": [
    " "
   ]
  },
  {
   "cell_type": "markdown",
   "metadata": {},
   "source": [
    "## 인공신경망(ANN; Artifical Neural Network)"
   ]
  },
  {
   "cell_type": "markdown",
   "metadata": {},
   "source": []
  },
  {
   "cell_type": "markdown",
   "metadata": {},
   "source": []
  },
  {
   "cell_type": "markdown",
   "metadata": {},
   "source": []
  },
  {
   "cell_type": "markdown",
   "metadata": {},
   "source": []
  },
  {
   "cell_type": "markdown",
   "metadata": {},
   "source": []
  },
  {
   "cell_type": "markdown",
   "metadata": {},
   "source": []
  }
 ],
 "metadata": {
  "kernelspec": {
   "display_name": "dmqa_pytorch",
   "language": "python",
   "name": "dmqa_pytorch"
  },
  "language_info": {
   "codemirror_mode": {
    "name": "ipython",
    "version": 3
   },
   "file_extension": ".py",
   "mimetype": "text/x-python",
   "name": "python",
   "nbconvert_exporter": "python",
   "pygments_lexer": "ipython3",
   "version": "3.7.4"
  }
 },
 "nbformat": 4,
 "nbformat_minor": 2
}
