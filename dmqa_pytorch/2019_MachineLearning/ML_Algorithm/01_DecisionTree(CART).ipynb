{
 "cells": [
  {
   "cell_type": "markdown",
   "metadata": {},
   "source": [
    "# Decision Tree"
   ]
  },
  {
   "cell_type": "markdown",
   "metadata": {},
   "source": [
    "데이터에 내재되어 있는 패턴을 변수의 조합으로 나타내는 예측/분류 모델을 나무의 형태로 만드는 것. (교수님 유튜브 강의 중...)<br>\n",
    "$\\rightarrow$ 데이터를 가장 순수하게 분류할 수 있는 변수 및 조건을 기준으로 데이터의 공간을 분할하는 모델. (내가 한 말...)"
   ]
  },
  {
   "cell_type": "markdown",
   "metadata": {},
   "source": [
    "### Shape of Model\n",
    "\n",
    "<img src=\"img/DT_01_tree.PNG\">\n",
    "<br>\n",
    "* 데이터를 2개 혹은 그 이상의 부분집합으로 분할\n",
    "\n",
    "$\\rightarrow$ 데이터가 균일해지도록 분할. 이 때 균일하다는 것은 분할을 통해 비슷한 범주를 가진 관측치들끼리 모으는 것을 의미한다."
   ]
  },
  {
   "cell_type": "markdown",
   "metadata": {},
   "source": [
    "<img src=\"img/DT_02_tree.PNG\">\n",
    "\n",
    "다음과 같은 데이터가 주어졌다고 하자.\n",
    "\n",
    "Root Node 뿐만 아니라 모든 Node에서는 가장 균일하게 분할 할 수 있는 변수를 사용해야한다. \n",
    "\n",
    "차가운 물, 당분 섭취, 스트레스 각각 요인에 따른 복통 발생여부를 다음과 같이 나타낼 수 있다. (** 공간 상 스트레스는 생략)\n",
    "\n",
    "<img src=\"img/DT_03_tree.PNG\">\n",
    "\n",
    "차가운 물이나 당분 섭취 여부로 분할하였지만 그 어느 것도 100% 균일하게 나누어지지 않았다. 이런 것을 impure 하다고 표현한다.\n",
    "\n",
    "하지만 여기서 가장 pure하게 나눈 변수를 찾아야하기 때문에 impurity를 측정하는 기법을 사용하게 된다.\n",
    "\n",
    "보통 두 가지가 알려져있는데 각각은\n",
    "<b>\n",
    "    \n",
    "1) Gini Impurity <br>\n",
    "2) Information Gain Entropy </b>\n",
    "\n",
    "\n",
    "...이다."
   ]
  },
  {
   "cell_type": "markdown",
   "metadata": {},
   "source": [
    "### Gini Impurity"
   ]
  },
  {
   "cell_type": "markdown",
   "metadata": {},
   "source": [
    "Gini Impurity is a measurement of the likelihood of an incorrect classification of a new instance of a random variable, if that new instance were randomly classified according to the distribution of class labels from the data set.\n",
    "(출처: https://bambielli.com/til/2017-10-29-gini-impurity/)"
   ]
  },
  {
   "cell_type": "markdown",
   "metadata": {},
   "source": [
    "Gini Impurity = 1 - (the probability of YES)$^2$ - (the probability of NO)$^2$"
   ]
  },
  {
   "cell_type": "markdown",
   "metadata": {},
   "source": [
    "* 차가운 물 분할 시 Gini Impurity <br>\n",
    "$1 - ({105 \\over {105+39}})^2 - ({39 \\over {105+39}})^2 = 0.395$ <br>\n",
    "$1 - ({125 \\over {125+34}})^2 - ({34 \\over {125+34}})^2 = 0.336$ <br><br>\n",
    "<b>Weighted Average of the Leaf Node impurity </b><br>\n",
    "$({144 \\over {144+159}})*0.395 + ({159 \\over {144+159}})*0.336 = 0.364$ <br><br>\n",
    "\n",
    "\n",
    "\n",
    "* 당분 섭취 분할 시 Gini Impurity <br>\n",
    "$1 - ({120 \\over {120+24}})^2 - ({24 \\over {120+24}})^2 =0.394$<br>\n",
    "$1 - ({20 \\over {139+20}})^2 - ({139 \\over {139+20}})^2 = 0.220$<br><br>\n",
    "<b>Weighted Average of the Leaf Node impurity </b><br>\n",
    "$({144 \\over {144+159}})*0.394 + ({159 \\over {144+159}})*0.220 = 0.303$ <br><br>\n",
    "\n",
    "스트레스 분할 시 Weighted Average of the Leaf Node Impurity가 0.4라고 가정했을 때,\n",
    "<b>당분 섭취</b>의 경우 계산되는 <span style=\"color:blue\">지니 불순도가 가장 낮으므로 지금 Node에서 제일 균일하게 분할하는 변수</span> 라고 할 수 있다."
   ]
  },
  {
   "cell_type": "markdown",
   "metadata": {},
   "source": [
    "<span style=\"color:red\"><b>!! Numerical Data의 경우에는 Gini Impurity를 구하는 방법이 다르다. </b></span>"
   ]
  },
  {
   "cell_type": "markdown",
   "metadata": {},
   "source": [
    "아래와 같은 데이터가 주어졌다고 가정했을 때, Gini Impurity는 다음과 같이 진행된다.\n",
    "<img src=\"img/DT_05_tree.PNG\">\n",
    "Step 1) 데이터를 오름차순으로 정렬한다. <br>\n",
    "Step 2) 인접한 데이터 간의 평균(붉은색 글씨)을 구한다.<br>\n",
    "Step 3) 계산한 평균을 기준으로 분할하여 Gini Impurity를 구한다. (아래) <br>\n",
    "<br>\n",
    "Gini Impurity for \"수면시간(분) < 136.5\" $\\rightarrow$ 0.41<br>\n",
    "Gini Impurity for \"수면시간(분) < 186.5\" $\\rightarrow$ <b>0.25 (가장 낮음)</b><br>\n",
    "Gini Impurity for \"수면시간(분) < 215.0\" $\\rightarrow$ 0.44<br>\n",
    "Gini Impurity for \"수면시간(분) < 332.0\" $\\rightarrow$ ....<br>\n",
    "Gini Impurity for \"수면시간(분) < 512.0\" $\\rightarrow$ ....<br>\n",
    "\n",
    "따라서 <b>\"수면시간(분) < 186.5\"</b>이 <span style=\"color:blue\">지금 Node에서 제일 균일하게 분할하는 변수</span>라고 할 수 있다.\n"
   ]
  },
  {
   "cell_type": "markdown",
   "metadata": {},
   "source": [
    " 이외에 Rank Data 또는 Category Data의 경우 해당 랭크끼리 묶어서 분할을 진행하면 된다.\n",
    "<br><br>\n",
    "<span style=\"color:red\"><b> !! 마지막으로 분할한 뒤의 지니 불순도가 분할하지 않은 경우보다 더 높면 해당 Node를 Leaf로 처리한다.</b></span>"
   ]
  },
  {
   "cell_type": "markdown",
   "metadata": {},
   "source": [
    " "
   ]
  },
  {
   "cell_type": "markdown",
   "metadata": {},
   "source": [
    " ### Information Gain Entropy"
   ]
  },
  {
   "cell_type": "markdown",
   "metadata": {},
   "source": [
    "Entropy는 \"무질서의 정도\"를 나타내는 개념이다.<br>\n",
    "데이터의 Impurity가 높을 수록 Entropy도 커진다.<br> \n",
    "Entropy를 계산하는 식은 아래와 같다."
   ]
  },
  {
   "cell_type": "markdown",
   "metadata": {},
   "source": [
    " $ Entropy(A) = -\\sum^{m}_{k=1}p_k\\log_2(p_k)$"
   ]
  },
  {
   "cell_type": "markdown",
   "metadata": {},
   "source": [
    "Gini Impurity에서 사용했던 수면시간(분) 자료를 예시로 들어보면 아래와 같다.\n",
    "\n",
    "분할하기 이전 노드의 Entropy 값은 아래와 같다.<br>\n",
    "$Entropy($A$)  = -{2\\over6}\\log_{2}({2\\over6}) -{4\\over6}\\log_{2}({4\\over6})\\approx 0.918$\n",
    "\n",
    "수면시간 186.5분을 기준으로 분할 할 경우<br>\n",
    "\n",
    "R1지역은 Yes가 둘 No가 없음<br>\n",
    "R2지역은 Yes가 하나 No가 셋이므로...<br>\n",
    "\n",
    "$Entropy($R1$)  = -{2\\over2}\\log_{2}({2\\over2}) -{0\\over2}\\log_{2}({0\\over2})\\approx 0.000 $ <br>\n",
    "$Entropy($R2$)  = -{3\\over4}\\log_{2}({3\\over4}) -{1\\over4}\\log_{2}({1\\over4})\\approx 0.811$\n",
    "\n",
    "\n",
    "따라서!<br> \n",
    "$Entropy($R1$) * 0.25 + Entropy($R2$) * 0.75 \\approx 0.608$<br>\n",
    "...이다.\n",
    "\n",
    "수면시간 186.5분을 기준으로 분할하였을 때 이전 노드의 Entropy 값을 가장 많이 줄여주기 때문에 186.5분을 기준으로 분할한다.\n",
    "\n",
    "여기서 상위 노드(A)와 하위노드(R1, R2)간 Entropy 값의 차이를 Information Gain(정보이득)이라고 한다. \n",
    "\n",
    "Information Gain Entropy를 사용할 경우 이 정보이득을 극대화하는 방향으로 분할이 진행된다.\n",
    "\n"
   ]
  },
  {
   "cell_type": "markdown",
   "metadata": {},
   "source": [
    " "
   ]
  },
  {
   "cell_type": "markdown",
   "metadata": {},
   "source": [
    " "
   ]
  },
  {
   "cell_type": "markdown",
   "metadata": {},
   "source": [
    "# Regression Tree"
   ]
  },
  {
   "cell_type": "markdown",
   "metadata": {},
   "source": [
    "Regression Tree는 각 Leaf Node가 Numeric한 값을 갖는다."
   ]
  },
  {
   "cell_type": "markdown",
   "metadata": {},
   "source": [
    "<img src=\"img/RT_01_tree.PNG\">"
   ]
  },
  {
   "cell_type": "markdown",
   "metadata": {},
   "source": [
    "Regression Tree는 Impurity 계산에 <b>\"Residual의 제곱의 합\"</b>을 이용한다.\n",
    "\n",
    "RSS(Residual Sum of Squares) = (0 - 0)$^2$ + { (0 - 38.8)$^2$ + (0 - 38.8)$^2$ + (0 - 38.8)$^2$ + (5 - 38.8)$^2$ + $\\dots$ }\n",
    "\n",
    "이 RSS를 가장 작게하는 평균을 기준으로 분할하게 된다."
   ]
  },
  {
   "cell_type": "markdown",
   "metadata": {},
   "source": [
    "<img src=\"img/RT_02_tree.PNG\">"
   ]
  },
  {
   "cell_type": "markdown",
   "metadata": {},
   "source": [
    "첫 번째 분할이 끝나면 Region은 다음과 같이 재지정(R1, R2)된다. \n",
    "\n",
    "이제 두 번째 분할을 시도해보자. 위에서 진행했던 것처럼 R1과 R2에 대해서 Impurity를 계산한 뒤 각각의 Region에 맞는 분할선을 지정해주면된다.\n",
    "\n",
    "여기서 생각해볼 점이 있다.\n",
    "\n",
    "만일 분할을 끝까지 진행한다면 하나의 데이터가 하나의 Region을 갖는 Overfitting Problem이 발생할 수 있다.\n",
    "\n",
    "따라서 <span style=\"color:blue\">분할 후 재지정된 Region에 <u>일정 개수 미만의 데이터가 포함</u>되는 경우에는 <b>해당 Region을 Leaf Node로 처리하여 분할을 중단<b></span>하는 것이 필요하다.\n",
    "\n"
   ]
  },
  {
   "cell_type": "markdown",
   "metadata": {},
   "source": []
  },
  {
   "cell_type": "markdown",
   "metadata": {},
   "source": []
  },
  {
   "cell_type": "markdown",
   "metadata": {},
   "source": []
  },
  {
   "cell_type": "markdown",
   "metadata": {},
   "source": []
  },
  {
   "cell_type": "markdown",
   "metadata": {},
   "source": [
    "### How to handle overfitting problem?"
   ]
  },
  {
   "cell_type": "markdown",
   "metadata": {},
   "source": [
    "<b>Idea 1 :::</b> Find the optimal subtree by cross validation Cross Validation을 사용하여 가장 최적의 \n",
    "<br>$\\rightarrow$ 너무 많은 경우의 수가 존재하기 때문에 진행이 어렵다.\n",
    "\n",
    "<b>Idea 2 :::</b> Stop growing the tree when the RSS doesn't drop by more than a threshold with any new cut \n",
    "<br>$\\rightarrow$ 하지만 탐욕 알고리즘(greedy algorithm)이기 때문에 우선 Bad cut을 진행해야 Good cut을 얻을 수 있다.\n",
    "\n",
    "<b>Idea 3 :::</b> Prune a large tree from the leaves to the root \n",
    "<br>$\\rightarrow$ 이 방법이 가장 적합하다. Weakest Link Pruning과 Cost-Complexity function을 사용하며 자세한 설명은 아래에 있다."
   ]
  },
  {
   "cell_type": "markdown",
   "metadata": {},
   "source": [
    " "
   ]
  },
  {
   "cell_type": "markdown",
   "metadata": {},
   "source": [
    "#### Cost-Complexity Pruning (비용-복잡도 가지치기)"
   ]
  },
  {
   "cell_type": "markdown",
   "metadata": {},
   "source": [
    "이는 다시 말해서 <span style=\"color:red\"><b>Cost-Complexity Function을 사용</b></span>해서 <span style=\"color:red\"><b>Weakest Link를 찾은 다음</b></span> 해당 Link(노드)에서 <span style=\"color:red\"><b>Pruning 하는 것이다.</b></span>"
   ]
  },
  {
   "cell_type": "markdown",
   "metadata": {},
   "source": [
    "회귀함수에서 쓰는 Cost-Complexity Function은 아래와 같다.\n",
    "\n",
    "$R_{\\alpha}(T) = R(T) + \\alpha*|f(T)|$\n",
    "\n",
    "<br>\n",
    "\n",
    "여기서 $R(T)$는 <u>각 Region의 RSS를 더한 값</u>으로 아래와 같다.\n",
    "\n",
    "$\\sum_{i:x_i \\in R_m}(y_i - \\overline{\\rm y}_{R_m})^2 $"
   ]
  },
  {
   "cell_type": "markdown",
   "metadata": {},
   "source": [
    "가지치기를 할 때 이 Cost-Complexity Function으로 Tree 간의 차이를 구하게 된다.\n",
    "\n",
    "$R_{\\alpha}(T - T_t) - R_{\\alpha}(T)$ = $\\ulcorner$Pruned Tree's Cost-Complexity$\\lrcorner$ $-$ $\\ulcorner$Full Tree's Cost-Complexity$\\lrcorner$\n",
    "\n",
    "= $R(T - T_t) - R(T) + \\alpha(|f(T-T_t| - f|T|)$ \n",
    "\n",
    "= $R(t) - R(T_t)  + \\alpha(1 - |f(T_t)|)$\n",
    "\n",
    "따라서 두 값의 차이가 0 일 때의 $\\alpha$를 $\\alpha'$라고 하면\n",
    "\n",
    "$\\alpha' = {{R(t) - R(T_t)}\\over{|f(T_t)-1|}}$ 이다.\n",
    "\n",
    "$\\alpha$'는 <b>\"개별노드($t$)와 트리($T_t$)의 Error 차이\"</b>와 <b>\"트리($T_t$)와 개별노드($t$)간의 복잡도(Complexity) 차이\"</b>의 비율이다."
   ]
  },
  {
   "cell_type": "markdown",
   "metadata": {},
   "source": [
    " "
   ]
  },
  {
   "cell_type": "markdown",
   "metadata": {},
   "source": [
    "#### How pruning algorithm works?"
   ]
  },
  {
   "cell_type": "markdown",
   "metadata": {},
   "source": [
    "Pruning은 처음에 Full Tree로 시작을 한다.\n",
    "\n",
    "Full Tree는 Penalty parameter($\\alpha$)가 0인 상황에서 생성되므로 당연히 $\\alpha = 0$에서 시작을 한다."
   ]
  },
  {
   "cell_type": "markdown",
   "metadata": {},
   "source": [
    "첫 번째 단계에서는 $\\alpha'$ 즉 $g_{1}(t) = {{R(t) - R(T^{1}_{t})} \\over {|f(T^{1}_{t})|-1}}$ 을 최소화할 수 있는 subtree를 찾아서 pruning 하는 것이 목표이다.\n",
    "\n",
    "Let $t_1$ be this node.\n",
    "\n",
    "Let $\\alpha^2 = g_1(t_1)$ and $T^{2} = T^{1} - T^{1}_{t_1}$"
   ]
  },
  {
   "cell_type": "markdown",
   "metadata": {},
   "source": [
    "#### example"
   ]
  },
  {
   "cell_type": "markdown",
   "metadata": {},
   "source": [
    "<img src=\"img/RT_03_tree.PNG\">"
   ]
  },
  {
   "cell_type": "markdown",
   "metadata": {},
   "source": [
    "우선 Full Tree로 시작하기 때문에 $\\alpha^{(1)} = 0$으로 둔다."
   ]
  },
  {
   "cell_type": "markdown",
   "metadata": {},
   "source": [
    "| $t$ | $R(t)$ | $R(T_t)$ | $g(t)$ |\n",
    "| --- | --- | --- | --- |\n",
    "| $t_1$ | ${{8\\over16}*{16\\over16}} = {8 \\over 16}$ | $R(T_{t_1}) = 0$ | ${{8/16 - 0} \\over {4 - 1}} = {1 \\over 6}$ |\n",
    "| $t_2$ | ${4\\over12}*{12\\over16} = {4\\over16}$ | $R(T_{t_2}) = 0$ | ${{4/16 - 0} \\over {3 - 1}} = {1 \\over 8}$ |\n",
    "| $t_2$ | ${2\\over6}*{6\\over16} = {2\\over16}$ | $R(T_{t_3}) = 0$ | ${{2/16 - 0} \\over {3-1}} = {1 \\over 8}$ |"
   ]
  },
  {
   "cell_type": "markdown",
   "metadata": {},
   "source": [
    "Full Tree에서 각 Internal Node들 중 <span style=\"color:red\">가장 작은 $g(t)$를 가지는 Node</span>를 찾으면 된다.\n",
    "\n",
    "표를 보면 Node $t_2$와 $t_3$의 값이 가장 작다.\n",
    "\n",
    "이렇게 가장 낮은 값이 두 개 일 때에는 더 적은 Child Node를 가진 Internal Node를 Prune한다.\n",
    "\n",
    "따라서 $t_3$에서 가지치기(prune)를 하게되며 $\\alpha^{(2)}$의 값은 $1\\over8$이 된다."
   ]
  },
  {
   "cell_type": "markdown",
   "metadata": {},
   "source": [
    "<span style=\"color:blue\"><b>!! 근데 여기서 왜 가장 낮은 $g(t)$를 찾아야하는지 의문이 든다.</b> <br>\n",
    "$\\rightarrow$ 왜냐하면 가장 낮은 $g(t)$를 갖는 Node가 Weakest-Link이기 때문이다.</span>"
   ]
  },
  {
   "cell_type": "markdown",
   "metadata": {},
   "source": [
    "모든 Node t에 대해서 $t \\in T_1$가 성립하고, $R_\\alpha(t) = R(t) + \\alpha$라고 할 수 있다.\n",
    "\n",
    "모든 Subtree $T_t$에 대해서 $ R_{\\alpha}(T_t) = R(T_t) + \\alpha|\\tilde{T}_t|$라고 할 수 있다."
   ]
  },
  {
   "cell_type": "markdown",
   "metadata": {},
   "source": [
    "이 때 $\\alpha$ 값이 점점 커지는 상황에서 두 함수의 그래프를 그리면 보통 다음과 같은 모습을 보인다."
   ]
  },
  {
   "cell_type": "markdown",
   "metadata": {},
   "source": [
    "<img src=\"img/RT_05_tree.PNG\">"
   ]
  },
  {
   "cell_type": "markdown",
   "metadata": {},
   "source": [
    "만약 해당 Node에서 분할한 것보다($ R_{\\alpha}(T_t)$) 분할 하지 않은 것($R_\\alpha(t)$)의 Cost-Complexity가 더 낮다면 굳이 분할 해야할 이유가 없어진다."
   ]
  },
  {
   "cell_type": "markdown",
   "metadata": {},
   "source": []
  },
  {
   "cell_type": "markdown",
   "metadata": {},
   "source": []
  },
  {
   "cell_type": "markdown",
   "metadata": {},
   "source": [
    " "
   ]
  },
  {
   "cell_type": "markdown",
   "metadata": {},
   "source": [
    "$t_3$을 가지치기한 뒤의 그래프는 다음과 같다."
   ]
  },
  {
   "cell_type": "markdown",
   "metadata": {},
   "source": [
    "<img src=\"img/RT_04_tree.PNG\">"
   ]
  },
  {
   "cell_type": "markdown",
   "metadata": {},
   "source": [
    "이제는 더 이상 모든 Leaf Node가 Pure하다고 할 수 없게 되었다.\n",
    "\n"
   ]
  },
  {
   "cell_type": "markdown",
   "metadata": {},
   "source": []
  },
  {
   "cell_type": "code",
   "execution_count": 29,
   "metadata": {},
   "outputs": [],
   "source": [
    "from sklearn import datasets\n",
    "from sklearn.tree import DecisionTreeClassifier, DecisionTreeRegressor\n",
    "from sklearn.model_selection import train_test_split, cross_val_score\n",
    "from sklearn.metrics import accuracy_score\n",
    "\n",
    "import pandas as pd\n",
    "import numpy as np\n",
    "import matplotlib.pyplot as plt\n",
    "import seaborn as sns\n",
    "\n",
    "import warnings\n",
    "warnings.filterwarnings(\"ignore\")"
   ]
  },
  {
   "cell_type": "code",
   "execution_count": 3,
   "metadata": {},
   "outputs": [],
   "source": [
    "iris = datasets.load_iris()\n",
    "X = iris.data[:, :2]\n",
    "y = iris.target"
   ]
  },
  {
   "cell_type": "code",
   "execution_count": 9,
   "metadata": {},
   "outputs": [
    {
     "data": {
      "image/png": "[encoded data removed]",
      "text/plain": [
       "<Figure size 432x432 with 1 Axes>"
      ]
     },
     "metadata": {
      "needs_background": "light"
     },
     "output_type": "display_data"
    }
   ],
   "source": [
    "plt.figure(figsize = (6,6))\n",
    "sns.scatterplot([_[0] for _ in X], [_[1] for _ in X], hue = y)\n",
    "plt.title('Iris Data')\n",
    "plt.show()"
   ]
  },
  {
   "cell_type": "code",
   "execution_count": 10,
   "metadata": {},
   "outputs": [],
   "source": [
    "X_train, X_test, y_train, y_test = train_test_split(X, y, test_size=0.33, random_state=42)"
   ]
  },
  {
   "cell_type": "code",
   "execution_count": 21,
   "metadata": {},
   "outputs": [
    {
     "data": {
      "text/plain": [
       "DecisionTreeClassifier(class_weight=None, criterion='gini', max_depth=None,\n",
       "                       max_features=None, max_leaf_nodes=None,\n",
       "                       min_impurity_decrease=0.0, min_impurity_split=None,\n",
       "                       min_samples_leaf=1, min_samples_split=2,\n",
       "                       min_weight_fraction_leaf=0.0, presort=False,\n",
       "                       random_state=None, splitter='best')"
      ]
     },
     "execution_count": 21,
     "metadata": {},
     "output_type": "execute_result"
    }
   ],
   "source": [
    "DecisionTreeClassifier().fit(X,y)"
   ]
  },
  {
   "cell_type": "code",
   "execution_count": null,
   "metadata": {},
   "outputs": [],
   "source": []
  },
  {
   "cell_type": "code",
   "execution_count": null,
   "metadata": {},
   "outputs": [],
   "source": []
  },
  {
   "cell_type": "markdown",
   "metadata": {},
   "source": [
    "# CART (Classification And Regression Tree)"
   ]
  },
  {
   "cell_type": "code",
   "execution_count": null,
   "metadata": {},
   "outputs": [],
   "source": []
  },
  {
   "cell_type": "code",
   "execution_count": null,
   "metadata": {},
   "outputs": [],
   "source": []
  }
 ],
 "metadata": {
  "kernelspec": {
   "display_name": "dmqa_pytorch",
   "language": "python",
   "name": "dmqa_pytorch"
  },
  "language_info": {
   "codemirror_mode": {
    "name": "ipython",
    "version": 3
   },
   "file_extension": ".py",
   "mimetype": "text/x-python",
   "name": "python",
   "nbconvert_exporter": "python",
   "pygments_lexer": "ipython3",
   "version": "3.7.4"
  }
 },
 "nbformat": 4,
 "nbformat_minor": 2
}
