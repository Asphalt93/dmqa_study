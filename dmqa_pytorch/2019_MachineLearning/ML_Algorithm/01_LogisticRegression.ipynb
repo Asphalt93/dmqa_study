{
 "cells": [
  {
   "cell_type": "markdown",
   "metadata": {},
   "source": [
    "# Logistic Regression"
   ]
  },
  {
   "cell_type": "markdown",
   "metadata": {},
   "source": [
    "Logisitic Regression은 크게 <br>\n",
    "- Sigmoid function을 이용한 Binary Classification\n",
    "- Softmax function을 이용한 Multi Classification\n",
    "\n",
    "...으로 나눌 수 있다."
   ]
  },
  {
   "cell_type": "markdown",
   "metadata": {},
   "source": [
    "## Binomial Logistic Regression"
   ]
  },
  {
   "cell_type": "markdown",
   "metadata": {},
   "source": [
    "Binomial Logistic Regression에서는 Sigmoid function(= Logistic function)으로 Binary Classification을 한다.\n",
    "\n",
    "Sigmoid function($\\sigma = {1 \\over {1 + \\exp(-t)}}$)은 아래와 같은 모양을 가진다."
   ]
  },
  {
   "cell_type": "markdown",
   "metadata": {},
   "source": [
    "### Shape of Model"
   ]
  },
  {
   "cell_type": "code",
   "execution_count": 58,
   "metadata": {},
   "outputs": [
    {
     "data": {
      "image/png": "[encoded data removed]",
      "text/plain": [
       "<Figure size 720x576 with 1 Axes>"
      ]
     },
     "metadata": {
      "needs_background": "light"
     },
     "output_type": "display_data"
    }
   ],
   "source": [
    "import matplotlib.pyplot as plt\n",
    "import numpy as np\n",
    "\n",
    "def func_logistic(x,theta = 1): \n",
    "    return 1 / (1 + np.exp(-theta*x))\n",
    "\n",
    "x_data = np.linspace(-10,10,500)\n",
    "y_data = func_logistic(x_data)\n",
    "\n",
    "plt.figure(figsize = (10,8))\n",
    "plt.plot(x_data, y_data, 'bo')\n",
    "plt.hlines(0.5, xmin = -10, xmax = 10, linestyles='dashed' )\n",
    "plt.vlines(0,   ymin = 0,   ymax = 1,  linestyles='dashed' )\n",
    "plt.show()"
   ]
  },
  {
   "cell_type": "markdown",
   "metadata": {},
   "source": [
    "$X$값이 양(+)의 방향으로 커질 수록 $Y$값이 1에 가까워지고 <br>\n",
    "$X$값이 음(-)의 방향으로 커질 수록 $Y$값이 0에 가까워진다.\n",
    "\n",
    "따라서 $0 \\leq \\sigma \\leq 1$ 이다."
   ]
  },
  {
   "cell_type": "markdown",
   "metadata": {},
   "source": [
    "### The Origin of Logistic function\n",
    "\n",
    "::: 참고 ::: <br>\n",
    "https://mazdah.tistory.com/769<br>\n",
    "https://ratsgo.github.io/machine%20learning/2017/04/02/logistic/"
   ]
  },
  {
   "cell_type": "markdown",
   "metadata": {},
   "source": [
    "<span style=\"color:red\"> <b>그런데 이 Logistic function은 어떻게 만들어졌을까?</b></span>"
   ]
  },
  {
   "cell_type": "markdown",
   "metadata": {},
   "source": [
    "일단 우리는 회귀에서 사용한 모델($\\beta^{T} X$)을 종속변수 Y가 범주형인 분류 문제에 적용하는 중이다.\n",
    "\n",
    "하지만 연속형 자료를 예측하는 것과는 다르게 범주형 자료는 분류를 잘 맞추었는가의 문제이기 때문에 확률적인 개념이다.<br>\n",
    "<i>\"독립 변수의 선형 결합을 이용하여 사건의 발생 가능성을 예측하는데 사용되는 통계 기법\", 위키피디아</i>\n",
    "\n",
    "이 경우 다음과 같은 식을 구현하려는 것으로 볼 수 있다.\n",
    "\n",
    "$ P(x) = \\beta^{T} X$\n",
    "\n",
    "하지만 회귀에서 사용한 모델의 경우 결과값의 범위가 음의 무한대에서 양의 무한대이다.<br>\n",
    "반면 확률에서는 결과값의 범위가 0 이상 1 이하이다.\n",
    "\n",
    "따라서 결과값의 범위가 일치하도록 식을 조정할 필요가 있다.\n",
    "\n",
    "그래서 Probability랑 비슷하지만 조금 다른 Odds를 $P(x)$로 표현한다.\n",
    "\n",
    "다만, Odds에서는 결과 값의 범위가 0에서 양의 무한대이다.<br>\n",
    "아직 범위가 음의 무한대로는 확장되지 않았다. 하지만 $\\log$를 씌우는 순간 문제가 해결된다. $\\log$0은 정의되지 않은(undefined) 수로서 음의 무한대를 나타낼 수 있기 때문이다.\n",
    "\n",
    "$\\ln{P(x) \\over {1-P(x)}} = \\beta^{T} X$\n",
    "\n",
    "그 결과 양변의 두 식은 모두 결과 값의 범위를 \\[음의 무한대 ~ 양의 무한대\\]로 가지게 된다."
   ]
  },
  {
   "cell_type": "markdown",
   "metadata": {},
   "source": [
    " "
   ]
  },
  {
   "cell_type": "markdown",
   "metadata": {},
   "source": [
    "<span style=\"color:blue\">개념적으로 식은 완성을 했으니...! <b>이제 P(x)가 무엇으로 나오는지 까볼 시간이다.<b> </span>"
   ]
  },
  {
   "cell_type": "markdown",
   "metadata": {},
   "source": [
    " "
   ]
  },
  {
   "cell_type": "markdown",
   "metadata": {},
   "source": [
    "우선 P에 대한 함수로 만들어야하기 때문에 양변에 지수e를 취해주어 자연로그를 지워준다.\n",
    "\n",
    "${P(x) \\over {1-P(x)}} = e^{\\beta^{T}X}$\n",
    "\n",
    "$\\rightarrow P(x) = \\{1-P(x)\\} * e^{\\beta ^Tx} $\n",
    "\n",
    "$\\rightarrow P(x)\\{ 1+ e^{\\beta ^Tx} \\} = e^{\\beta ^Tx} $\n",
    "\n",
    "$\\rightarrow P(x) = {e^{\\beta ^Tx} \\over {1 + e^{\\beta ^Tx}}} $\n",
    "\n",
    "$\\rightarrow P(x) = {1 \\over {1 + e^{- \\beta ^Tx}}} $"
   ]
  },
  {
   "cell_type": "markdown",
   "metadata": {},
   "source": [
    "해당 식을 정리해주면 이렇게 Logistic function(=Sigmoid function)이 나오게 된다."
   ]
  },
  {
   "cell_type": "markdown",
   "metadata": {},
   "source": [
    " "
   ]
  },
  {
   "cell_type": "markdown",
   "metadata": {},
   "source": [
    "### Cost function"
   ]
  },
  {
   "cell_type": "markdown",
   "metadata": {},
   "source": [
    "Sigmoid Function은 non-convex하기 때문에 Linear Regression에서 사용한 cost function을 활용하여 Gradient Descent로 접근하기에는 힘들다.\n",
    "\n",
    "(Linear Regression의 Cost function) $\\rightarrow$ $$ J(\\theta)={1 \\over m}\\sum^{m}_{i=1}{1 \\over 2}(h_\\theta(x^{(i)})-y^{(i)})^2 $$\n",
    "\n",
    "왜냐하면 Linear Regression의 cost function 그래프는 convex한 반면 Logistic Regression은 Local Minima가 존재하기 때문이다.\n",
    "\n",
    "따라서 convex한 Cost function을 사용해야 한다."
   ]
  },
  {
   "cell_type": "markdown",
   "metadata": {},
   "source": [
    "#### Using Maximum Likelihood Estimation"
   ]
  },
  {
   "cell_type": "markdown",
   "metadata": {},
   "source": [
    "그 중 MLE로 Sigmoid Function의 파라미터($\\beta$)를 구하는 방법도 있다.\n",
    "\n",
    "Logistic Regression는 Bernoulli random distribution을 따르는 모델이다.\n",
    "\n",
    "그러므로 Logistic Regression의 종속변수는 성공(1) 또는 실패(0)에 대응하는 확률변수를 가지고 이는 0과 1사이의 값을 가진다."
   ]
  },
  {
   "cell_type": "markdown",
   "metadata": {},
   "source": [
    "Bernoulli random variable Y에 관한 Likelihood function은 다음과 같다.\n",
    "\n",
    "$ L = \\Pi_ip^{y_i}(1-p)^{1-y_i} $\n",
    "\n",
    "따라서 Logistic Regression의 Likelihood는 다음과 같다.\n",
    "\n",
    "$ L = \\Pi_i\\sigma({\\beta^T}x_i)^{y_i}\\{1- \\sigma(\\beta^Tx_i)\\}^{1-y_i} $\n",
    "\n",
    "여기서 계산을 편하게 하기 위해서 양변에 Log를 씌워준다. 즉, Log-Likelihood Function을 만들어주는 것이다.\n",
    "\n",
    "$\\ln L = \\sum_iy_i\\ln\\{\\sigma({\\beta^T}x_i)\\} + \\sum_i(1-y_i)\\ln \\{1- \\sigma(\\beta^Tx_i)\\}$"
   ]
  },
  {
   "cell_type": "markdown",
   "metadata": {},
   "source": [
    "로그는 단조 증가함수이기 때문에 로그-우도 함수(log-likelihood function)를 최대로 하는 파라미터는 동시에 로그-우도 함수를 최대화하는 파라미터이다."
   ]
  },
  {
   "cell_type": "markdown",
   "metadata": {},
   "source": [
    "로그-우도 함수의 $\\sigma$는 ${1 \\over {1 + \\exp(-\\beta^Tx_i)}}$이기 때문에\n",
    "\n",
    "$\\ln L = \\sum_iy_i\\ln\\{  {1 \\over {1 + \\exp(-\\beta^Tx_i)}}  \\} - \\sum_i(1-y_i)\\ln \\{{ \\exp(-\\beta^Tx_i) \\over {1 + \\exp(-\\beta^Tx_i)}}\\}$"
   ]
  },
  {
   "cell_type": "markdown",
   "metadata": {},
   "source": [
    "$\\ln L$을 최대화하는 $\\beta$를 찾기 위해서 $\\beta$로 미분을 진행한다. (Chain Rule 사용)"
   ]
  },
  {
   "cell_type": "markdown",
   "metadata": {},
   "source": [
    "${\\partial \\over {\\partial \\beta}}\\ln L = \\sum^{N}_{i=1}(y_i - \\sigma_i(x_i,\\beta))x_i$"
   ]
  },
  {
   "cell_type": "markdown",
   "metadata": {},
   "source": [
    "이 값은 $\\beta$에 대한 비선형 함수이기 때문에 Gradient Descent와 같은 수치적인 최적화 방법을 통해 최적의 파라미터($\\beta$)를 구해야 한다."
   ]
  },
  {
   "cell_type": "markdown",
   "metadata": {},
   "source": [
    "### Decision Boundary\n",
    "<i>SVM에서 다시 쓰이는 개념이다.</i>"
   ]
  },
  {
   "cell_type": "markdown",
   "metadata": {},
   "source": [
    "MLE(Maximum Likelihood Estimation;최대우도추정)로 찾은 최적의 parameter($\\beta$) 값을 가지고 Classification을 위한 Decision Boundary를 정할 수 있다. (MLE는 아래에서 다루도록 한다)\n",
    "\n",
    "예를 들어 Logit Model이 $\\beta_0 + \\beta_1x_1 + \\beta_2x_2$이고 최적화된 파라미터 값이 $\\beta$ = $[-3,1,1]$일 때 다음과 같은 Decision Boundary를 갖게 된다.\n",
    "\n",
    "$y = 1$ if $\\beta^Tx=-3 + x_1 + x_2  \\geq 0$\n",
    "\n",
    "따라서 아래와 같은 그래프를 그리게 된다."
   ]
  },
  {
   "cell_type": "markdown",
   "metadata": {},
   "source": [
    "<img src=\"img/LR_B_01.PNG\">"
   ]
  },
  {
   "cell_type": "markdown",
   "metadata": {},
   "source": [
    " "
   ]
  },
  {
   "cell_type": "markdown",
   "metadata": {},
   "source": [
    "## Multinomial Logistic Regression"
   ]
  },
  {
   "cell_type": "markdown",
   "metadata": {},
   "source": [
    "Multinomial Logistic Regression (=Softmax Regression)에서는 Normalized exponential function (= Softmax function)로 Multi Classification을 한다.\n",
    "\n",
    "Softmax는 Binary classification을 여러 번 결합한 결과다."
   ]
  },
  {
   "cell_type": "markdown",
   "metadata": {},
   "source": [
    "다음과 같은 데이터가 주어졌다고 하자."
   ]
  },
  {
   "cell_type": "markdown",
   "metadata": {},
   "source": [
    "<img src=\"img/LR_M_01.PNG\">\n",
    "\n",
    "범주가 네모(A), 동그라미(B), 세모(C)로 총 3개이다."
   ]
  },
  {
   "cell_type": "markdown",
   "metadata": {},
   "source": [
    "우선 <b>One-vs-All</b>로 적용해본다.\n",
    "\n",
    "이는 각각의 클래스(A,B,C)에 대한 Binary Logistic Regression을 훈련하여 해결한다.\n",
    "\n",
    "One-vs-All인 이유는 A(one)와 A$^c$(all)에 대한 Binary Classification을 진행하기 때문이다.\n",
    "\n",
    "따라서 분류를 할 때 아래와 같은 그래프를 그리게 된다."
   ]
  },
  {
   "cell_type": "markdown",
   "metadata": {},
   "source": [
    "<img src=\"img/LR_M_02.PNG\">\n",
    "\n",
    "이를 통해서 최적화된 파라미터를 가진 각 클래스에 대한 Binary Logisitic Regression식 $ h^{(i)}_\\theta(x) = P(y=i|X;\\theta), i = 1,2,3 $을 가질 수 있다.\n",
    "\n",
    "이에 예측하려는 값의 독립변수(x)를 각각의 $h_\\theta(x)$에 집어넣어서 가장 큰 확률을 반환하는 식의 클래스($\\max_ih_\\theta^{(i)}(x)$)를 선택하면 된다."
   ]
  },
  {
   "cell_type": "markdown",
   "metadata": {},
   "source": [
    "이 때 input data를 넣어 각 클래스 별 Binary Logistic Regression에서 반환된 값을 $s_k(x) k=1,2,3$이라고 하자.\n",
    "\n",
    "<b>Softmax function</b>은 클래스 별로 반환된 값을 모두 더하여 각 클래스 별로 반환된 값을 나누어 준다.<br>\n",
    "이에 대한 식은 아래에 있다.\n",
    "\n",
    "$\\hat{p}_k = {\\exp(s_k(x)) \\over \\sum^K_{j=1}\\exp(s_j(x))}$\n",
    "\n",
    "- K는 클래스의 수\n",
    "- $\\hat{p}_k$는 샘플 x에 대한 각 클래스의 점수가 주어졌을 때 이 샘플이 클래스 K에 속할 추정된 확률\n",
    "\n",
    "반환된 값의 총 합을 나누어주기 때문에 Softmax function을 통해서 나온 확률들의 총 합은 1이다.\n",
    "\n",
    "반환된 값 중 가장 큰 값을 낸 클래스로 분류가 된다."
   ]
  },
  {
   "cell_type": "markdown",
   "metadata": {},
   "source": [
    "*** 다만, Softmax Regression은 한 번에 하나의 클래스만 예측을 할 수 있다. 따라서 모든 클래스의 항목이 포함된 이미지(예를 들어 배, 오렌지 등을 분류하도록 학습했으나 과일 바구니 그림이 나온 경우)는 Binary Logistic Regression을 여러 개 사용해야 한다."
   ]
  },
  {
   "cell_type": "markdown",
   "metadata": {},
   "source": [
    "#### Cost function"
   ]
  },
  {
   "cell_type": "markdown",
   "metadata": {},
   "source": [
    "Softmax Regression의 Cross Entropy cost function을 최소화하는 것으로 타깃 클래스에 대해 낮은 확률을 예측하는 모델을 억제할 수 있다.\n",
    "\n",
    "Cross Entropy의 식은 아래와 같다."
   ]
  },
  {
   "cell_type": "markdown",
   "metadata": {},
   "source": [
    "$$ J(\\Theta) = -{1 \\over m}\\sum^m_{i=1}\\sum^K_{k=1}y^{(i)}_k\\log(\\hat{p}^{(i)}_k) $$\n",
    "\n",
    "\n",
    "* $i$번째 샘플에 대한 타깃 클래스가 k일 때 $y^{(i)}_k$가 1이고, 그 외에는 0이다.\n",
    "\n",
    "따라서 클래스가 두 개 뿐 일 때에는 Binary Logistic Regression의 cost function과 같아진다."
   ]
  },
  {
   "cell_type": "code",
   "execution_count": 27,
   "metadata": {},
   "outputs": [
    {
     "data": {
      "image/png": "[encoded data removed]",
      "text/plain": [
       "<Figure size 576x432 with 1 Axes>"
      ]
     },
     "metadata": {
      "needs_background": "light"
     },
     "output_type": "display_data"
    }
   ],
   "source": [
    "data_x = np.linspace(0,10,1000)\n",
    "data_y = -(np.log(data_x))\n",
    "\n",
    "plt.figure(figsize=(8,6))\n",
    "plt.plot(data_x, data_y)\n",
    "plt.hlines(0, xmin = 0, xmax = 10, colors='r')\n",
    "plt.show()"
   ]
  },
  {
   "cell_type": "markdown",
   "metadata": {},
   "source": [
    "<img src=\"img/LR_M_04.PNG\">\n",
    "\n"
   ]
  },
  {
   "cell_type": "markdown",
   "metadata": {},
   "source": [
    "이후 파라미터($\\theta$)에 대한 미분을 한 식을 최소화하는 값을 Gradient Descent로 찾아내면 Cost function을 최소화할 수 있다."
   ]
  },
  {
   "cell_type": "markdown",
   "metadata": {},
   "source": [
    " "
   ]
  },
  {
   "cell_type": "markdown",
   "metadata": {},
   "source": [
    "# 참고 노트"
   ]
  },
  {
   "cell_type": "markdown",
   "metadata": {},
   "source": [
    "### 승산(odds)\n",
    "\n",
    "- 성공 확률을 p로 정의할 때, 실패 대비 성공할 확률의 비율 (두 확률의 비율)\n",
    "\n",
    "\n",
    "$ Odd = {p \\over 1-p} $\n",
    "\n",
    "$ p = 1 \\rightarrow odd = \\infty $ <br>\n",
    "$ p = 0 \\rightarrow odd = 0 $<br>\n",
    "\n",
    "예시)<br>\n",
    "프랑스의 우승 odds는 2/11<br>\n",
    "프랑스의 우승 확률은 2/(2+11) = 2/13 = 0.15(15%)"
   ]
  },
  {
   "cell_type": "markdown",
   "metadata": {},
   "source": [
    " "
   ]
  },
  {
   "cell_type": "markdown",
   "metadata": {},
   "source": [
    "### $\\beta_1$의 해석\n",
    "로지스틱 회귀모델의 $\\beta_1$ 해석을 용이하게 하기 위하여 Odd 개념을 사용한다."
   ]
  },
  {
   "cell_type": "markdown",
   "metadata": {},
   "source": [
    "여기서 $ \\pi $는 로지스틱 회귀모델의 확률을 의미한다.<br>\n",
    "\n",
    "$ \\pi(X = x) = {1\\over1+e^{-(\\beta_0+\\beta_1x)}} \\hspace{1cm} 0 \\leq \\pi(X = x) \\leq 1 $ <br><br>\n",
    "\n",
    "\n",
    "따라서 이 경우 Odds는 <b> 범주 0에 속할 확률 대비 범주 1에 속할 확률</b>이다.\n",
    "\n",
    "$ Odds = {{\\pi(X = x)} \\over {1-\\pi(X = x)}} $ <br><br>\n",
    "\n",
    "\n",
    "<span style='color:blue'><b>Logit Transform (로짓 변환)</b></span><br>\n",
    "\n",
    "$ log(Odds) = log\\Big({{\\pi(X = x)} \\over {1-\\pi(X = x)}}\\Big) = log\\bigg({{{{1\\over1+e^{-(\\beta_0+\\beta_1x)}}}} \\over {1 - {1\\over1+e^{-(\\beta_0+\\beta_1x)}}}}\\bigg) = \\beta_0 + \\beta_1x$ \n",
    "\n",
    "그래서 $\\beta_1$은 x가 한 단위 증가했을 때 log(odds)의 증가량으로 볼 수 있다.\n",
    "\n",
    "성공 확률 $\\pi(x)$에 따른 $log(Odds)$는 다음과 같다. <br>\n",
    "$\\pi(x)\\rightarrow1,\\hspace{1cm} log(Odds)\\rightarrow\\infty$<br>\n",
    "$\\pi(x)\\rightarrow0.5, \\hspace{1cm}log(Odds)\\rightarrow0$<br>\n",
    "$\\pi(x)\\rightarrow0, \\hspace{1cm}log(Odds)\\rightarrow-\\infty$<br>\n",
    "\n"
   ]
  },
  {
   "cell_type": "markdown",
   "metadata": {},
   "source": [
    "### 파라미터 추정\n",
    "\n",
    "####  로지스틱 회귀모델 학습 \\#1: 최대우도추정법(Maximum Likelihood Estimation)\n",
    "(로지스틱 회귀모델의 파라미터는 $\\beta$ 값들이다)\n",
    "\n",
    "로지스틱 회귀모델은 이진 분류이기 때문에 베르누이 확률 함수로 볼 수 있다.\n",
    "\n",
    "베르누이 확률 함수는 다음과 같다.<br>\n",
    "$f_i(y_i) = \\pi(x_i)^{y_i}(1-\\pi(x_i))^{1-y_i}, i=1,2,\\dots,n$\n",
    "\n",
    "정의한 베르누이 확률함수에 대한 Likelihood 함수는 다음과 같다. \n",
    "<br>\n",
    "$$L = \\prod_{i}f_i(y_i) = \\prod_{i}\\pi(x_i)^{y_i}{(1-\\pi(x_i))}^{1-yi}$$\n",
    "\n",
    "로그를 취해서 보기 편하게 한다. (로그-우도함수 log-likelihood function)<br>\n",
    "$ lnL = ln \\Bigg[ \\prod_{i}\\pi(x_i)^{y_i}{(1-\\pi(x_i))}^{1-yi}   \\Bigg]$ <br>\n",
    "$ = ln\\prod_{i}\\bigg[  {\\pi(x_i) \\over {1-\\pi(x_i)}} \\bigg]^{y_i} + \\Sigma_iln(1-\\pi(x_i))$<br>\n",
    "$ = \\Sigma_iy_i(\\beta_0 + \\beta_1X_1 + \\dots + \\beta_pX_p) + \\Sigma_iln(1 + e^{\\beta_0 + \\beta_1X_1 + \\dots + \\beta_pX_p}) $"
   ]
  },
  {
   "cell_type": "markdown",
   "metadata": {},
   "source": [
    "...이를 통해 <br>\n",
    "- 로그-우도함수가 최대가 되는 파라미터 $\\beta$ 결정\n",
    "- 로그-우도함수는 파라미터 $\\beta$에 대해 비선형이므로 선형회귀 모델과 같이 명시적인 해가 존재하지 않는다.\n",
    "- iterative reweight least square, Conjugate gradient, Newtons's method 등의 수치 최적화 알고리즘을 이용하여 해를 구한다."
   ]
  },
  {
   "cell_type": "markdown",
   "metadata": {},
   "source": [
    "#### 로지스틱 회귀모델 학습 \\#2: Cross entropy"
   ]
  },
  {
   "cell_type": "markdown",
   "metadata": {},
   "source": [
    "- Cross entropy: 두 확률 분포 (p(x),q(x))의 차이<br>\n",
    "Cross entropy = - $\\Sigma$ p(x) log q(x)\n",
    "\n",
    "\n",
    "- Cross entropy: 음의 log likelihood fuction의 기대값 \n",
    "<br>\n",
    "\n",
    "- Log likelihood function을 최대 = 입력 분포 p(x)와 파라미터가 주어졌을 때, 출력 분포 q(x)의 확률을 최대\n",
    "<br>\n",
    "\n",
    "- Cross entropy를 최소 = 입력 분포 p(x)와 출력 분포q(x)의 차이를 최소\n",
    "<br>\n",
    "\n",
    "- Log likelihood function을 최대 = cross entropy를 최소 (결국 두 방법의 답은 같게 나온다!)"
   ]
  },
  {
   "cell_type": "markdown",
   "metadata": {},
   "source": [
    "### 이진 분류를 위한 기준값(threshold) 설정\n",
    "\n",
    "- 일반적으로 0.5 사용\n",
    "\n",
    "- 예측하려는 대상에 따라서 기준값을 다르게 설정. <br> \n",
    "예를 들어... 불량 예측, 희귀환자 예측, 사기카드 예측 ... 처럼 성공 범주의 비중이 낮을 때에는 기준값을 낮게 설정한다."
   ]
  },
  {
   "cell_type": "markdown",
   "metadata": {},
   "source": [
    "### 결과 및 해석"
   ]
  },
  {
   "cell_type": "markdown",
   "metadata": {},
   "source": [
    "(1) 선형회귀모델 :: 입력변수가 1단위 증가할 때 출력변수의 변화량<br>\n",
    "(2) 로지스틱회귀모델 :: 입력변수가 1단위 증가할 때 로그아드의 변화량"
   ]
  },
  {
   "cell_type": "markdown",
   "metadata": {},
   "source": [
    "#### 승산 비율: Odds Ratio\n",
    "\n",
    "- 나머지 입력변수는 모두 고정시킨 상태에서 한 변수를 1단위 증가시켰을 때 변화하는 Odds의 비율\n",
    "\n",
    "$$ {{odds(x_1 + 1, x_2, \\dots, x_n)} \\over {odds(x_1,x_2,\\dots,x_n)}} = e^(\\beta_1) $$\n",
    "\n",
    "- $x_i$이 1단위 증가하면 성공에 대한 승산 비율이 $e^{\\beta_1}$만큼 변화함\n",
    "\n",
    "- 회귀 계수가 양수 $\\rightarrow$ 성공확률 증가 (성공확률 >= 1)\n",
    "\n",
    "- 회귀 계수가 음수 $\\rightarrow$ 성공확률 감수 (0 <= 성공확률 < 1)"
   ]
  },
  {
   "cell_type": "markdown",
   "metadata": {},
   "source": [
    "## Scikit-Learn을 이용한 데이터 분석"
   ]
  },
  {
   "cell_type": "code",
   "execution_count": 14,
   "metadata": {},
   "outputs": [],
   "source": [
    "from sklearn.linear_model import LogisticRegression\n",
    "from sklearn.model_selection import train_test_split, cross_val_score, StratifiedKFold\n",
    "from sklearn.feature_selection import RFECV\n",
    "from sklearn.metrics import roc_auc_score, accuracy_score, recall_score, precision_score\n",
    "import matplotlib.pyplot as plt\n",
    "import seaborn as sns\n",
    "import pandas as pd\n",
    "import operator\n",
    "import statsmodels.api as sm \n",
    "\n",
    "import warnings\n",
    "warnings.filterwarnings(\"ignore\")"
   ]
  },
  {
   "cell_type": "code",
   "execution_count": 2,
   "metadata": {},
   "outputs": [],
   "source": [
    "df = pd.read_csv('data/german_credit.csv')"
   ]
  },
  {
   "cell_type": "code",
   "execution_count": 3,
   "metadata": {},
   "outputs": [
    {
     "data": {
      "text/html": [
       "<div>\n",
       "<style scoped>\n",
       "    .dataframe tbody tr th:only-of-type {\n",
       "        vertical-align: middle;\n",
       "    }\n",
       "\n",
       "    .dataframe tbody tr th {\n",
       "        vertical-align: top;\n",
       "    }\n",
       "\n",
       "    .dataframe thead th {\n",
       "        text-align: right;\n",
       "    }\n",
       "</style>\n",
       "<table border=\"1\" class=\"dataframe\">\n",
       "  <thead>\n",
       "    <tr style=\"text-align: right;\">\n",
       "      <th></th>\n",
       "      <th>default</th>\n",
       "      <th>account_check_status</th>\n",
       "      <th>duration_in_month</th>\n",
       "      <th>credit_history</th>\n",
       "      <th>purpose</th>\n",
       "      <th>credit_amount</th>\n",
       "      <th>savings</th>\n",
       "      <th>present_emp_since</th>\n",
       "      <th>installment_as_income_perc</th>\n",
       "      <th>personal_status_sex</th>\n",
       "      <th>...</th>\n",
       "      <th>present_res_since</th>\n",
       "      <th>property</th>\n",
       "      <th>age</th>\n",
       "      <th>other_installment_plans</th>\n",
       "      <th>housing</th>\n",
       "      <th>credits_this_bank</th>\n",
       "      <th>job</th>\n",
       "      <th>people_under_maintenance</th>\n",
       "      <th>telephone</th>\n",
       "      <th>foreign_worker</th>\n",
       "    </tr>\n",
       "  </thead>\n",
       "  <tbody>\n",
       "    <tr>\n",
       "      <td>0</td>\n",
       "      <td>0</td>\n",
       "      <td>&lt; 0 DM</td>\n",
       "      <td>6</td>\n",
       "      <td>critical account/ other credits existing (not ...</td>\n",
       "      <td>domestic appliances</td>\n",
       "      <td>1169</td>\n",
       "      <td>unknown/ no savings account</td>\n",
       "      <td>.. &gt;= 7 years</td>\n",
       "      <td>4</td>\n",
       "      <td>male : single</td>\n",
       "      <td>...</td>\n",
       "      <td>4</td>\n",
       "      <td>real estate</td>\n",
       "      <td>67</td>\n",
       "      <td>none</td>\n",
       "      <td>own</td>\n",
       "      <td>2</td>\n",
       "      <td>skilled employee / official</td>\n",
       "      <td>1</td>\n",
       "      <td>yes, registered under the customers name</td>\n",
       "      <td>yes</td>\n",
       "    </tr>\n",
       "    <tr>\n",
       "      <td>1</td>\n",
       "      <td>1</td>\n",
       "      <td>0 &lt;= ... &lt; 200 DM</td>\n",
       "      <td>48</td>\n",
       "      <td>existing credits paid back duly till now</td>\n",
       "      <td>domestic appliances</td>\n",
       "      <td>5951</td>\n",
       "      <td>... &lt; 100 DM</td>\n",
       "      <td>1 &lt;= ... &lt; 4 years</td>\n",
       "      <td>2</td>\n",
       "      <td>female : divorced/separated/married</td>\n",
       "      <td>...</td>\n",
       "      <td>2</td>\n",
       "      <td>real estate</td>\n",
       "      <td>22</td>\n",
       "      <td>none</td>\n",
       "      <td>own</td>\n",
       "      <td>1</td>\n",
       "      <td>skilled employee / official</td>\n",
       "      <td>1</td>\n",
       "      <td>none</td>\n",
       "      <td>yes</td>\n",
       "    </tr>\n",
       "    <tr>\n",
       "      <td>2</td>\n",
       "      <td>0</td>\n",
       "      <td>no checking account</td>\n",
       "      <td>12</td>\n",
       "      <td>critical account/ other credits existing (not ...</td>\n",
       "      <td>(vacation - does not exist?)</td>\n",
       "      <td>2096</td>\n",
       "      <td>... &lt; 100 DM</td>\n",
       "      <td>4 &lt;= ... &lt; 7 years</td>\n",
       "      <td>2</td>\n",
       "      <td>male : single</td>\n",
       "      <td>...</td>\n",
       "      <td>3</td>\n",
       "      <td>real estate</td>\n",
       "      <td>49</td>\n",
       "      <td>none</td>\n",
       "      <td>own</td>\n",
       "      <td>1</td>\n",
       "      <td>unskilled - resident</td>\n",
       "      <td>2</td>\n",
       "      <td>none</td>\n",
       "      <td>yes</td>\n",
       "    </tr>\n",
       "  </tbody>\n",
       "</table>\n",
       "<p>3 rows × 21 columns</p>\n",
       "</div>"
      ],
      "text/plain": [
       "   default account_check_status  duration_in_month  \\\n",
       "0        0               < 0 DM                  6   \n",
       "1        1    0 <= ... < 200 DM                 48   \n",
       "2        0  no checking account                 12   \n",
       "\n",
       "                                      credit_history  \\\n",
       "0  critical account/ other credits existing (not ...   \n",
       "1           existing credits paid back duly till now   \n",
       "2  critical account/ other credits existing (not ...   \n",
       "\n",
       "                        purpose  credit_amount                      savings  \\\n",
       "0           domestic appliances           1169  unknown/ no savings account   \n",
       "1           domestic appliances           5951                 ... < 100 DM   \n",
       "2  (vacation - does not exist?)           2096                 ... < 100 DM   \n",
       "\n",
       "    present_emp_since  installment_as_income_perc  \\\n",
       "0       .. >= 7 years                           4   \n",
       "1  1 <= ... < 4 years                           2   \n",
       "2  4 <= ... < 7 years                           2   \n",
       "\n",
       "                   personal_status_sex  ... present_res_since     property  \\\n",
       "0                        male : single  ...                 4  real estate   \n",
       "1  female : divorced/separated/married  ...                 2  real estate   \n",
       "2                        male : single  ...                 3  real estate   \n",
       "\n",
       "  age  other_installment_plans housing credits_this_bank  \\\n",
       "0  67                     none     own                 2   \n",
       "1  22                     none     own                 1   \n",
       "2  49                     none     own                 1   \n",
       "\n",
       "                           job people_under_maintenance  \\\n",
       "0  skilled employee / official                        1   \n",
       "1  skilled employee / official                        1   \n",
       "2         unskilled - resident                        2   \n",
       "\n",
       "                                   telephone foreign_worker  \n",
       "0  yes, registered under the customers name             yes  \n",
       "1                                       none            yes  \n",
       "2                                       none            yes  \n",
       "\n",
       "[3 rows x 21 columns]"
      ]
     },
     "execution_count": 3,
     "metadata": {},
     "output_type": "execute_result"
    }
   ],
   "source": [
    "df.head(3)"
   ]
  },
  {
   "cell_type": "code",
   "execution_count": 4,
   "metadata": {
    "scrolled": false
   },
   "outputs": [
    {
     "name": "stdout",
     "output_type": "stream",
     "text": [
      "<class 'pandas.core.frame.DataFrame'>\n",
      "RangeIndex: 1000 entries, 0 to 999\n",
      "Data columns (total 21 columns):\n",
      "default                       1000 non-null int64\n",
      "account_check_status          1000 non-null object\n",
      "duration_in_month             1000 non-null int64\n",
      "credit_history                1000 non-null object\n",
      "purpose                       1000 non-null object\n",
      "credit_amount                 1000 non-null int64\n",
      "savings                       1000 non-null object\n",
      "present_emp_since             1000 non-null object\n",
      "installment_as_income_perc    1000 non-null int64\n",
      "personal_status_sex           1000 non-null object\n",
      "other_debtors                 1000 non-null object\n",
      "present_res_since             1000 non-null int64\n",
      "property                      1000 non-null object\n",
      "age                           1000 non-null int64\n",
      "other_installment_plans       1000 non-null object\n",
      "housing                       1000 non-null object\n",
      "credits_this_bank             1000 non-null int64\n",
      "job                           1000 non-null object\n",
      "people_under_maintenance      1000 non-null int64\n",
      "telephone                     1000 non-null object\n",
      "foreign_worker                1000 non-null object\n",
      "dtypes: int64(8), object(13)\n",
      "memory usage: 164.2+ KB\n"
     ]
    }
   ],
   "source": [
    "df.info()"
   ]
  },
  {
   "cell_type": "code",
   "execution_count": 20,
   "metadata": {},
   "outputs": [
    {
     "data": {
      "text/plain": [
       "0    700\n",
       "1    300\n",
       "Name: default, dtype: int64"
      ]
     },
     "execution_count": 20,
     "metadata": {},
     "output_type": "execute_result"
    }
   ],
   "source": [
    "df.default.value_counts()"
   ]
  },
  {
   "cell_type": "code",
   "execution_count": 5,
   "metadata": {
    "scrolled": false
   },
   "outputs": [
    {
     "data": {
      "text/plain": [
       "['account_check_status',\n",
       " 'credit_history',\n",
       " 'purpose',\n",
       " 'savings',\n",
       " 'present_emp_since',\n",
       " 'personal_status_sex',\n",
       " 'other_debtors',\n",
       " 'property',\n",
       " 'other_installment_plans',\n",
       " 'housing',\n",
       " 'job',\n",
       " 'telephone',\n",
       " 'foreign_worker']"
      ]
     },
     "execution_count": 5,
     "metadata": {},
     "output_type": "execute_result"
    }
   ],
   "source": [
    "nominal_col = df.dtypes[df.dtypes == 'object'].index.tolist()\n",
    "nominal_col"
   ]
  },
  {
   "cell_type": "code",
   "execution_count": 6,
   "metadata": {},
   "outputs": [],
   "source": [
    "df_bin = df.drop(nominal_col, axis = 1)"
   ]
  },
  {
   "cell_type": "code",
   "execution_count": 7,
   "metadata": {},
   "outputs": [
    {
     "data": {
      "text/html": [
       "<div>\n",
       "<style scoped>\n",
       "    .dataframe tbody tr th:only-of-type {\n",
       "        vertical-align: middle;\n",
       "    }\n",
       "\n",
       "    .dataframe tbody tr th {\n",
       "        vertical-align: top;\n",
       "    }\n",
       "\n",
       "    .dataframe thead th {\n",
       "        text-align: right;\n",
       "    }\n",
       "</style>\n",
       "<table border=\"1\" class=\"dataframe\">\n",
       "  <thead>\n",
       "    <tr style=\"text-align: right;\">\n",
       "      <th></th>\n",
       "      <th>default</th>\n",
       "      <th>duration_in_month</th>\n",
       "      <th>credit_amount</th>\n",
       "      <th>installment_as_income_perc</th>\n",
       "      <th>present_res_since</th>\n",
       "      <th>age</th>\n",
       "      <th>credits_this_bank</th>\n",
       "      <th>people_under_maintenance</th>\n",
       "    </tr>\n",
       "  </thead>\n",
       "  <tbody>\n",
       "    <tr>\n",
       "      <td>0</td>\n",
       "      <td>0</td>\n",
       "      <td>6</td>\n",
       "      <td>1169</td>\n",
       "      <td>4</td>\n",
       "      <td>4</td>\n",
       "      <td>67</td>\n",
       "      <td>2</td>\n",
       "      <td>1</td>\n",
       "    </tr>\n",
       "    <tr>\n",
       "      <td>1</td>\n",
       "      <td>1</td>\n",
       "      <td>48</td>\n",
       "      <td>5951</td>\n",
       "      <td>2</td>\n",
       "      <td>2</td>\n",
       "      <td>22</td>\n",
       "      <td>1</td>\n",
       "      <td>1</td>\n",
       "    </tr>\n",
       "    <tr>\n",
       "      <td>2</td>\n",
       "      <td>0</td>\n",
       "      <td>12</td>\n",
       "      <td>2096</td>\n",
       "      <td>2</td>\n",
       "      <td>3</td>\n",
       "      <td>49</td>\n",
       "      <td>1</td>\n",
       "      <td>2</td>\n",
       "    </tr>\n",
       "  </tbody>\n",
       "</table>\n",
       "</div>"
      ],
      "text/plain": [
       "   default  duration_in_month  credit_amount  installment_as_income_perc  \\\n",
       "0        0                  6           1169                           4   \n",
       "1        1                 48           5951                           2   \n",
       "2        0                 12           2096                           2   \n",
       "\n",
       "   present_res_since  age  credits_this_bank  people_under_maintenance  \n",
       "0                  4   67                  2                         1  \n",
       "1                  2   22                  1                         1  \n",
       "2                  3   49                  1                         2  "
      ]
     },
     "execution_count": 7,
     "metadata": {},
     "output_type": "execute_result"
    }
   ],
   "source": [
    "df_bin.head(3)"
   ]
  },
  {
   "cell_type": "code",
   "execution_count": 8,
   "metadata": {
    "scrolled": true
   },
   "outputs": [
    {
     "name": "stdout",
     "output_type": "stream",
     "text": [
      "account_check_status is merged.\n",
      "credit_history is merged.\n",
      "purpose is merged.\n",
      "savings is merged.\n",
      "present_emp_since is merged.\n",
      "personal_status_sex is merged.\n",
      "other_debtors is merged.\n",
      "property is merged.\n",
      "other_installment_plans is merged.\n",
      "housing is merged.\n",
      "job is merged.\n",
      "telephone is merged.\n",
      "foreign_worker is merged.\n"
     ]
    }
   ],
   "source": [
    "for c in nominal_col:\n",
    "    tmp_df = pd.get_dummies(df[c])\n",
    "    tmp_df.columns = [c+'_'+d for d in tmp_df.columns]\n",
    "    df_bin = pd.merge(df_bin, tmp_df, left_index=True, right_index=True, how= 'left')\n",
    "    print(\"{} is merged.\".format(c))"
   ]
  },
  {
   "cell_type": "code",
   "execution_count": 9,
   "metadata": {},
   "outputs": [
    {
     "data": {
      "text/html": [
       "<div>\n",
       "<style scoped>\n",
       "    .dataframe tbody tr th:only-of-type {\n",
       "        vertical-align: middle;\n",
       "    }\n",
       "\n",
       "    .dataframe tbody tr th {\n",
       "        vertical-align: top;\n",
       "    }\n",
       "\n",
       "    .dataframe thead th {\n",
       "        text-align: right;\n",
       "    }\n",
       "</style>\n",
       "<table border=\"1\" class=\"dataframe\">\n",
       "  <thead>\n",
       "    <tr style=\"text-align: right;\">\n",
       "      <th></th>\n",
       "      <th>default</th>\n",
       "      <th>duration_in_month</th>\n",
       "      <th>credit_amount</th>\n",
       "      <th>installment_as_income_perc</th>\n",
       "      <th>present_res_since</th>\n",
       "      <th>age</th>\n",
       "      <th>credits_this_bank</th>\n",
       "      <th>people_under_maintenance</th>\n",
       "      <th>account_check_status_0 &lt;= ... &lt; 200 DM</th>\n",
       "      <th>account_check_status_&lt; 0 DM</th>\n",
       "      <th>...</th>\n",
       "      <th>housing_own</th>\n",
       "      <th>housing_rent</th>\n",
       "      <th>job_management/ self-employed/ highly qualified employee/ officer</th>\n",
       "      <th>job_skilled employee / official</th>\n",
       "      <th>job_unemployed/ unskilled - non-resident</th>\n",
       "      <th>job_unskilled - resident</th>\n",
       "      <th>telephone_none</th>\n",
       "      <th>telephone_yes, registered under the customers name</th>\n",
       "      <th>foreign_worker_no</th>\n",
       "      <th>foreign_worker_yes</th>\n",
       "    </tr>\n",
       "  </thead>\n",
       "  <tbody>\n",
       "    <tr>\n",
       "      <td>0</td>\n",
       "      <td>0</td>\n",
       "      <td>6</td>\n",
       "      <td>1169</td>\n",
       "      <td>4</td>\n",
       "      <td>4</td>\n",
       "      <td>67</td>\n",
       "      <td>2</td>\n",
       "      <td>1</td>\n",
       "      <td>0</td>\n",
       "      <td>1</td>\n",
       "      <td>...</td>\n",
       "      <td>1</td>\n",
       "      <td>0</td>\n",
       "      <td>0</td>\n",
       "      <td>1</td>\n",
       "      <td>0</td>\n",
       "      <td>0</td>\n",
       "      <td>0</td>\n",
       "      <td>1</td>\n",
       "      <td>0</td>\n",
       "      <td>1</td>\n",
       "    </tr>\n",
       "    <tr>\n",
       "      <td>1</td>\n",
       "      <td>1</td>\n",
       "      <td>48</td>\n",
       "      <td>5951</td>\n",
       "      <td>2</td>\n",
       "      <td>2</td>\n",
       "      <td>22</td>\n",
       "      <td>1</td>\n",
       "      <td>1</td>\n",
       "      <td>1</td>\n",
       "      <td>0</td>\n",
       "      <td>...</td>\n",
       "      <td>1</td>\n",
       "      <td>0</td>\n",
       "      <td>0</td>\n",
       "      <td>1</td>\n",
       "      <td>0</td>\n",
       "      <td>0</td>\n",
       "      <td>1</td>\n",
       "      <td>0</td>\n",
       "      <td>0</td>\n",
       "      <td>1</td>\n",
       "    </tr>\n",
       "    <tr>\n",
       "      <td>2</td>\n",
       "      <td>0</td>\n",
       "      <td>12</td>\n",
       "      <td>2096</td>\n",
       "      <td>2</td>\n",
       "      <td>3</td>\n",
       "      <td>49</td>\n",
       "      <td>1</td>\n",
       "      <td>2</td>\n",
       "      <td>0</td>\n",
       "      <td>0</td>\n",
       "      <td>...</td>\n",
       "      <td>1</td>\n",
       "      <td>0</td>\n",
       "      <td>0</td>\n",
       "      <td>0</td>\n",
       "      <td>0</td>\n",
       "      <td>1</td>\n",
       "      <td>1</td>\n",
       "      <td>0</td>\n",
       "      <td>0</td>\n",
       "      <td>1</td>\n",
       "    </tr>\n",
       "  </tbody>\n",
       "</table>\n",
       "<p>3 rows × 62 columns</p>\n",
       "</div>"
      ],
      "text/plain": [
       "   default  duration_in_month  credit_amount  installment_as_income_perc  \\\n",
       "0        0                  6           1169                           4   \n",
       "1        1                 48           5951                           2   \n",
       "2        0                 12           2096                           2   \n",
       "\n",
       "   present_res_since  age  credits_this_bank  people_under_maintenance  \\\n",
       "0                  4   67                  2                         1   \n",
       "1                  2   22                  1                         1   \n",
       "2                  3   49                  1                         2   \n",
       "\n",
       "   account_check_status_0 <= ... < 200 DM  account_check_status_< 0 DM  ...  \\\n",
       "0                                       0                            1  ...   \n",
       "1                                       1                            0  ...   \n",
       "2                                       0                            0  ...   \n",
       "\n",
       "   housing_own  housing_rent  \\\n",
       "0            1             0   \n",
       "1            1             0   \n",
       "2            1             0   \n",
       "\n",
       "   job_management/ self-employed/ highly qualified employee/ officer  \\\n",
       "0                                                  0                   \n",
       "1                                                  0                   \n",
       "2                                                  0                   \n",
       "\n",
       "   job_skilled employee / official  job_unemployed/ unskilled - non-resident  \\\n",
       "0                                1                                         0   \n",
       "1                                1                                         0   \n",
       "2                                0                                         0   \n",
       "\n",
       "   job_unskilled - resident  telephone_none  \\\n",
       "0                         0               0   \n",
       "1                         0               1   \n",
       "2                         1               1   \n",
       "\n",
       "   telephone_yes, registered under the customers name   foreign_worker_no  \\\n",
       "0                                                  1                    0   \n",
       "1                                                  0                    0   \n",
       "2                                                  0                    0   \n",
       "\n",
       "   foreign_worker_yes  \n",
       "0                   1  \n",
       "1                   1  \n",
       "2                   1  \n",
       "\n",
       "[3 rows x 62 columns]"
      ]
     },
     "execution_count": 9,
     "metadata": {},
     "output_type": "execute_result"
    }
   ],
   "source": [
    "df_bin.head(3)"
   ]
  },
  {
   "cell_type": "code",
   "execution_count": 10,
   "metadata": {},
   "outputs": [],
   "source": [
    "X_train, X_test, y_train, y_test = train_test_split(\n",
    "    df_bin[df_bin.columns[1:]], df_bin[df_bin.columns[0]], test_size=0.33, random_state=42)"
   ]
  },
  {
   "cell_type": "code",
   "execution_count": 12,
   "metadata": {},
   "outputs": [
    {
     "data": {
      "text/plain": [
       "LogisticRegression(C=1.0, class_weight=None, dual=False, fit_intercept=True,\n",
       "                   intercept_scaling=1, l1_ratio=None, max_iter=2000,\n",
       "                   multi_class='warn', n_jobs=None, penalty='l2',\n",
       "                   random_state=42, solver='warn', tol=0.0001, verbose=0,\n",
       "                   warm_start=False)"
      ]
     },
     "execution_count": 12,
     "metadata": {},
     "output_type": "execute_result"
    }
   ],
   "source": [
    "model_lr = LogisticRegression(max_iter = 2000, random_state = 42)\n",
    "model_lr.fit(X_train, y_train)"
   ]
  },
  {
   "cell_type": "markdown",
   "metadata": {},
   "source": [
    "<b>참고 ::: Recall & Precision</b>\n",
    "\n",
    "<img src=\"img/LR_M_03.PNG\">"
   ]
  },
  {
   "cell_type": "code",
   "execution_count": 17,
   "metadata": {},
   "outputs": [
    {
     "name": "stdout",
     "output_type": "stream",
     "text": [
      "Model Result ::: accuracy_score = 0.7880597014925373, recall_score = 0.5125628140703518, precision_score = 0.6938775510204082\n"
     ]
    }
   ],
   "source": [
    "# train_data\n",
    "result_predict_train = model_lr.predict(X_train)\n",
    "\n",
    "print(\"Model Result ::: accuracy_score = {}, recall_score = {}, precision_score = {}\".format(accuracy_score(y_train,result_predict_train),\n",
    "                                                                                            recall_score(y_train,result_predict_train),\n",
    "                                                                                            precision_score(y_train,result_predict_train)))\n"
   ]
  },
  {
   "cell_type": "code",
   "execution_count": 19,
   "metadata": {},
   "outputs": [
    {
     "name": "stdout",
     "output_type": "stream",
     "text": [
      "Model Result ::: accuracy_score = 0.7666666666666667, recall_score = 0.46534653465346537, precision_score = 0.6714285714285714\n"
     ]
    }
   ],
   "source": [
    "# test_data\n",
    "result_predict_test = model_lr.predict(X_test)\n",
    "\n",
    "print(\"Model Result ::: accuracy_score = {}, recall_score = {}, precision_score = {}\".format(accuracy_score(y_test,result_predict_test),\n",
    "                                                                                            recall_score(y_test,result_predict_test),\n",
    "                                                                                            precision_score(y_test,result_predict_test)))\n"
   ]
  },
  {
   "cell_type": "code",
   "execution_count": 181,
   "metadata": {},
   "outputs": [],
   "source": [
    "sorted_data = sorted(dict(zip(list(df_bin.columns)[1:],model_lr.coef_[0])).items(), key=operator.itemgetter(1))"
   ]
  },
  {
   "cell_type": "markdown",
   "metadata": {},
   "source": [
    "#### Coefficient (로지스틱 회귀계수, 추정된 파라미터 값)\n",
    "- 해당 변수가 1단위 증가할 때 로그아드의 변화량\n",
    "- 양수이면 성공확률과 양의 상관관계, 음수이면 성공 확률과 음의 상관관계"
   ]
  },
  {
   "cell_type": "code",
   "execution_count": 185,
   "metadata": {
    "scrolled": false
   },
   "outputs": [
    {
     "data": {
      "image/png": "[encoded data removed]",
      "text/plain": [
       "<Figure size 720x1440 with 1 Axes>"
      ]
     },
     "metadata": {
      "needs_background": "light"
     },
     "output_type": "display_data"
    }
   ],
   "source": [
    "plt.figure(figsize=(10,20))\n",
    "sns.barplot(y = [i[0] for i in sorted_data], x = [i[1] for i in sorted_data])\n",
    "plt.title('Coefficient of logistic model')\n",
    "plt.show()"
   ]
  },
  {
   "cell_type": "markdown",
   "metadata": {},
   "source": [
    "#### Std. Error (추정 파라미터의 표준편차)\n",
    "- 추정 파라미터의 신뢰구간 (구간추정)을 구축할 때 사용\n",
    "\n",
    "#### p-value\n",
    "- 해당 변수가 통계적으로 유의미한지 여부를 알려주는 지표\n",
    "- 해당 파라미터 값이 0인지 여부를 통계적으로 판단 (가설검정)\n",
    "\n",
    "#### Odds (Odds ratio)\n",
    "- 나머지 입력변수는 모두 고정시킨 상태에서 한 변수를 1단위 증가시켰을 때 변화하는 Odds(성공확률)의 비율\n",
    "- Experience = 1.058 $\\rightarrow$ 경험이 1년 더 많으면 대출 확률이 1.058배 증가"
   ]
  },
  {
   "cell_type": "code",
   "execution_count": 189,
   "metadata": {
    "scrolled": true
   },
   "outputs": [
    {
     "data": {
      "text/html": [
       "<table class=\"simpletable\">\n",
       "<caption>Logit Regression Results</caption>\n",
       "<tr>\n",
       "  <th>Dep. Variable:</th>        <td>default</td>     <th>  No. Observations:  </th>  <td>  1000</td>  \n",
       "</tr>\n",
       "<tr>\n",
       "  <th>Model:</th>                 <td>Logit</td>      <th>  Df Residuals:      </th>  <td>   951</td>  \n",
       "</tr>\n",
       "<tr>\n",
       "  <th>Method:</th>                 <td>MLE</td>       <th>  Df Model:          </th>  <td>    48</td>  \n",
       "</tr>\n",
       "<tr>\n",
       "  <th>Date:</th>            <td>Tue, 17 Sep 2019</td> <th>  Pseudo R-squ.:     </th>  <td>0.2668</td>  \n",
       "</tr>\n",
       "<tr>\n",
       "  <th>Time:</th>                <td>19:46:00</td>     <th>  Log-Likelihood:    </th> <td> -447.91</td> \n",
       "</tr>\n",
       "<tr>\n",
       "  <th>converged:</th>             <td>False</td>      <th>  LL-Null:           </th> <td> -610.86</td> \n",
       "</tr>\n",
       "<tr>\n",
       "  <th>Covariance Type:</th>     <td>nonrobust</td>    <th>  LLR p-value:       </th> <td>5.755e-43</td>\n",
       "</tr>\n",
       "</table>\n",
       "<table class=\"simpletable\">\n",
       "<tr>\n",
       "                                       <td></td>                                         <th>coef</th>     <th>std err</th>      <th>z</th>      <th>P>|z|</th>  <th>[0.025</th>    <th>0.975]</th>  \n",
       "</tr>\n",
       "<tr>\n",
       "  <th>duration_in_month</th>                                                          <td>    0.0279</td> <td>    0.009</td> <td>    2.997</td> <td> 0.003</td> <td>    0.010</td> <td>    0.046</td>\n",
       "</tr>\n",
       "<tr>\n",
       "  <th>credit_amount</th>                                                              <td>    0.0001</td> <td> 4.44e-05</td> <td>    2.887</td> <td> 0.004</td> <td> 4.12e-05</td> <td>    0.000</td>\n",
       "</tr>\n",
       "<tr>\n",
       "  <th>installment_as_income_perc</th>                                                 <td>    0.3301</td> <td>    0.088</td> <td>    3.739</td> <td> 0.000</td> <td>    0.157</td> <td>    0.503</td>\n",
       "</tr>\n",
       "<tr>\n",
       "  <th>present_res_since</th>                                                          <td>    0.0048</td> <td>    0.086</td> <td>    0.055</td> <td> 0.956</td> <td>   -0.165</td> <td>    0.174</td>\n",
       "</tr>\n",
       "<tr>\n",
       "  <th>age</th>                                                                        <td>   -0.0145</td> <td>    0.009</td> <td>   -1.576</td> <td> 0.115</td> <td>   -0.033</td> <td>    0.004</td>\n",
       "</tr>\n",
       "<tr>\n",
       "  <th>credits_this_bank</th>                                                          <td>    0.2721</td> <td>    0.190</td> <td>    1.436</td> <td> 0.151</td> <td>   -0.099</td> <td>    0.644</td>\n",
       "</tr>\n",
       "<tr>\n",
       "  <th>people_under_maintenance</th>                                                   <td>    0.2647</td> <td>    0.249</td> <td>    1.062</td> <td> 0.288</td> <td>   -0.224</td> <td>    0.753</td>\n",
       "</tr>\n",
       "<tr>\n",
       "  <th>account_check_status_0 <= ... < 200 DM</th>                                     <td>  -14.6817</td> <td> 1.38e+07</td> <td>-1.07e-06</td> <td> 1.000</td> <td> -2.7e+07</td> <td>  2.7e+07</td>\n",
       "</tr>\n",
       "<tr>\n",
       "  <th>account_check_status_< 0 DM</th>                                                <td>  -14.3069</td> <td> 1.42e+07</td> <td>-1.01e-06</td> <td> 1.000</td> <td>-2.78e+07</td> <td> 2.78e+07</td>\n",
       "</tr>\n",
       "<tr>\n",
       "  <th>account_check_status_>= 200 DM / salary assignments for at least 1 year</th>    <td>  -15.2726</td> <td> 1.33e+07</td> <td>-1.15e-06</td> <td> 1.000</td> <td>-2.61e+07</td> <td> 2.61e+07</td>\n",
       "</tr>\n",
       "<tr>\n",
       "  <th>account_check_status_no checking account</th>                                   <td>  -16.0188</td> <td> 1.37e+07</td> <td>-1.17e-06</td> <td> 1.000</td> <td>-2.68e+07</td> <td> 2.68e+07</td>\n",
       "</tr>\n",
       "<tr>\n",
       "  <th>credit_history_all credits at this bank paid back duly</th>                     <td>   -2.4861</td> <td>  3.2e+06</td> <td>-7.76e-07</td> <td> 1.000</td> <td>-6.28e+06</td> <td> 6.28e+06</td>\n",
       "</tr>\n",
       "<tr>\n",
       "  <th>credit_history_critical account/ other credits existing (not at this bank)</th> <td>   -4.0653</td> <td> 3.36e+06</td> <td>-1.21e-06</td> <td> 1.000</td> <td>-6.59e+06</td> <td> 6.59e+06</td>\n",
       "</tr>\n",
       "<tr>\n",
       "  <th>credit_history_delay in paying off in the past</th>                             <td>   -3.4826</td> <td> 3.38e+06</td> <td>-1.03e-06</td> <td> 1.000</td> <td>-6.63e+06</td> <td> 6.63e+06</td>\n",
       "</tr>\n",
       "<tr>\n",
       "  <th>credit_history_existing credits paid back duly till now</th>                    <td>   -3.2156</td> <td> 3.38e+06</td> <td> -9.5e-07</td> <td> 1.000</td> <td>-6.63e+06</td> <td> 6.63e+06</td>\n",
       "</tr>\n",
       "<tr>\n",
       "  <th>credit_history_no credits taken/ all credits paid back duly</th>                <td>   -2.6295</td> <td> 3.29e+06</td> <td>-7.99e-07</td> <td> 1.000</td> <td>-6.45e+06</td> <td> 6.45e+06</td>\n",
       "</tr>\n",
       "<tr>\n",
       "  <th>purpose_(vacation - does not exist?)</th>                                       <td>    2.4027</td> <td> 1.05e+07</td> <td> 2.28e-07</td> <td> 1.000</td> <td>-2.06e+07</td> <td> 2.06e+07</td>\n",
       "</tr>\n",
       "<tr>\n",
       "  <th>purpose_business</th>                                                           <td>    1.6264</td> <td> 1.08e+07</td> <td>  1.5e-07</td> <td> 1.000</td> <td>-2.12e+07</td> <td> 2.12e+07</td>\n",
       "</tr>\n",
       "<tr>\n",
       "  <th>purpose_car (new)</th>                                                          <td>    2.3665</td> <td> 1.08e+07</td> <td> 2.19e-07</td> <td> 1.000</td> <td>-2.12e+07</td> <td> 2.12e+07</td>\n",
       "</tr>\n",
       "<tr>\n",
       "  <th>purpose_car (used)</th>                                                         <td>    0.7000</td> <td> 1.07e+07</td> <td> 6.55e-08</td> <td> 1.000</td> <td>-2.09e+07</td> <td> 2.09e+07</td>\n",
       "</tr>\n",
       "<tr>\n",
       "  <th>purpose_domestic appliances</th>                                                <td>    1.4749</td> <td> 1.07e+07</td> <td> 1.38e-07</td> <td> 1.000</td> <td>-2.09e+07</td> <td> 2.09e+07</td>\n",
       "</tr>\n",
       "<tr>\n",
       "  <th>purpose_education</th>                                                          <td>    2.1501</td> <td>  1.1e+07</td> <td> 1.96e-07</td> <td> 1.000</td> <td>-2.15e+07</td> <td> 2.15e+07</td>\n",
       "</tr>\n",
       "<tr>\n",
       "  <th>purpose_furniture/equipment</th>                                                <td>    0.8777</td> <td> 1.06e+07</td> <td> 8.29e-08</td> <td> 1.000</td> <td>-2.08e+07</td> <td> 2.08e+07</td>\n",
       "</tr>\n",
       "<tr>\n",
       "  <th>purpose_radio/television</th>                                                   <td>    1.5749</td> <td> 1.06e+07</td> <td> 1.49e-07</td> <td> 1.000</td> <td>-2.07e+07</td> <td> 2.07e+07</td>\n",
       "</tr>\n",
       "<tr>\n",
       "  <th>purpose_repairs</th>                                                            <td>    1.8437</td> <td> 1.07e+07</td> <td> 1.72e-07</td> <td> 1.000</td> <td> -2.1e+07</td> <td>  2.1e+07</td>\n",
       "</tr>\n",
       "<tr>\n",
       "  <th>purpose_retraining</th>                                                         <td>    0.3070</td> <td> 1.12e+07</td> <td> 2.74e-08</td> <td> 1.000</td> <td> -2.2e+07</td> <td>  2.2e+07</td>\n",
       "</tr>\n",
       "<tr>\n",
       "  <th>savings_.. >= 1000 DM </th>                                                     <td>    3.7483</td> <td> 4.42e+06</td> <td> 8.49e-07</td> <td> 1.000</td> <td>-8.66e+06</td> <td> 8.66e+06</td>\n",
       "</tr>\n",
       "<tr>\n",
       "  <th>savings_... < 100 DM</th>                                                       <td>    5.0875</td> <td> 4.54e+06</td> <td> 1.12e-06</td> <td> 1.000</td> <td> -8.9e+06</td> <td>  8.9e+06</td>\n",
       "</tr>\n",
       "<tr>\n",
       "  <th>savings_100 <= ... < 500 DM</th>                                                <td>    4.7298</td> <td> 4.44e+06</td> <td> 1.07e-06</td> <td> 1.000</td> <td>-8.69e+06</td> <td> 8.69e+06</td>\n",
       "</tr>\n",
       "<tr>\n",
       "  <th>savings_500 <= ... < 1000 DM </th>                                              <td>    4.7114</td> <td> 4.47e+06</td> <td> 1.05e-06</td> <td> 1.000</td> <td>-8.76e+06</td> <td> 8.76e+06</td>\n",
       "</tr>\n",
       "<tr>\n",
       "  <th>savings_unknown/ no savings account</th>                                        <td>    4.1408</td> <td> 4.65e+06</td> <td> 8.91e-07</td> <td> 1.000</td> <td>-9.11e+06</td> <td> 9.11e+06</td>\n",
       "</tr>\n",
       "<tr>\n",
       "  <th>present_emp_since_.. >= 7 years</th>                                            <td>    4.5208</td> <td>      nan</td> <td>      nan</td> <td>   nan</td> <td>      nan</td> <td>      nan</td>\n",
       "</tr>\n",
       "<tr>\n",
       "  <th>present_emp_since_... < 1 year </th>                                            <td>    4.7305</td> <td>      nan</td> <td>      nan</td> <td>   nan</td> <td>      nan</td> <td>      nan</td>\n",
       "</tr>\n",
       "<tr>\n",
       "  <th>present_emp_since_1 <= ... < 4 years</th>                                       <td>    4.6146</td> <td>      nan</td> <td>      nan</td> <td>   nan</td> <td>      nan</td> <td>      nan</td>\n",
       "</tr>\n",
       "<tr>\n",
       "  <th>present_emp_since_4 <= ... < 7 years</th>                                       <td>    3.9664</td> <td>      nan</td> <td>      nan</td> <td>   nan</td> <td>      nan</td> <td>      nan</td>\n",
       "</tr>\n",
       "<tr>\n",
       "  <th>present_emp_since_unemployed</th>                                               <td>    4.7974</td> <td>      nan</td> <td>      nan</td> <td>   nan</td> <td>      nan</td> <td>      nan</td>\n",
       "</tr>\n",
       "<tr>\n",
       "  <th>personal_status_sex_female : divorced/separated/married</th>                    <td>   -8.4136</td> <td> 4.18e+06</td> <td>-2.01e-06</td> <td> 1.000</td> <td>-8.19e+06</td> <td> 8.19e+06</td>\n",
       "</tr>\n",
       "<tr>\n",
       "  <th>personal_status_sex_male : divorced/separated</th>                              <td>   -8.1381</td> <td> 4.78e+06</td> <td> -1.7e-06</td> <td> 1.000</td> <td>-9.36e+06</td> <td> 9.36e+06</td>\n",
       "</tr>\n",
       "<tr>\n",
       "  <th>personal_status_sex_male : married/widowed</th>                                 <td>   -8.5052</td> <td> 4.52e+06</td> <td>-1.88e-06</td> <td> 1.000</td> <td>-8.86e+06</td> <td> 8.86e+06</td>\n",
       "</tr>\n",
       "<tr>\n",
       "  <th>personal_status_sex_male : single</th>                                          <td>   -8.9542</td> <td>  4.4e+06</td> <td>-2.03e-06</td> <td> 1.000</td> <td>-8.63e+06</td> <td> 8.63e+06</td>\n",
       "</tr>\n",
       "<tr>\n",
       "  <th>other_debtors_co-applicant</th>                                                 <td>    0.4629</td> <td> 4.14e+06</td> <td> 1.12e-07</td> <td> 1.000</td> <td>-8.12e+06</td> <td> 8.12e+06</td>\n",
       "</tr>\n",
       "<tr>\n",
       "  <th>other_debtors_guarantor</th>                                                    <td>   -0.9518</td> <td> 4.38e+06</td> <td>-2.17e-07</td> <td> 1.000</td> <td>-8.59e+06</td> <td> 8.59e+06</td>\n",
       "</tr>\n",
       "<tr>\n",
       "  <th>other_debtors_none</th>                                                         <td>    0.0268</td> <td>  4.3e+06</td> <td> 6.23e-09</td> <td> 1.000</td> <td>-8.43e+06</td> <td> 8.43e+06</td>\n",
       "</tr>\n",
       "<tr>\n",
       "  <th>property_if not A121 : building society savings agreement/ life insurance</th>  <td>    5.4244</td> <td>      nan</td> <td>      nan</td> <td>   nan</td> <td>      nan</td> <td>      nan</td>\n",
       "</tr>\n",
       "<tr>\n",
       "  <th>property_if not A121/A122 : car or other, not in attribute 6</th>               <td>    5.3375</td> <td>      nan</td> <td>      nan</td> <td>   nan</td> <td>      nan</td> <td>      nan</td>\n",
       "</tr>\n",
       "<tr>\n",
       "  <th>property_real estate</th>                                                       <td>    5.1430</td> <td>      nan</td> <td>      nan</td> <td>   nan</td> <td>      nan</td> <td>      nan</td>\n",
       "</tr>\n",
       "<tr>\n",
       "  <th>property_unknown / no property</th>                                             <td>    5.8734</td> <td>      nan</td> <td>      nan</td> <td>   nan</td> <td>      nan</td> <td>      nan</td>\n",
       "</tr>\n",
       "<tr>\n",
       "  <th>other_installment_plans_bank</th>                                               <td>    1.0883</td> <td>  1.9e+06</td> <td> 5.72e-07</td> <td> 1.000</td> <td>-3.73e+06</td> <td> 3.73e+06</td>\n",
       "</tr>\n",
       "<tr>\n",
       "  <th>other_installment_plans_none</th>                                               <td>    0.4420</td> <td> 1.26e+06</td> <td> 3.51e-07</td> <td> 1.000</td> <td>-2.47e+06</td> <td> 2.47e+06</td>\n",
       "</tr>\n",
       "<tr>\n",
       "  <th>other_installment_plans_stores</th>                                             <td>    0.9651</td> <td> 1.36e+06</td> <td> 7.09e-07</td> <td> 1.000</td> <td>-2.67e+06</td> <td> 2.67e+06</td>\n",
       "</tr>\n",
       "<tr>\n",
       "  <th>housing_for free</th>                                                           <td>    3.8035</td> <td> 3.55e+06</td> <td> 1.07e-06</td> <td> 1.000</td> <td>-6.96e+06</td> <td> 6.96e+06</td>\n",
       "</tr>\n",
       "<tr>\n",
       "  <th>housing_own</th>                                                                <td>    4.0437</td> <td> 3.76e+06</td> <td> 1.07e-06</td> <td> 1.000</td> <td>-7.37e+06</td> <td> 7.37e+06</td>\n",
       "</tr>\n",
       "<tr>\n",
       "  <th>housing_rent</th>                                                               <td>    4.4873</td> <td> 3.61e+06</td> <td> 1.24e-06</td> <td> 1.000</td> <td>-7.07e+06</td> <td> 7.07e+06</td>\n",
       "</tr>\n",
       "<tr>\n",
       "  <th>job_management/ self-employed/ highly qualified employee/ officer</th>          <td>    3.1786</td> <td> 2.48e+06</td> <td> 1.28e-06</td> <td> 1.000</td> <td>-4.86e+06</td> <td> 4.86e+06</td>\n",
       "</tr>\n",
       "<tr>\n",
       "  <th>job_skilled employee / official</th>                                            <td>    3.2538</td> <td> 2.47e+06</td> <td> 1.32e-06</td> <td> 1.000</td> <td>-4.85e+06</td> <td> 4.85e+06</td>\n",
       "</tr>\n",
       "<tr>\n",
       "  <th>job_unemployed/ unskilled - non-resident</th>                                   <td>    2.6991</td> <td> 2.48e+06</td> <td> 1.09e-06</td> <td> 1.000</td> <td>-4.86e+06</td> <td> 4.86e+06</td>\n",
       "</tr>\n",
       "<tr>\n",
       "  <th>job_unskilled - resident</th>                                                   <td>    3.2352</td> <td> 2.48e+06</td> <td>  1.3e-06</td> <td> 1.000</td> <td>-4.86e+06</td> <td> 4.86e+06</td>\n",
       "</tr>\n",
       "<tr>\n",
       "  <th>telephone_none</th>                                                             <td>   -0.3835</td> <td>      nan</td> <td>      nan</td> <td>   nan</td> <td>      nan</td> <td>      nan</td>\n",
       "</tr>\n",
       "<tr>\n",
       "  <th>telephone_yes, registered under the customers name </th>                        <td>   -0.6835</td> <td>      nan</td> <td>      nan</td> <td>   nan</td> <td>      nan</td> <td>      nan</td>\n",
       "</tr>\n",
       "<tr>\n",
       "  <th>foreign_worker_no</th>                                                          <td>   -1.2296</td> <td> 5.26e+05</td> <td>-2.34e-06</td> <td> 1.000</td> <td>-1.03e+06</td> <td> 1.03e+06</td>\n",
       "</tr>\n",
       "<tr>\n",
       "  <th>foreign_worker_yes</th>                                                         <td>    0.1626</td> <td> 5.26e+05</td> <td> 3.09e-07</td> <td> 1.000</td> <td>-1.03e+06</td> <td> 1.03e+06</td>\n",
       "</tr>\n",
       "</table>"
      ],
      "text/plain": [
       "<class 'statsmodels.iolib.summary.Summary'>\n",
       "\"\"\"\n",
       "                           Logit Regression Results                           \n",
       "==============================================================================\n",
       "Dep. Variable:                default   No. Observations:                 1000\n",
       "Model:                          Logit   Df Residuals:                      951\n",
       "Method:                           MLE   Df Model:                           48\n",
       "Date:                Tue, 17 Sep 2019   Pseudo R-squ.:                  0.2668\n",
       "Time:                        19:46:00   Log-Likelihood:                -447.91\n",
       "converged:                      False   LL-Null:                       -610.86\n",
       "Covariance Type:            nonrobust   LLR p-value:                 5.755e-43\n",
       "==============================================================================================================================================\n",
       "                                                                                 coef    std err          z      P>|z|      [0.025      0.975]\n",
       "----------------------------------------------------------------------------------------------------------------------------------------------\n",
       "duration_in_month                                                              0.0279      0.009      2.997      0.003       0.010       0.046\n",
       "credit_amount                                                                  0.0001   4.44e-05      2.887      0.004    4.12e-05       0.000\n",
       "installment_as_income_perc                                                     0.3301      0.088      3.739      0.000       0.157       0.503\n",
       "present_res_since                                                              0.0048      0.086      0.055      0.956      -0.165       0.174\n",
       "age                                                                           -0.0145      0.009     -1.576      0.115      -0.033       0.004\n",
       "credits_this_bank                                                              0.2721      0.190      1.436      0.151      -0.099       0.644\n",
       "people_under_maintenance                                                       0.2647      0.249      1.062      0.288      -0.224       0.753\n",
       "account_check_status_0 <= ... < 200 DM                                       -14.6817   1.38e+07  -1.07e-06      1.000    -2.7e+07     2.7e+07\n",
       "account_check_status_< 0 DM                                                  -14.3069   1.42e+07  -1.01e-06      1.000   -2.78e+07    2.78e+07\n",
       "account_check_status_>= 200 DM / salary assignments for at least 1 year      -15.2726   1.33e+07  -1.15e-06      1.000   -2.61e+07    2.61e+07\n",
       "account_check_status_no checking account                                     -16.0188   1.37e+07  -1.17e-06      1.000   -2.68e+07    2.68e+07\n",
       "credit_history_all credits at this bank paid back duly                        -2.4861    3.2e+06  -7.76e-07      1.000   -6.28e+06    6.28e+06\n",
       "credit_history_critical account/ other credits existing (not at this bank)    -4.0653   3.36e+06  -1.21e-06      1.000   -6.59e+06    6.59e+06\n",
       "credit_history_delay in paying off in the past                                -3.4826   3.38e+06  -1.03e-06      1.000   -6.63e+06    6.63e+06\n",
       "credit_history_existing credits paid back duly till now                       -3.2156   3.38e+06   -9.5e-07      1.000   -6.63e+06    6.63e+06\n",
       "credit_history_no credits taken/ all credits paid back duly                   -2.6295   3.29e+06  -7.99e-07      1.000   -6.45e+06    6.45e+06\n",
       "purpose_(vacation - does not exist?)                                           2.4027   1.05e+07   2.28e-07      1.000   -2.06e+07    2.06e+07\n",
       "purpose_business                                                               1.6264   1.08e+07    1.5e-07      1.000   -2.12e+07    2.12e+07\n",
       "purpose_car (new)                                                              2.3665   1.08e+07   2.19e-07      1.000   -2.12e+07    2.12e+07\n",
       "purpose_car (used)                                                             0.7000   1.07e+07   6.55e-08      1.000   -2.09e+07    2.09e+07\n",
       "purpose_domestic appliances                                                    1.4749   1.07e+07   1.38e-07      1.000   -2.09e+07    2.09e+07\n",
       "purpose_education                                                              2.1501    1.1e+07   1.96e-07      1.000   -2.15e+07    2.15e+07\n",
       "purpose_furniture/equipment                                                    0.8777   1.06e+07   8.29e-08      1.000   -2.08e+07    2.08e+07\n",
       "purpose_radio/television                                                       1.5749   1.06e+07   1.49e-07      1.000   -2.07e+07    2.07e+07\n",
       "purpose_repairs                                                                1.8437   1.07e+07   1.72e-07      1.000    -2.1e+07     2.1e+07\n",
       "purpose_retraining                                                             0.3070   1.12e+07   2.74e-08      1.000    -2.2e+07     2.2e+07\n",
       "savings_.. >= 1000 DM                                                          3.7483   4.42e+06   8.49e-07      1.000   -8.66e+06    8.66e+06\n",
       "savings_... < 100 DM                                                           5.0875   4.54e+06   1.12e-06      1.000    -8.9e+06     8.9e+06\n",
       "savings_100 <= ... < 500 DM                                                    4.7298   4.44e+06   1.07e-06      1.000   -8.69e+06    8.69e+06\n",
       "savings_500 <= ... < 1000 DM                                                   4.7114   4.47e+06   1.05e-06      1.000   -8.76e+06    8.76e+06\n",
       "savings_unknown/ no savings account                                            4.1408   4.65e+06   8.91e-07      1.000   -9.11e+06    9.11e+06\n",
       "present_emp_since_.. >= 7 years                                                4.5208        nan        nan        nan         nan         nan\n",
       "present_emp_since_... < 1 year                                                 4.7305        nan        nan        nan         nan         nan\n",
       "present_emp_since_1 <= ... < 4 years                                           4.6146        nan        nan        nan         nan         nan\n",
       "present_emp_since_4 <= ... < 7 years                                           3.9664        nan        nan        nan         nan         nan\n",
       "present_emp_since_unemployed                                                   4.7974        nan        nan        nan         nan         nan\n",
       "personal_status_sex_female : divorced/separated/married                       -8.4136   4.18e+06  -2.01e-06      1.000   -8.19e+06    8.19e+06\n",
       "personal_status_sex_male : divorced/separated                                 -8.1381   4.78e+06   -1.7e-06      1.000   -9.36e+06    9.36e+06\n",
       "personal_status_sex_male : married/widowed                                    -8.5052   4.52e+06  -1.88e-06      1.000   -8.86e+06    8.86e+06\n",
       "personal_status_sex_male : single                                             -8.9542    4.4e+06  -2.03e-06      1.000   -8.63e+06    8.63e+06\n",
       "other_debtors_co-applicant                                                     0.4629   4.14e+06   1.12e-07      1.000   -8.12e+06    8.12e+06\n",
       "other_debtors_guarantor                                                       -0.9518   4.38e+06  -2.17e-07      1.000   -8.59e+06    8.59e+06\n",
       "other_debtors_none                                                             0.0268    4.3e+06   6.23e-09      1.000   -8.43e+06    8.43e+06\n",
       "property_if not A121 : building society savings agreement/ life insurance      5.4244        nan        nan        nan         nan         nan\n",
       "property_if not A121/A122 : car or other, not in attribute 6                   5.3375        nan        nan        nan         nan         nan\n",
       "property_real estate                                                           5.1430        nan        nan        nan         nan         nan\n",
       "property_unknown / no property                                                 5.8734        nan        nan        nan         nan         nan\n",
       "other_installment_plans_bank                                                   1.0883    1.9e+06   5.72e-07      1.000   -3.73e+06    3.73e+06\n",
       "other_installment_plans_none                                                   0.4420   1.26e+06   3.51e-07      1.000   -2.47e+06    2.47e+06\n",
       "other_installment_plans_stores                                                 0.9651   1.36e+06   7.09e-07      1.000   -2.67e+06    2.67e+06\n",
       "housing_for free                                                               3.8035   3.55e+06   1.07e-06      1.000   -6.96e+06    6.96e+06\n",
       "housing_own                                                                    4.0437   3.76e+06   1.07e-06      1.000   -7.37e+06    7.37e+06\n",
       "housing_rent                                                                   4.4873   3.61e+06   1.24e-06      1.000   -7.07e+06    7.07e+06\n",
       "job_management/ self-employed/ highly qualified employee/ officer              3.1786   2.48e+06   1.28e-06      1.000   -4.86e+06    4.86e+06\n",
       "job_skilled employee / official                                                3.2538   2.47e+06   1.32e-06      1.000   -4.85e+06    4.85e+06\n",
       "job_unemployed/ unskilled - non-resident                                       2.6991   2.48e+06   1.09e-06      1.000   -4.86e+06    4.86e+06\n",
       "job_unskilled - resident                                                       3.2352   2.48e+06    1.3e-06      1.000   -4.86e+06    4.86e+06\n",
       "telephone_none                                                                -0.3835        nan        nan        nan         nan         nan\n",
       "telephone_yes, registered under the customers name                            -0.6835        nan        nan        nan         nan         nan\n",
       "foreign_worker_no                                                             -1.2296   5.26e+05  -2.34e-06      1.000   -1.03e+06    1.03e+06\n",
       "foreign_worker_yes                                                             0.1626   5.26e+05   3.09e-07      1.000   -1.03e+06    1.03e+06\n",
       "==============================================================================================================================================\n",
       "\"\"\""
      ]
     },
     "execution_count": 189,
     "metadata": {},
     "output_type": "execute_result"
    }
   ],
   "source": [
    "logit_mod = sm.Logit(df_bin[df_bin.columns[0]], df_bin[df_bin.columns[1:]])\n",
    "logit_res = logit_mod.fit(disp=0)\n",
    "logit_res.summary()"
   ]
  }
 ],
 "metadata": {
  "kernelspec": {
   "display_name": "dmqa_pytorch",
   "language": "python",
   "name": "dmqa_pytorch"
  },
  "language_info": {
   "codemirror_mode": {
    "name": "ipython",
    "version": 3
   },
   "file_extension": ".py",
   "mimetype": "text/x-python",
   "name": "python",
   "nbconvert_exporter": "python",
   "pygments_lexer": "ipython3",
   "version": "3.7.4"
  }
 },
 "nbformat": 4,
 "nbformat_minor": 2
}
