{
 "cells": [
  {
   "cell_type": "code",
   "execution_count": null,
   "metadata": {},
   "outputs": [],
   "source": [
    "import torch"
   ]
  },
  {
   "cell_type": "markdown",
   "metadata": {},
   "source": [
    "## 3.1.1 텐서의 차원 자유자재로 다루기"
   ]
  },
  {
   "cell_type": "code",
   "execution_count": 3,
   "metadata": {},
   "outputs": [
    {
     "name": "stdout",
     "output_type": "stream",
     "text": [
      "tensor([[1, 2, 3],\n",
      "        [4, 5, 6],\n",
      "        [7, 8, 9]])\n",
      "Size: torch.Size([3, 3])\n",
      "Shape: torch.Size([3, 3])\n",
      "랭크(차원): 2\n"
     ]
    }
   ],
   "source": [
    "x = torch.tensor([[1,2,3],[4,5,6],[7,8,9]])\n",
    "print(x)\n",
    "print(\"Size:\", x.size())\n",
    "print(\"Shape:\", x.shape)\n",
    "print(\"랭크(차원):\", x.ndimension())"
   ]
  },
  {
   "cell_type": "code",
   "execution_count": 4,
   "metadata": {},
   "outputs": [
    {
     "name": "stdout",
     "output_type": "stream",
     "text": [
      "tensor([[[1, 2, 3],\n",
      "         [4, 5, 6],\n",
      "         [7, 8, 9]]])\n",
      "Size: torch.Size([1, 3, 3])\n",
      "Shape: torch.Size([1, 3, 3])\n",
      "랭크(차원): 3\n"
     ]
    }
   ],
   "source": [
    "x = torch.unsqueeze(x, 0)\n",
    "print(x)\n",
    "print(\"Size:\", x.size())\n",
    "print(\"Shape:\", x.shape)\n",
    "print(\"랭크(차원):\", x.ndimension())"
   ]
  },
  {
   "cell_type": "code",
   "execution_count": 5,
   "metadata": {},
   "outputs": [
    {
     "name": "stdout",
     "output_type": "stream",
     "text": [
      "tensor([[1, 2, 3],\n",
      "        [4, 5, 6],\n",
      "        [7, 8, 9]])\n",
      "Size: torch.Size([3, 3])\n",
      "Shape: torch.Size([3, 3])\n",
      "랭크(차원): 2\n"
     ]
    }
   ],
   "source": [
    "x = torch.squeeze(x, 0)\n",
    "print(x)\n",
    "print(\"Size:\", x.size())\n",
    "print(\"Shape:\", x.shape)\n",
    "print(\"랭크(차원):\", x.ndimension())"
   ]
  },
  {
   "cell_type": "code",
   "execution_count": 6,
   "metadata": {},
   "outputs": [
    {
     "name": "stdout",
     "output_type": "stream",
     "text": [
      "tensor([1, 2, 3, 4, 5, 6, 7, 8, 9])\n",
      "Size: torch.Size([9])\n",
      "Shape: torch.Size([9])\n",
      "랭크(차원): 1\n"
     ]
    }
   ],
   "source": [
    "x = x.view(9)\n",
    "print(x)\n",
    "print(\"Size:\", x.size())\n",
    "print(\"Shape:\", x.shape)\n",
    "print(\"랭크(차원):\", x.ndimension())"
   ]
  },
  {
   "cell_type": "code",
   "execution_count": 7,
   "metadata": {},
   "outputs": [
    {
     "name": "stdout",
     "output_type": "stream",
     "text": [
      "shape '[2, 4]' is invalid for input of size 9\n"
     ]
    }
   ],
   "source": [
    "try:\n",
    "    x = x.view(2,4)\n",
    "except Exception as e:\n",
    "    print(e) #에러출력"
   ]
  },
  {
   "cell_type": "markdown",
   "metadata": {},
   "source": [
    "## 3.1.2  텐서를 이용한 연산과 행렬곱"
   ]
  },
  {
   "cell_type": "code",
   "execution_count": 8,
   "metadata": {},
   "outputs": [
    {
     "name": "stdout",
     "output_type": "stream",
     "text": [
      "w size: torch.Size([5, 3])\n",
      "x size: torch.Size([3, 2])\n",
      "w: tensor([[-2.0490, -0.6096, -0.5557],\n",
      "        [-1.2732,  0.5708, -1.8098],\n",
      "        [ 0.3502, -0.6999,  1.3430],\n",
      "        [ 1.7297, -0.3794, -0.7756],\n",
      "        [-1.6721, -1.1553,  0.6792]])\n",
      "x: tensor([[1., 2.],\n",
      "        [3., 4.],\n",
      "        [5., 6.]])\n"
     ]
    }
   ],
   "source": [
    "w = torch.randn(5,3, dtype=torch.float)\n",
    "x = torch.tensor([[1.0,2.0],[3.0,4.0],[5.0,6.0]])\n",
    "print(\"w size:\",w.size())\n",
    "print(\"x size:\",x.size())\n",
    "print(\"w:\",w)\n",
    "print(\"x:\",x)"
   ]
  },
  {
   "cell_type": "markdown",
   "metadata": {},
   "source": [
    "w는 정규분포(normal distribution)에서 무작위로 값을 뽑아 텐서를 생성하는 randn() 함수에 5와 3을 인수로 전달하여 5x3의 shape를 가진 텐서를 만든다.\n",
    "\n",
    "무작위로 값을 뽑을 때 실수의 범위 내에서 뽑도록 randn() 함수의 인수 dtype에 torch.float를 지정한다."
   ]
  },
  {
   "cell_type": "code",
   "execution_count": 9,
   "metadata": {},
   "outputs": [
    {
     "name": "stdout",
     "output_type": "stream",
     "text": [
      "b size: torch.Size([5, 2])\n",
      "b: tensor([[-1.4885,  2.0395],\n",
      "        [-1.2022, -1.5805],\n",
      "        [-0.0304,  0.9215],\n",
      "        [-0.1375, -0.3068],\n",
      "        [-0.1078,  1.1404]])\n"
     ]
    }
   ],
   "source": [
    "b = torch.randn(5, 2, dtype=torch.float)\n",
    "print('b size:', b.size())\n",
    "print(\"b:\", b)"
   ]
  },
  {
   "cell_type": "markdown",
   "metadata": {},
   "source": [
    "* 행렬곱은 torch.mm() 함수를 사용해 수행한다."
   ]
  },
  {
   "cell_type": "code",
   "execution_count": 10,
   "metadata": {},
   "outputs": [
    {
     "name": "stdout",
     "output_type": "stream",
     "text": [
      "wx size: torch.Size([5, 2])\n",
      "wx: tensor([[ -6.6566,  -9.8710],\n",
      "        [ -8.6099, -11.1221],\n",
      "        [  4.9653,   5.9586],\n",
      "        [ -3.2864,  -2.7117],\n",
      "        [ -1.7419,  -3.8900]])\n"
     ]
    }
   ],
   "source": [
    "wx = torch.mm(w,x) # w의 행은 5, x의 열은 2, 즉 shape는 [5, 2]입니다.\n",
    "print(\"wx size:\", wx.size())\n",
    "print(\"wx:\", wx)"
   ]
  },
  {
   "cell_type": "code",
   "execution_count": 11,
   "metadata": {},
   "outputs": [
    {
     "name": "stdout",
     "output_type": "stream",
     "text": [
      "result size: torch.Size([5, 2])\n",
      "result: tensor([[ -8.1452,  -7.8316],\n",
      "        [ -9.8121, -12.7026],\n",
      "        [  4.9349,   6.8801],\n",
      "        [ -3.4240,  -3.0185],\n",
      "        [ -1.8497,  -2.7496]])\n"
     ]
    }
   ],
   "source": [
    "result = wx + b\n",
    "print(\"result size:\", result.size())\n",
    "print(\"result:\", result)"
   ]
  },
  {
   "cell_type": "markdown",
   "metadata": {},
   "source": [
    "## 3.1.3 Autograd\n",
    "\n"
   ]
  },
  {
   "cell_type": "code",
   "execution_count": 12,
   "metadata": {},
   "outputs": [],
   "source": [
    "w = torch.tensor(1.0, requires_grad = True)"
   ]
  },
  {
   "cell_type": "markdown",
   "metadata": {},
   "source": [
    "requires_grad를 True 값으로 설정하면 파이토치의 Autograd 기능이 자동으로 계산할 때 w에 대한 미분값을 w.grad에 저장한다."
   ]
  },
  {
   "cell_type": "code",
   "execution_count": 14,
   "metadata": {},
   "outputs": [],
   "source": [
    "a = w*3"
   ]
  },
  {
   "cell_type": "code",
   "execution_count": 16,
   "metadata": {},
   "outputs": [],
   "source": [
    "l = a**2"
   ]
  },
  {
   "cell_type": "code",
   "execution_count": 17,
   "metadata": {},
   "outputs": [
    {
     "name": "stdout",
     "output_type": "stream",
     "text": [
      "l을 w로 미분한 값은 18.0\n"
     ]
    }
   ],
   "source": [
    "l.backward()\n",
    "print('l을 w로 미분한 값은 {}'.format(w.grad))"
   ]
  },
  {
   "cell_type": "markdown",
   "metadata": {},
   "source": [
    "backward() 메서드는 연쇄법칙을 통한 미분을 지원한다."
   ]
  },
  {
   "cell_type": "markdown",
   "metadata": {},
   "source": [
    "# 3.2 경사하강법으로 이미지 복원하기"
   ]
  },
  {
   "cell_type": "markdown",
   "metadata": {},
   "source": [
    "## 3.2.1 오염된 이미지 문제\n",
    "\n",
    "이미지 처리를 위해 만들어 두었던 weird_function() 함수에 실수로 버그가 들어가 100x100 픽셀의 오염된 이미지가 만들어졌습니다.\n",
    "\n",
    "이 오염된 이미지와 오염되기 전 원본 이미지를 동시에 파일로 저장하려고 했으나, 모종의 이유로 원본 이미지 파일은 삭제된 상황입니다.\n",
    "\n",
    "다행히도 weird_function() 함수의 소스코드는 남아 있습니다.\n",
    "\n",
    "오염된 이미지와 weird_function() 함수를 활용해서 원본 이미지를 복원해보자."
   ]
  },
  {
   "cell_type": "markdown",
   "metadata": {},
   "source": [
    "## 3.2.2 오염된 이미지를 복원하는 방법\n",
    "\n",
    "해결 과정은 다음과 같다.\n",
    "\n",
    "1. 오염된 이미지(broken_image)와 크기가 같은 랜덤 텐서(random_tensor)를 생성한다.<br> \n",
    "   (랜덤 텐서는 오염된 이미지와 크기가 같은 무작위 이미지 텐서를 의미한다)\n",
    "   \n",
    "\n",
    "2. 랜덤 텐서를 werid_function() 함수에 입력해 똑같이 오염된 이미지를 가설(hypothesis)이라고 부른다.\n",
    "    - 원본 이미지가 weird_function() 함수에 입력되어 오염된 이미지를 출력했다.\n",
    "    - 인위적으로 생성한 무작위 이미지가 weird_function() 함수에 입력되어 가설을 출력했다.\n",
    "\n",
    "\n",
    "3. 가설과 오염된 이미지가 같다면, 무작위 이미지와 원본 이미지도 같을 것이다.\n",
    "\n",
    "\n",
    "4. 그러므로 weird_function(random_tensor) = broken_image 관계가 성립하도록 만든다."
   ]
  },
  {
   "cell_type": "code",
   "execution_count": 18,
   "metadata": {},
   "outputs": [],
   "source": [
    "import torch\n",
    "import pickle\n",
    "import matplotlib.pyplot as plt"
   ]
  },
  {
   "cell_type": "code",
   "execution_count": 19,
   "metadata": {},
   "outputs": [],
   "source": [
    "broken_image =  torch.FloatTensor( pickle.load(open('./broken_image_t.p', 'rb'),encoding='latin1' ) )"
   ]
  },
  {
   "cell_type": "code",
   "execution_count": 20,
   "metadata": {},
   "outputs": [
    {
     "data": {
      "text/plain": [
       "<matplotlib.image.AxesImage at 0x1bd3c550348>"
      ]
     },
     "execution_count": 20,
     "metadata": {},
     "output_type": "execute_result"
    },
    {
     "data": {
      "image/png": "[encoded data removed]",
      "text/plain": [
       "<Figure size 432x288 with 1 Axes>"
      ]
     },
     "metadata": {
      "needs_background": "light"
     },
     "output_type": "display_data"
    }
   ],
   "source": [
    "plt.imshow(broken_image.view(100,100))"
   ]
  },
  {
   "cell_type": "code",
   "execution_count": 22,
   "metadata": {},
   "outputs": [],
   "source": [
    "#이미지를 오염시키는 함수\n",
    "def weird_function(x, n_iter=5):\n",
    "    h = x    \n",
    "    filt = torch.tensor([-1./3, 1./3, -1./3])\n",
    "    for i in range(n_iter):\n",
    "        zero_tensor = torch.tensor([1.0*0])\n",
    "        h_l = torch.cat( (zero_tensor, h[:-1]), 0)\n",
    "        h_r = torch.cat((h[1:], zero_tensor), 0 )\n",
    "        h = filt[0] * h + filt[2] * h_l + filt[1] * h_r\n",
    "        if i % 2 == 0:\n",
    "            h = torch.cat( (h[h.shape[0]//2:],h[:h.shape[0]//2]), 0  )\n",
    "    return h"
   ]
  },
  {
   "cell_type": "code",
   "execution_count": 23,
   "metadata": {},
   "outputs": [],
   "source": [
    "def distance_loss(hypothesis, broken_image):    \n",
    "    return torch.dist(hypothesis, broken_image)"
   ]
  },
  {
   "cell_type": "markdown",
   "metadata": {},
   "source": [
    "torch.dist()는 두 텐서 사이의 거리를 구하는 함수이다. 이번 예시에서 오찻값은 이처럼 단순한 거리로 설정한다."
   ]
  },
  {
   "cell_type": "code",
   "execution_count": 24,
   "metadata": {},
   "outputs": [],
   "source": [
    "random_tensor = torch.randn(10000, dtype = torch.float)"
   ]
  },
  {
   "cell_type": "code",
   "execution_count": 25,
   "metadata": {},
   "outputs": [
    {
     "name": "stdout",
     "output_type": "stream",
     "text": [
      "Loss at 0 = 12.336073875427246\n",
      "Loss at 1000 = 1.1235688924789429\n",
      "Loss at 2000 = 0.5413160920143127\n",
      "Loss at 3000 = 0.3825981616973877\n",
      "Loss at 4000 = 0.3052511513233185\n",
      "Loss at 5000 = 0.2564932703971863\n",
      "Loss at 6000 = 0.22134746611118317\n",
      "Loss at 7000 = 0.19358384609222412\n",
      "Loss at 8000 = 0.17017407715320587\n",
      "Loss at 9000 = 0.14951613545417786\n",
      "Loss at 10000 = 0.13069765269756317\n",
      "Loss at 11000 = 0.11316361278295517\n",
      "Loss at 12000 = 0.09655767679214478\n",
      "Loss at 13000 = 0.08064078539609909\n",
      "Loss at 14000 = 0.06524831801652908\n",
      "Loss at 15000 = 0.050264593213796616\n",
      "Loss at 16000 = 0.03560958430171013\n",
      "Loss at 17000 = 0.02123083919286728\n",
      "Loss at 18000 = 0.021163059398531914\n",
      "Loss at 19000 = 0.021166693419218063\n"
     ]
    }
   ],
   "source": [
    "lr = 0.8\n",
    "for i in range(0,20000):\n",
    "    # 오차 함수를 random_tensor로 미분해야 하니 requires_grad를 True로 설정한다.\n",
    "    random_tensor.requires_grad_(True)\n",
    "    \n",
    "    hypothesis = weird_function(random_tensor)\n",
    "    loss = distance_loss(hypothesis, broken_image)\n",
    "    loss.backward()\n",
    "    \n",
    "    with torch.no_grad(): #경사하강법을 직접구현하기 때문에 자동 기울기 계산을 비활성화 한다.\n",
    "        random_tensor = random_tensor - lr*random_tensor.grad\n",
    "    if i % 1000 == 0:\n",
    "        print('Loss at {} = {}'.format(i, loss.item()))"
   ]
  },
  {
   "cell_type": "code",
   "execution_count": 26,
   "metadata": {},
   "outputs": [
    {
     "data": {
      "text/plain": [
       "<matplotlib.image.AxesImage at 0x1bd43f2b808>"
      ]
     },
     "execution_count": 26,
     "metadata": {},
     "output_type": "execute_result"
    },
    {
     "data": {
      "image/png": "[encoded data removed]",
      "text/plain": [
       "<Figure size 432x288 with 1 Axes>"
      ]
     },
     "metadata": {
      "needs_background": "light"
     },
     "output_type": "display_data"
    }
   ],
   "source": [
    "plt.imshow(random_tensor.view(100,100).data)"
   ]
  },
  {
   "cell_type": "markdown",
   "metadata": {},
   "source": [
    "# 3.3 신경망 모델 구현하기"
   ]
  },
  {
   "cell_type": "markdown",
   "metadata": {},
   "source": [
    "## 3.3.1 인공 신경망(ANN)"
   ]
  },
  {
   "cell_type": "code",
   "execution_count": 27,
   "metadata": {},
   "outputs": [],
   "source": [
    "import torch\n",
    "import numpy\n",
    "from sklearn.datasets import make_blobs\n",
    "import matplotlib.pyplot as plt\n",
    "import torch.nn.functional as F"
   ]
  },
  {
   "cell_type": "code",
   "execution_count": 28,
   "metadata": {},
   "outputs": [],
   "source": [
    "n_dim = 2\n",
    "x_train, y_train = make_blobs(n_samples=80, n_features=n_dim, centers=[[1,1],[-1,-1],[1,-1],[-1,1]], shuffle=True, cluster_std=0.3)\n",
    "x_test, y_test = make_blobs(n_samples=20, n_features=n_dim, centers=[[1,1],[-1,-1],[1,-1],[-1,1]], shuffle=True, cluster_std=0.3)"
   ]
  },
  {
   "cell_type": "code",
   "execution_count": 29,
   "metadata": {},
   "outputs": [],
   "source": [
    "def label_map(y_, from_, to_):\n",
    "    y = numpy.copy(y_)\n",
    "    for f in from_:\n",
    "        y[y_ == f] = to_\n",
    "    return y\n",
    "\n",
    "y_train = label_map(y_train, [0, 1], 0)\n",
    "y_train = label_map(y_train, [2, 3], 1)\n",
    "y_test = label_map(y_test, [0, 1], 0)\n",
    "y_test = label_map(y_test, [2, 3], 1)"
   ]
  },
  {
   "cell_type": "code",
   "execution_count": 30,
   "metadata": {},
   "outputs": [
    {
     "data": {
      "image/png": "[encoded data removed]",
      "text/plain": [
       "<Figure size 432x288 with 1 Axes>"
      ]
     },
     "metadata": {
      "needs_background": "light"
     },
     "output_type": "display_data"
    }
   ],
   "source": [
    "def vis_data(x,y = None, c = 'r'):\n",
    "    if y is None:\n",
    "        y = [None] * len(x)\n",
    "    for x_, y_ in zip(x,y):\n",
    "        if y_ is None:\n",
    "            plt.plot(x_[0], x_[1], '*',markerfacecolor='none', markeredgecolor=c)\n",
    "        else:\n",
    "            plt.plot(x_[0], x_[1], c+'o' if y_ == 0 else c+'+')\n",
    "\n",
    "plt.figure()\n",
    "vis_data(x_train, y_train, c='r')\n",
    "plt.show()"
   ]
  },
  {
   "cell_type": "code",
   "execution_count": 31,
   "metadata": {},
   "outputs": [
    {
     "name": "stdout",
     "output_type": "stream",
     "text": [
      "torch.Size([80, 2])\n"
     ]
    }
   ],
   "source": [
    "x_train = torch.FloatTensor(x_train)\n",
    "print(x_train.shape)\n",
    "x_test = torch.FloatTensor(x_test)\n",
    "y_train = torch.FloatTensor(y_train)\n",
    "y_test = torch.FloatTensor(y_test)"
   ]
  },
  {
   "cell_type": "code",
   "execution_count": 32,
   "metadata": {},
   "outputs": [],
   "source": [
    "class NeuralNet(torch.nn.Module):\n",
    "        def __init__(self, input_size, hidden_size):\n",
    "            super(NeuralNet, self).__init__()\n",
    "            self.input_size = input_size\n",
    "            self.hidden_size  = hidden_size\n",
    "            self.linear_1 = torch.nn.Linear(self.input_size, self.hidden_size)\n",
    "            self.relu = torch.nn.ReLU()\n",
    "            self.linear_2 = torch.nn.Linear(self.hidden_size, 1)\n",
    "            self.sigmoid = torch.nn.Sigmoid()\n",
    "            \n",
    "        def forward(self, input_tensor):\n",
    "            linear1 = self.linear_1(input_tensor)\n",
    "            relu = self.relu(linear1)\n",
    "            linear2 = self.linear_2(relu)\n",
    "            output = self.sigmoid(linear2)\n",
    "            return output"
   ]
  },
  {
   "cell_type": "markdown",
   "metadata": {},
   "source": [
    "super() 함수를 부르면 생선한 NeuralNet 클래스가 nn.Module 클래스의 속성들로 다시 초기화 된다.\n",
    "\n",
    "이 경우 super().\\_\\_init\\_\\_은 nn.Module의 \\_\\_init\\_\\_의 초기값을 다시 불러오게 된다."
   ]
  },
  {
   "cell_type": "code",
   "execution_count": 33,
   "metadata": {},
   "outputs": [],
   "source": [
    "model = NeuralNet(2, 5) # input_size = 2, hidden_size = 5\n",
    "learning_rate = 0.03\n",
    "criterion = torch.nn.BCELoss()\n",
    "epochs = 2000\n",
    "optimizer = torch.optim.SGD(model.parameters(), lr = learning_rate)"
   ]
  },
  {
   "cell_type": "markdown",
   "metadata": {},
   "source": [
    "epochs(이폭)은 전체 학습 데이터를 총 몇 번 모델에 입력할지 결정하는 변수이다."
   ]
  },
  {
   "cell_type": "code",
   "execution_count": 34,
   "metadata": {},
   "outputs": [
    {
     "name": "stdout",
     "output_type": "stream",
     "text": [
      "Before Training, test loss is 0.6830099821090698\n"
     ]
    }
   ],
   "source": [
    "model.eval()\n",
    "test_loss_before = criterion(model(x_test).squeeze(), y_test)\n",
    "print('Before Training, test loss is {}'.format(test_loss_before.item()))"
   ]
  },
  {
   "cell_type": "code",
   "execution_count": 35,
   "metadata": {},
   "outputs": [
    {
     "name": "stdout",
     "output_type": "stream",
     "text": [
      "Train loss at 0 is 0.7069257497787476\n",
      "Train loss at 100 is 0.6443682909011841\n",
      "Train loss at 200 is 0.569150447845459\n",
      "Train loss at 300 is 0.48847001791000366\n",
      "Train loss at 400 is 0.42268672585487366\n",
      "Train loss at 500 is 0.36489322781562805\n",
      "Train loss at 600 is 0.3077560067176819\n",
      "Train loss at 700 is 0.2570995092391968\n",
      "Train loss at 800 is 0.21667499840259552\n",
      "Train loss at 900 is 0.18446432054042816\n",
      "Train loss at 1000 is 0.15840056538581848\n",
      "Train loss at 1100 is 0.1375458538532257\n",
      "Train loss at 1200 is 0.12084649503231049\n",
      "Train loss at 1300 is 0.1071142926812172\n",
      "Train loss at 1400 is 0.09574198722839355\n",
      "Train loss at 1500 is 0.0862225815653801\n",
      "Train loss at 1600 is 0.07818524539470673\n",
      "Train loss at 1700 is 0.07133715599775314\n",
      "Train loss at 1800 is 0.06546084582805634\n",
      "Train loss at 1900 is 0.0603749081492424\n"
     ]
    }
   ],
   "source": [
    "for epoch in range(epochs):\n",
    "    model.train()\n",
    "    optimizer.zero_grad()\n",
    "    train_output = model(x_train)\n",
    "    train_loss = criterion(train_output.squeeze(), y_train)\n",
    "    if epoch % 100 == 0:\n",
    "        print('Train loss at {} is {}'.format(epoch, train_loss.item()))\n",
    "    train_loss.backward()\n",
    "    optimizer.step() #가중치를 갱신한다"
   ]
  },
  {
   "cell_type": "code",
   "execution_count": 36,
   "metadata": {},
   "outputs": [
    {
     "name": "stdout",
     "output_type": "stream",
     "text": [
      "After Training, test loss is 0.06096944212913513\n"
     ]
    }
   ],
   "source": [
    "model.eval()\n",
    "test_loss = criterion(model(x_test).squeeze(), y_test) \n",
    "print('After Training, test loss is {}'.format(test_loss.item()))"
   ]
  },
  {
   "cell_type": "code",
   "execution_count": 37,
   "metadata": {},
   "outputs": [
    {
     "name": "stdout",
     "output_type": "stream",
     "text": [
      "state_dict format of the model: OrderedDict([('linear_1.weight', tensor([[ 1.0423, -1.2568],\n",
      "        [-1.1153, -1.9960],\n",
      "        [ 1.7493,  1.1484],\n",
      "        [ 0.8082,  0.6983],\n",
      "        [ 1.0606, -1.1571]])), ('linear_1.bias', tensor([-0.2832,  0.0294, -0.1285, -0.3353, -0.3710])), ('linear_2.weight', tensor([[ 1.5709, -2.1878, -1.9056, -0.7585,  1.2858]])), ('linear_2.bias', tensor([1.9110]))])\n"
     ]
    }
   ],
   "source": [
    "torch.save(model.state_dict(), './model.pt')\n",
    "print('state_dict format of the model: {}'.format(model.state_dict()))"
   ]
  },
  {
   "cell_type": "markdown",
   "metadata": {},
   "source": [
    "학습된 모델을 state_dict() 함수 형태로 바꾸어 준 후 .pt 파일로 저장하면 <br>\n",
    "모델 내 가중치들이 딕셔너리 형태로 {연산이름: 가중치 텐서와 편향 텐서}와 같이 표현된 데이터가 저장된다.\n",
    "\n",
    "\n",
    "파일을 생성하면 언제든 이 파일을 읽어들여 새로운 신경망 객체에 이미 학습된 모델의 가중치를 곧바로 적용할 수 있다."
   ]
  },
  {
   "cell_type": "code",
   "execution_count": 38,
   "metadata": {},
   "outputs": [
    {
     "name": "stdout",
     "output_type": "stream",
     "text": [
      "벡터 [-1, 1]이 레이블 1을 가질 확률은 0.8711298108100891\n"
     ]
    }
   ],
   "source": [
    "new_model = NeuralNet(2, 5)\n",
    "new_model.load_state_dict(torch.load('./model.pt'))\n",
    "new_model.eval()\n",
    "print('벡터 [-1, 1]이 레이블 1을 가질 확률은 {}'.format(new_model(torch.FloatTensor([-1,1])).item()))"
   ]
  }
 ],
 "metadata": {
  "kernelspec": {
   "display_name": "dmqa_pytorch",
   "language": "python",
   "name": "dmqa_pytorch"
  },
  "language_info": {
   "codemirror_mode": {
    "name": "ipython",
    "version": 3
   },
   "file_extension": ".py",
   "mimetype": "text/x-python",
   "name": "python",
   "nbconvert_exporter": "python",
   "pygments_lexer": "ipython3",
   "version": "3.7.4"
  }
 },
 "nbformat": 4,
 "nbformat_minor": 2
}
