{
 "cells": [
  {
   "cell_type": "markdown",
   "metadata": {},
   "source": [
    "<b>활성화 함수가 없다면 은닉층이 몇 개더라도 결국 선형 변환이기 때문에 깊은 모델을 만든 의미가 사라진다.</b>"
   ]
  },
  {
   "cell_type": "markdown",
   "metadata": {},
   "source": [
    "가장 많이 사용되는 활성화함수는 아래와 같다.\n",
    "1. 시그모이드(sigmoid) ::: $$y(x) = {1 \\over 1+e^x}$$\n",
    "2. 하이퍼볼릭탄젠트(tanh) ::: $$y(x) = {e^x - e^{-x} \\over e^x + e^{-x}}$$\n",
    "3. 렐루(ReLU) ::: $$y(x) = max(0,x)$$"
   ]
  },
  {
   "cell_type": "code",
   "execution_count": null,
   "metadata": {},
   "outputs": [],
   "source": []
  }
 ],
 "metadata": {
  "kernelspec": {
   "display_name": "dmqa_pytorch",
   "language": "python",
   "name": "dmqa_pytorch"
  },
  "language_info": {
   "codemirror_mode": {
    "name": "ipython",
    "version": 3
   },
   "file_extension": ".py",
   "mimetype": "text/x-python",
   "name": "python",
   "nbconvert_exporter": "python",
   "pygments_lexer": "ipython3",
   "version": "3.7.4"
  }
 },
 "nbformat": 4,
 "nbformat_minor": 2
}
