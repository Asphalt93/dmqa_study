{
 "cells": [
  {
   "cell_type": "code",
   "execution_count": 1,
   "metadata": {},
   "outputs": [],
   "source": [
    "# 예시에는 numpy를 사용한다.\n",
    "import numpy as np"
   ]
  },
  {
   "cell_type": "markdown",
   "metadata": {},
   "source": [
    "# 1.1 벡터와 공간"
   ]
  },
  {
   "cell_type": "markdown",
   "metadata": {},
   "source": [
    "## 1.1.1 우선적인 정의: 수치의 조합을 정리하여 나타내는 기법"
   ]
  },
  {
   "cell_type": "markdown",
   "metadata": {},
   "source": [
    "다음과 같이 수를 나열한 것을 벡터라고 부른다."
   ]
  },
  {
   "cell_type": "code",
   "execution_count": 4,
   "metadata": {},
   "outputs": [
    {
     "name": "stdout",
     "output_type": "stream",
     "text": [
      "[2 5] [6 3 3]\n"
     ]
    }
   ],
   "source": [
    "ex1 = np.array([2,5])\n",
    "ex2 = np.array([6,3,3])\n",
    "print(ex1, ex2)"
   ]
  },
  {
   "cell_type": "markdown",
   "metadata": {},
   "source": [
    "성분 수를 명시하고 싶을 때에는 각각 2차원 벡터, 3차원 벡터라고 부른다."
   ]
  },
  {
   "cell_type": "markdown",
   "metadata": {},
   "source": [
    "책에서는 세로로 늘어선 '종벡터'로 표시하고 있지만 Numpy에서는 가로로 늘어선 '횡벡터'로 표시하고 있다."
   ]
  },
  {
   "cell_type": "markdown",
   "metadata": {},
   "source": [
    "T는 전치를 뜻하는 Transpose의 T이다. 예시는 다음과 같다."
   ]
  },
  {
   "cell_type": "code",
   "execution_count": 10,
   "metadata": {},
   "outputs": [
    {
     "name": "stdout",
     "output_type": "stream",
     "text": [
      "[[1 2 3]\n",
      " [4 5 6]] \n",
      "\n",
      "[[1 4]\n",
      " [2 5]\n",
      " [3 6]]\n"
     ]
    }
   ],
   "source": [
    "ex3 = np.array([[1,2,3],\n",
    "                [4,5,6]])\n",
    "\n",
    "ex3_t = ex3.T\n",
    "\n",
    "print(ex3,'\\n')\n",
    "print(ex3_t)"
   ]
  },
  {
   "cell_type": "markdown",
   "metadata": {},
   "source": [
    "벡터의 덧셈과 정수배(스칼라배)는 다음과 같이 정의한다."
   ]
  },
  {
   "cell_type": "code",
   "execution_count": 21,
   "metadata": {
    "scrolled": true
   },
   "outputs": [
    {
     "name": "stdout",
     "output_type": "stream",
     "text": [
      "벡터의 덧셈\n",
      "[[1 2 3]\n",
      " [4 5 6]] \n",
      " +\n",
      " [[10 11 12]\n",
      " [16 17 18]] \n",
      " =\n",
      " [[11 13 15]\n",
      " [20 22 24]]\n",
      "\n",
      "벡터의 정수배\n",
      "3 *\n",
      " [[10 11 12]\n",
      " [16 17 18]] \n",
      " =\n",
      " [[30 33 36]\n",
      " [48 51 54]]\n"
     ]
    }
   ],
   "source": [
    "ex4 = np.array([[10,11,12],\n",
    "               [16,17,18]])\n",
    "print('벡터의 덧셈')\n",
    "print(ex3,'\\n', '+\\n' ,ex4,'\\n', '=\\n', np.add(ex3, ex4))\n",
    "print('\\n벡터의 정수배')\n",
    "print(3, '*\\n' ,ex4,'\\n', '=\\n', np.multiply(3, ex4))"
   ]
  },
  {
   "cell_type": "markdown",
   "metadata": {},
   "source": [
    "수 $c, c'$와 벡터 $x,y$의 성질은 다음과 같다."
   ]
  },
  {
   "cell_type": "markdown",
   "metadata": {},
   "source": [
    "* $(cc')x = c(c')x$ ::: 결합법칙"
   ]
  },
  {
   "cell_type": "code",
   "execution_count": 26,
   "metadata": {},
   "outputs": [
    {
     "data": {
      "text/plain": [
       "True"
      ]
     },
     "execution_count": 26,
     "metadata": {},
     "output_type": "execute_result"
    }
   ],
   "source": [
    "r1 = np.multiply((2*3), ex4)\n",
    "r2 = np.multiply(2, (3*ex4))\n",
    "\n",
    "(r1 == r2).any()"
   ]
  },
  {
   "cell_type": "markdown",
   "metadata": {},
   "source": [
    "* $1x = x$"
   ]
  },
  {
   "cell_type": "code",
   "execution_count": 28,
   "metadata": {},
   "outputs": [
    {
     "data": {
      "text/plain": [
       "True"
      ]
     },
     "execution_count": 28,
     "metadata": {},
     "output_type": "execute_result"
    }
   ],
   "source": [
    "r3 = np.multiply(1, ex4)\n",
    "\n",
    "(ex4 == r3).any()"
   ]
  },
  {
   "cell_type": "markdown",
   "metadata": {},
   "source": [
    "* $x+y = y+x$ ::: 교환법칙"
   ]
  },
  {
   "cell_type": "code",
   "execution_count": 29,
   "metadata": {},
   "outputs": [
    {
     "data": {
      "text/plain": [
       "True"
      ]
     },
     "execution_count": 29,
     "metadata": {},
     "output_type": "execute_result"
    }
   ],
   "source": [
    "r4 = np.add(ex3, ex4)\n",
    "r5 = np.add(ex4, ex3)\n",
    "\n",
    "(r4 == r5).any()"
   ]
  },
  {
   "cell_type": "markdown",
   "metadata": {},
   "source": [
    "* $(x+y)+z = x+(y+z)$ ::: 결합법칙"
   ]
  },
  {
   "cell_type": "code",
   "execution_count": 31,
   "metadata": {},
   "outputs": [
    {
     "data": {
      "text/plain": [
       "True"
      ]
     },
     "execution_count": 31,
     "metadata": {},
     "output_type": "execute_result"
    }
   ],
   "source": [
    "ex5 = np.array([[9,10,11],\n",
    "                [16,17,19]])\n",
    "\n",
    "r6 = np.add(ex3 + ex4, ex5)\n",
    "r7 = np.add(ex3, ex4 + ex5)\n",
    "\n",
    "(r6 == r7).any()"
   ]
  },
  {
   "cell_type": "markdown",
   "metadata": {},
   "source": [
    "* $x+o = x$ ::: 항등원이 존재"
   ]
  },
  {
   "cell_type": "code",
   "execution_count": 35,
   "metadata": {},
   "outputs": [
    {
     "data": {
      "text/plain": [
       "True"
      ]
     },
     "execution_count": 35,
     "metadata": {},
     "output_type": "execute_result"
    }
   ],
   "source": [
    "r8 = np.add(ex5,np.zeros(ex5.shape))\n",
    "\n",
    "(ex5 == r8).any()"
   ]
  },
  {
   "cell_type": "markdown",
   "metadata": {},
   "source": [
    "* $x+(-x)=o$ ::: 역원이 존재"
   ]
  },
  {
   "cell_type": "code",
   "execution_count": 36,
   "metadata": {},
   "outputs": [
    {
     "data": {
      "text/plain": [
       "True"
      ]
     },
     "execution_count": 36,
     "metadata": {},
     "output_type": "execute_result"
    }
   ],
   "source": [
    "r9 = np.add(ex5, -ex5)\n",
    "\n",
    "(r9 == np.zeros(ex5.shape)).any()"
   ]
  },
  {
   "cell_type": "markdown",
   "metadata": {},
   "source": [
    "* $c(x+y) = cx + cy$ :::분배법칙"
   ]
  },
  {
   "cell_type": "code",
   "execution_count": 37,
   "metadata": {},
   "outputs": [
    {
     "data": {
      "text/plain": [
       "True"
      ]
     },
     "execution_count": 37,
     "metadata": {},
     "output_type": "execute_result"
    }
   ],
   "source": [
    "r10 = np.multiply(3, (ex4+ex5) )\n",
    "r11 = np.add(np.multiply(3, ex4),\n",
    "             np.multiply(3, ex5))\n",
    "\n",
    "(r10 == r11).any()"
   ]
  },
  {
   "cell_type": "markdown",
   "metadata": {},
   "source": [
    "* $(c+c')x = cx + c'x$ ::: 분배법칙"
   ]
  },
  {
   "cell_type": "code",
   "execution_count": 38,
   "metadata": {},
   "outputs": [
    {
     "data": {
      "text/plain": [
       "True"
      ]
     },
     "execution_count": 38,
     "metadata": {},
     "output_type": "execute_result"
    }
   ],
   "source": [
    "r12 = np.multiply((3+7), ex5) \n",
    "r13 = np.add(np.multiply(3, ex5),\n",
    "             np.multiply(7, ex5))\n",
    "\n",
    "(r12 == r13).any()"
   ]
  },
  {
   "cell_type": "markdown",
   "metadata": {},
   "source": [
    "## 1.1.2 '공간'의 이미지"
   ]
  },
  {
   "cell_type": "markdown",
   "metadata": {},
   "source": [
    "## 1.1.3 기저 (Basis)"
   ]
  },
  {
   "cell_type": "markdown",
   "metadata": {},
   "source": [
    "'덧셈'과 '정수배'가 정의된 세계를 선형공간(=벡터공간)이라고 부른다.\n",
    "\n",
    "이 세계에서 기준이 되는 것은 원점$O$ 하나이기 때문에 영벡터만 특별하고 그 외에는 어느 벡터도 대등하다."
   ]
  },
  {
   "cell_type": "markdown",
   "metadata": {},
   "source": [
    "여기서 기준이 되는 벡터는 $\\vec{e}_1,\\vec{e}_2$(기저벡터)이다. 좌표를 표현하기 위해서 기저벡터를 사용할 수 있다."
   ]
  },
  {
   "cell_type": "markdown",
   "metadata": {},
   "source": [
    "## 1.1.4 기저가 되기 위한 조건"
   ]
  },
  {
   "cell_type": "markdown",
   "metadata": {},
   "source": [
    "<span style=\"color:blue\">(큐스터디)</span><br>\n",
    "벡터공간 V의 벡터집합 = {$v_1, v_2, ... ,v_n$}이 다음 두 가지 조건을 만족할 때 s를 v의 기저라 한다.\n",
    "\n",
    "1) S는 일차독립이다.\n",
    "\n",
    "2) S는 V를 생성한다. 즉, V의 모든 원소는 S의 원소들의 일차결합으로 나타낼 수 있다."
   ]
  },
  {
   "cell_type": "markdown",
   "metadata": {},
   "source": [
    "<span style=\"color:blue\">(프로그래머를 위한 선형대수)</span><br>\n",
    "벡터의 조합을 기저라 부르는 것은 다음 두 가지 조건을 만족시켰을 때 뿐입니다.\n",
    "\n",
    "1) (지금 생각하고 있는 공간 안의) 어떤 벡터$\\vec{v}$라도 \n",
    "    $$ \\vec{v} = x_1\\vec{e}_1 + \\dots + x_n\\vec{e}_n $$\n",
    "    라는 형태로 나타낼 수 있다. $\\rightarrow$ 모든 토지에 번지가 붙어 있다.\n",
    "   \n",
    "   \n",
    "2) 게다가 나타내는 방법은 한 가지뿐이다. $\\rightarrow$ 토지 하나에 번지는 하나뿐이다."
   ]
  },
  {
   "cell_type": "markdown",
   "metadata": {},
   "source": [
    "주어진 벡터 $\\vec{e}_1, ... \\vec{e}_n$에 대해 무언가의 수 $u_1, ... , u_n$을 가져와서 생기는 벡터는 다음과 같다.\n",
    "\n",
    "$$ u_1\\vec{e}_1 + u_1\\vec{e}_2 + ... +u_1\\vec{e}_n $$\n",
    "\n",
    "이를 $\\vec{e}_1, ... , \\vec{e}_n$의 선형결합이라고 한다.\n",
    "\n",
    "위의 개념을 통해서 임의의 벡터 $\\vec{x}$가 나타나고, 거기다 그 표현법이 유일할 때 $ u_1\\vec{e}_1 + u_1\\vec{e}_2 + ... +u_1\\vec{e}_n $을 기저라고 부른다."
   ]
  },
  {
   "cell_type": "markdown",
   "metadata": {},
   "source": []
  },
  {
   "cell_type": "markdown",
   "metadata": {},
   "source": []
  },
  {
   "cell_type": "markdown",
   "metadata": {},
   "source": []
  },
  {
   "cell_type": "markdown",
   "metadata": {},
   "source": []
  },
  {
   "cell_type": "markdown",
   "metadata": {},
   "source": []
  },
  {
   "cell_type": "markdown",
   "metadata": {},
   "source": [
    "## 1.1.5 차원"
   ]
  },
  {
   "cell_type": "markdown",
   "metadata": {},
   "source": [
    "기저벡터의 개수가 곧 그 공간의 차원이다.\n",
    "\n",
    "차원 = 기저 벡터의 개수 = 좌표의 성분수"
   ]
  },
  {
   "cell_type": "markdown",
   "metadata": {},
   "source": [
    "<span style=\"color:blue\">(큐스터디)</span><br>\n",
    "벡터공간 $V$의 차원은 기저를 구성하는 벡터의 개수이다.\n",
    "\n",
    "차원은 $\\dim V$이다. 특히, $\\dim R^n = n$이다.\n",
    "\n",
    "* $W$를 $R^3$의 부분공간이라 하면 $\\dim(W) \\leq 3$이고 다음이 성립한다.\n",
    "\n",
    "1) $\\dim(W)=0$이면 $W=\\{0\\}$이다.\n",
    "\n",
    "2) $\\dim(W)=1$이면 $W$는 원점을 지나는 직선이다.\n",
    "\n",
    "3) $\\dim(W)=2$이면 $W$는 원점을 지나는 평면이다.\n",
    "\n",
    "4) $\\dim(W)=3$이면 $W$는 원점을 지나는 공간이다.\n",
    "\n"
   ]
  },
  {
   "cell_type": "markdown",
   "metadata": {},
   "source": []
  },
  {
   "cell_type": "markdown",
   "metadata": {},
   "source": []
  },
  {
   "cell_type": "markdown",
   "metadata": {},
   "source": [
    "# 1.2 행렬과 사상"
   ]
  },
  {
   "cell_type": "markdown",
   "metadata": {},
   "source": [
    "## 1.2.1 우선적인 정의: 순수한 관계를 나타내는 편리한 기법"
   ]
  },
  {
   "cell_type": "markdown",
   "metadata": {},
   "source": [
    "행 수와 열 수가 같은 행렬을 <b>정방행렬</b>이라고 한다."
   ]
  },
  {
   "cell_type": "markdown",
   "metadata": {},
   "source": [
    "곱 $m \\times n$행렬과 $n$차원 벡터에 대해 곱에 대해서는 다음 사항을 주의하도록 한다.\n",
    "\n",
    "1) 행렬과 벡터의 곱은 벡터\n",
    "\n",
    "2) 행렬의 열 수(가로폭)가 '입력'의 차원 수, 행 수(높이)가 '출력'의 차원 수\n",
    "\n",
    "3) 입력의 종벡터를 가로로 넘겨 딱딱 계산하는 느낌"
   ]
  },
  {
   "cell_type": "markdown",
   "metadata": {},
   "source": [
    "이 책에서 '순수하다'라고 하는 이유는, 입력과 출력의 관계가 선형성을 가지기 때문이다. \n",
    "<br>예를 들어 더 많이 산다고 해서 가격이 떨어지는 일 등이 없다. 즉, 다음과 같이 표현할 수 있다.\n",
    "\n",
    "$$ x + y = z \\:\\: \\rightarrow \\:\\: Ax + Ay = Az$$\n",
    "\n",
    "$$ cx = y \\:\\: \\rightarrow \\:\\: c(Ax) = Ay $$"
   ]
  },
  {
   "cell_type": "markdown",
   "metadata": {},
   "source": []
  },
  {
   "cell_type": "markdown",
   "metadata": {},
   "source": []
  },
  {
   "cell_type": "markdown",
   "metadata": {},
   "source": [
    "## 1.2.2 여러 가지 관계를 행렬로 나타내다 (1)"
   ]
  },
  {
   "cell_type": "markdown",
   "metadata": {},
   "source": [
    "## 1.2.3 행렬은 사상(map)이다."
   ]
  },
  {
   "cell_type": "markdown",
   "metadata": {},
   "source": [
    "$n$차원 벡터 $x$에 $m \\times n$ 행렬$A$를 곱하면 $m$차원 벡터 $y=Ax$가 얻어진다. \n",
    "\n",
    "즉, 행렬$A$를 지정하면 벡터를 다른 벡터에 옮기는 사상이 결정된다. <b><span style=\"color:blue\">(행렬은 사상이다)</span></b>\n",
    "\n",
    "사상은 <b>n차원 공간에서 m차원 공간이라는 다른 세계에 옮기는 것</b>이다."
   ]
  },
  {
   "cell_type": "code",
   "execution_count": 43,
   "metadata": {},
   "outputs": [
    {
     "name": "stdout",
     "output_type": "stream",
     "text": [
      "[[ 1.  -0.3]\n",
      " [-0.7  0.6]]\n"
     ]
    }
   ],
   "source": [
    "doc = \"\"\"\n",
    "예를 들어,\n",
    "행렬 I가 기저벡터 e_1 = [1,0]과 e_2 = [0,1]의 선형결합으로 이루어졌다고 했을 때,\n",
    "행렬 A를 곱함으로써 다른 차원의 공간으로 이동하게 된다. \n",
    "즉, 행렬 A(m x n)는 n차원의 공간을 m차원의 공간으로 옮기는 사상(similar to 함수)이다.\n",
    "\"\"\"\n",
    "mat_I = np.eye(2)\n",
    "mat_A = np.array([[1,-0.3],\n",
    "                 [-0.7,0.6]])\n",
    "\n",
    "r14 = np.dot(mat_I, mat_A) # 행렬의 곱 (dot product)\n",
    "print(r14)"
   ]
  },
  {
   "cell_type": "markdown",
   "metadata": {},
   "source": [
    "위의 경우 A의 1열은 $e_1$의 목적지, 2열은 $e_2$의 목적지를 나타낸다고 볼 수 있다.\n",
    "\n",
    "따라서 두 기저벡터가 어디로 이동하는지만 알면 사상의 형태도 상상할 수 있다."
   ]
  },
  {
   "cell_type": "markdown",
   "metadata": {},
   "source": [
    "사상이 같다면 행렬도 같다.\n",
    "\n",
    "즉, 같은 크기의 행렬 A, B가 임의의 백터 x에 대해 항상 Ax = Bx라면 A = B이다."
   ]
  },
  {
   "cell_type": "markdown",
   "metadata": {},
   "source": [
    "## 1.2.4 행렬의 곱 = 사상의 합성"
   ]
  },
  {
   "cell_type": "markdown",
   "metadata": {},
   "source": [
    "## 1.2.5 행렬 연산의 성질"
   ]
  },
  {
   "cell_type": "markdown",
   "metadata": {},
   "source": [
    "## 1.2.6 행렬의 거듭제곱 = 사상의 반복"
   ]
  },
  {
   "cell_type": "markdown",
   "metadata": {},
   "source": [
    "## 1.2.7 영행렬, 단위행렬, 대각행렬"
   ]
  },
  {
   "cell_type": "markdown",
   "metadata": {},
   "source": [
    "### 영행렬 (null matrix)\n",
    "모든 성분이 0인 행렬을 영행렬이라 하고, 기호$O$로 나타낸다.\n",
    "\n",
    "크기를 명시하고 싶을 때는 $m \\times n$ 영행렬 $O_{m,n}$이나 n차 정방영행렬$O_n$처럼 쓰기도 한다."
   ]
  },
  {
   "cell_type": "markdown",
   "metadata": {},
   "source": [
    "영행렬이 나타내는 사상은 모든 것을 원점으로 이동시키는 사상이다."
   ]
  },
  {
   "cell_type": "markdown",
   "metadata": {},
   "source": [
    "영행렬이 계산에 포함되지 않아도 영행렬이 나올 수 있다.\n",
    "* '$A \\neq O, B \\neq 0$인데도 $BA=O$'가 가능하다. 예를 들어 A와 B가 다음과 같을 때 BA = 0 다."
   ]
  },
  {
   "cell_type": "code",
   "execution_count": 8,
   "metadata": {},
   "outputs": [
    {
     "data": {
      "text/plain": [
       "True"
      ]
     },
     "execution_count": 8,
     "metadata": {},
     "output_type": "execute_result"
    }
   ],
   "source": [
    "# numpy.zeros()로 영행렬을 나타낼 수 있다.\n",
    "\n",
    "A = np.array([[0,0],\n",
    "              [1,1]])\n",
    "\n",
    "B = np.array([[1,0],\n",
    "              [1,0]])\n",
    "\n",
    "(np.dot(B,A) == np.zeros((2,2))).any()"
   ]
  },
  {
   "cell_type": "markdown",
   "metadata": {},
   "source": [
    "* '$A \\neq O$인데도 $A^2=O$'가 가능하다. 예를 들어 A가 다음과 같을 때 $A^2=O$ 다."
   ]
  },
  {
   "cell_type": "code",
   "execution_count": 7,
   "metadata": {},
   "outputs": [
    {
     "data": {
      "text/plain": [
       "True"
      ]
     },
     "execution_count": 7,
     "metadata": {},
     "output_type": "execute_result"
    }
   ],
   "source": [
    "A = np.array([[0,1],\n",
    "              [0,0]])\n",
    "\n",
    "(np.dot(A,A) == np.zeros((2,2))).any()"
   ]
  },
  {
   "cell_type": "markdown",
   "metadata": {},
   "source": [
    "### 단위행렬 (identity matrix)\n",
    "정방행렬에서 다음처럼 '왼쪽 위 $\\rightarrow$ 오른쪽 아래' 방향의 대각선 위만 1이고 다른 것은 모두 0인 행렬을 단위행렬이라고 한다. \n",
    "\n",
    "기호$I$로 나타낸다. 크기를 명시하고 싶을 때는 n차 단위행렬 $I_n$처럼 쓰기도 한다."
   ]
  },
  {
   "cell_type": "code",
   "execution_count": 12,
   "metadata": {},
   "outputs": [
    {
     "data": {
      "text/plain": [
       "array([[1., 0., 0., 0.],\n",
       "       [0., 1., 0., 0.],\n",
       "       [0., 0., 1., 0.],\n",
       "       [0., 0., 0., 1.]])"
      ]
     },
     "execution_count": 12,
     "metadata": {},
     "output_type": "execute_result"
    }
   ],
   "source": [
    "# 4x4정방행렬의 단위행렬은 다음과 같이 생겼다.\n",
    "# numpy.eye로 단위행렬을 나타낼 수 있다.\n",
    "np.eye(4)"
   ]
  },
  {
   "cell_type": "markdown",
   "metadata": {},
   "source": [
    "단위행렬이 나타내는 사상은 '아무것도 하지 않는 사상'이다."
   ]
  },
  {
   "cell_type": "markdown",
   "metadata": {},
   "source": [
    "* 임의의 벡터$x$에 대해 $Ix=x$이므로 $x$를 원래 $x$그대로 이동한다는 것을 알 수 있다.\n",
    "* 임의의 행렬 A에 대해 $AI = A, IA = A$라는 것을 알 수 있다."
   ]
  },
  {
   "cell_type": "code",
   "execution_count": 18,
   "metadata": {},
   "outputs": [
    {
     "name": "stdout",
     "output_type": "stream",
     "text": [
      "True\n",
      "True\n",
      "True\n"
     ]
    }
   ],
   "source": [
    "I = np.eye(3)\n",
    "A = np.array([[1,2,3],\n",
    "              [4,5,6],\n",
    "              [7,8,9]])\n",
    "\n",
    "print((np.dot(I,A) == np.dot(A,I)).any())\n",
    "print((np.dot(I,A) == A).any())\n",
    "print((np.dot(A,I) == A).any())"
   ]
  },
  {
   "cell_type": "markdown",
   "metadata": {},
   "source": [
    "### 대각행렬 (diagonal matrix)\n",
    "정방행렬에서 다음처럼 '왼쪽 위 $\\rightarrow$ 오른쪽 아래'방향의 대각선상의 값을 대각성분이라고 한다.\n",
    "\n",
    "예를 들어 다음 행렬의 대각성분은 2,5,1이다."
   ]
  },
  {
   "cell_type": "code",
   "execution_count": 21,
   "metadata": {},
   "outputs": [
    {
     "data": {
      "text/plain": [
       "array([2, 5, 1])"
      ]
     },
     "execution_count": 21,
     "metadata": {},
     "output_type": "execute_result"
    }
   ],
   "source": [
    "# .diagonal()로 대각성분을 반환할 수 있다.\n",
    "\n",
    "np.array([[2,9,4],\n",
    "          [7,5,3],\n",
    "          [6,8,1]]).diagonal()"
   ]
  },
  {
   "cell_type": "markdown",
   "metadata": {},
   "source": [
    "대각성분 이외의 값은 비대각성분이라고 한다. 위의 경우 9,4,7,3,6,8 이다."
   ]
  },
  {
   "cell_type": "markdown",
   "metadata": {},
   "source": [
    "비대각성분이 모두 0인 행렬을 대각행렬이라고 부른다. 예를 들면 다음과 같다."
   ]
  },
  {
   "cell_type": "code",
   "execution_count": 24,
   "metadata": {},
   "outputs": [
    {
     "data": {
      "text/plain": [
       "array([3, 1, 4, 1, 5])"
      ]
     },
     "execution_count": 24,
     "metadata": {},
     "output_type": "execute_result"
    }
   ],
   "source": [
    "np.array([[3,0,0,0,0],\n",
    "          [0,1,0,0,0],\n",
    "          [0,0,4,0,0],\n",
    "          [0,0,0,1,0],\n",
    "          [0,0,0,0,5]]).diagonal()"
   ]
  },
  {
   "cell_type": "markdown",
   "metadata": {},
   "source": [
    "대각행렬이 나타내는 사상은 '축에 따르는 신축(늘고 줄음)'이고 대각성분이 각 축의 늘고 주는 배율이 된다."
   ]
  },
  {
   "cell_type": "markdown",
   "metadata": {},
   "source": [
    "## 1.2.8 역행렬(inverse matrix) = 역사상\n",
    "A에 이동시킨 것을 원래대로 돌려 놓는 이야기이다.\n",
    "\n",
    "정방행렬 $A$에 대해 그 역사상에 대응하는 행렬을 '$A$의 역행렬'이라고 하고, 기호 $A^{-1}$이라고 쓴다.\n",
    "\n",
    "'이동점 $y$를 갖고 원래의 점 $x$를 구하다'라는 사상에 대응하는 행렬이 $A^{-1}$ 이다."
   ]
  },
  {
   "cell_type": "markdown",
   "metadata": {},
   "source": [
    "<span style=\"color:blue\">(큐스터디)</span><br>\n",
    "$n \\times n$ 행렬 $A$에 대하여 $AB = BA = I_n$인 행렬 $B$가 오직 하나 존재할 때 <br>\n",
    "$B$를 $A$의 역행렬이라 하고 $B = A^{-1}$이라 표시한다.\n",
    "\n",
    "이 때 행렬 $A$를 가역 또는 정칙행렬이라 하고, 만약 이를 만족하는 행렬 $B$가 존재하지 않는 경우 $A$를 특이 행렬(singular matrix)라 한다.<br> 즉, 특이 행렬 $\\rightarrow$ 역행렬이 존재하지 않는 행렬이다."
   ]
  },
  {
   "cell_type": "markdown",
   "metadata": {},
   "source": [
    "<span style=\"color:blue\">(큐스터디)</span><br>\n",
    "* $n \\times n$ 행렬 $A$가 가역(역행렬이 존재)이면 행렬 방정식 $AX=B$는 오직 하나의 해 $X=A^{-1}B$를 가진다.\n",
    "\n",
    "\n",
    "* $n \\times n$ 행렬 $A$가 $I_n$과 행상등 $\\leftrightarrow$ 연립방정식 $AX=O$가 오직 자명한 해를 갖는다."
   ]
  },
  {
   "cell_type": "markdown",
   "metadata": {},
   "source": [
    "<b>$XA = I$와 $AX = I$의 어느 한 쪽만으로 '$x$는 $A$의 역행렬'이라고 말하면 안 되나요?</b>\n",
    "\n",
    "A가 정방행렬이라면 XA = I$와 $AX = I$가 같은 값을 내고 있고 결과로 나오는 행렬의 크기도 동일하기 때문에 역행렬이라고 해도 상관 없다."
   ]
  },
  {
   "cell_type": "markdown",
   "metadata": {},
   "source": [
    "역행렬의 기본적인 성질은 아래와 같다.\n",
    "\n",
    "* $(A^{-1})^{-1} = A$\n",
    "\n",
    "* $(AB)^{-1} = B^{-1}A^{-1}$\n",
    "\n",
    "* $(A^k)^{-1}=(A^{-1})^k$"
   ]
  },
  {
   "cell_type": "markdown",
   "metadata": {},
   "source": [
    "대각행렬의 경우에는 대각성분에 0이 하나라도 있으면 역행렬을 만들 수 없다. (왜냐하면 행렬식이 0이 되기 때문이다.)"
   ]
  },
  {
   "cell_type": "markdown",
   "metadata": {},
   "source": [
    "## 1.2.9 블록행렬\n",
    "'큰 문제를 작은 부분 문제로 분할하는 것'은 복잡함에 대처하는 수단으로 효과가 있다.\n",
    "\n",
    "행렬의 종횡에 단락을 넣어 각 구역을 작은 행렬로 간주한 것을 블록행렬이라고 한다.\n",
    "\n",
    "만일 종횡이 딱 맞추어지지 않고 블록의 경계선이 비뚤어졌을 경우 이는 블록행렬이라고 할 수 없다."
   ]
  },
  {
   "cell_type": "code",
   "execution_count": 25,
   "metadata": {},
   "outputs": [
    {
     "data": {
      "text/plain": [
       "array([[2., 0., 0., 0., 0.],\n",
       "       [0., 2., 0., 0., 0.],\n",
       "       [1., 1., 3., 0., 0.],\n",
       "       [1., 1., 0., 3., 0.],\n",
       "       [1., 1., 0., 0., 3.]])"
      ]
     },
     "execution_count": 25,
     "metadata": {},
     "output_type": "execute_result"
    }
   ],
   "source": [
    "# numpy.block()으로 블록행렬을 구현할 수 있다.\n",
    "\n",
    "A = np.eye(2) * 2\n",
    "B = np.eye(3) * 3\n",
    "np.block([\n",
    "    [A,               np.zeros((2, 3))],\n",
    "    [np.ones((3, 2)), B               ]\n",
    "])"
   ]
  },
  {
   "cell_type": "markdown",
   "metadata": {},
   "source": [
    "### 행벡터, 열벡터"
   ]
  },
  {
   "cell_type": "markdown",
   "metadata": {},
   "source": [
    "블록행렬을 한 방향으로만 작게 나누면 행벡터, 열벡터로 만들 수 있다."
   ]
  },
  {
   "cell_type": "markdown",
   "metadata": {},
   "source": []
  },
  {
   "cell_type": "markdown",
   "metadata": {},
   "source": []
  },
  {
   "cell_type": "markdown",
   "metadata": {},
   "source": []
  },
  {
   "cell_type": "markdown",
   "metadata": {},
   "source": [
    "### 블록대각행렬"
   ]
  },
  {
   "cell_type": "markdown",
   "metadata": {},
   "source": [
    "'왼쪽 위 $\\rightarrow$ 오른쪽 아래' 방향의 대각선상 블록이 모두 정방행렬이고, 그 외의 블록이 모두 영행렬인 것을 블록대각행렬이라고 한다."
   ]
  },
  {
   "cell_type": "code",
   "execution_count": 26,
   "metadata": {},
   "outputs": [
    {
     "data": {
      "text/plain": [
       "array([[2., 0., 0., 0., 0.],\n",
       "       [0., 2., 0., 0., 0.],\n",
       "       [1., 1., 3., 0., 0.],\n",
       "       [1., 1., 0., 3., 0.],\n",
       "       [1., 1., 0., 0., 3.]])"
      ]
     },
     "execution_count": 26,
     "metadata": {},
     "output_type": "execute_result"
    }
   ],
   "source": [
    "# 위에서 언급한 이 예시도 블록대각행렬이다.\n",
    "# A와 B가 정방행렬(2x2, 3x3)이기 때문이다.\n",
    "\n",
    "A = np.eye(2) * 2\n",
    "B = np.eye(3) * 3\n",
    "np.block([\n",
    "    [A,               np.zeros((2, 3))],\n",
    "    [np.ones((3, 2)), B               ]\n",
    "])"
   ]
  },
  {
   "cell_type": "markdown",
   "metadata": {},
   "source": [
    "여기서 대각성분에 대응하는 행렬 A, B를 대각블록이라고 한다."
   ]
  },
  {
   "cell_type": "markdown",
   "metadata": {},
   "source": []
  },
  {
   "cell_type": "markdown",
   "metadata": {},
   "source": []
  },
  {
   "cell_type": "markdown",
   "metadata": {},
   "source": []
  },
  {
   "cell_type": "markdown",
   "metadata": {},
   "source": [
    "## 1.2.10 여러 가지 관계를 행렬로 나타내다 (2)\n",
    "\n",
    "1.2.2절에서는 보기만 해도 '행렬을 곱하다'로 쓸 수 있을 것 같은 예를 제시했다면,<br>\n",
    "여기서는 대수롭지 않은 트릭을 쓰면 '행렬을 곱하다'의 형태로 쓸 수 있는 예를 제시한다."
   ]
  },
  {
   "cell_type": "markdown",
   "metadata": {},
   "source": [
    "### 고계 차분, 고계 미분\n",
    "\n",
    "* 차분방정식을 활용한다."
   ]
  },
  {
   "cell_type": "markdown",
   "metadata": {},
   "source": [
    "## 1.2.11 좌표 변환과 행렬"
   ]
  },
  {
   "cell_type": "markdown",
   "metadata": {},
   "source": [
    "### 좌표 변환\n",
    "\n",
    "- 같은 공간에서도 기저를 취할 수 있는 방법은 여러 가지이다.<br>\n",
    "$\\rightarrow$ 따라서 어떤 기저를 취해서 좌표를 표현하여도 근본적인 벡터는 같다고 본다.\n",
    "\n",
    "\n",
    "* 좌표 변환은 '정방행렬 A를 곱한다'라는 형태로 쓸 수 있습니다. A에는 역행렬이 존재합니다.\n",
    "* 반대로 역행렬을 지니는 정방행렬 A를 곱하는 것은 좌표 변환이라고 해석할 수 있습니다."
   ]
  },
  {
   "cell_type": "markdown",
   "metadata": {},
   "source": []
  },
  {
   "cell_type": "markdown",
   "metadata": {},
   "source": []
  },
  {
   "cell_type": "markdown",
   "metadata": {},
   "source": []
  },
  {
   "cell_type": "markdown",
   "metadata": {},
   "source": []
  },
  {
   "cell_type": "markdown",
   "metadata": {},
   "source": [
    "## 1.2.12 전치행렬 = ???\n",
    "행렬 $A$의 행과 열을 바꿔넣는 것을 $A$의 전치행렬이라고 하고, $A^T$라고 쓴다."
   ]
  },
  {
   "cell_type": "code",
   "execution_count": 4,
   "metadata": {},
   "outputs": [
    {
     "name": "stdout",
     "output_type": "stream",
     "text": [
      "[[1 2 3]\n",
      " [4 5 6]\n",
      " [7 8 9]] \n",
      "\n",
      "Transpose!!! \n",
      "\n",
      "[[1 4 7]\n",
      " [2 5 8]\n",
      " [3 6 9]]\n"
     ]
    }
   ],
   "source": [
    "A = np.array([[1,2,3],\n",
    "              [4,5,6],\n",
    "              [7,8,9]])\n",
    "\n",
    "print(A,'\\n')\n",
    "print(\"Transpose!!!\",'\\n')\n",
    "print(A.T)"
   ]
  },
  {
   "cell_type": "markdown",
   "metadata": {},
   "source": [
    "* $AB^T$는 $A(B^T)$를 의미한다. $(AB)^T$가 아니다.\n",
    "\n",
    "* $(AB)^T = B^TA^T$"
   ]
  },
  {
   "cell_type": "markdown",
   "metadata": {},
   "source": []
  },
  {
   "cell_type": "markdown",
   "metadata": {},
   "source": []
  },
  {
   "cell_type": "markdown",
   "metadata": {},
   "source": [
    "## 1.2.13 보충 (1) 크기에 집착하라"
   ]
  },
  {
   "cell_type": "markdown",
   "metadata": {},
   "source": []
  },
  {
   "cell_type": "markdown",
   "metadata": {},
   "source": []
  },
  {
   "cell_type": "markdown",
   "metadata": {},
   "source": []
  }
 ],
 "metadata": {
  "kernelspec": {
   "display_name": "dmqa_pytorch",
   "language": "python",
   "name": "dmqa_pytorch"
  },
  "language_info": {
   "codemirror_mode": {
    "name": "ipython",
    "version": 3
   },
   "file_extension": ".py",
   "mimetype": "text/x-python",
   "name": "python",
   "nbconvert_exporter": "python",
   "pygments_lexer": "ipython3",
   "version": "3.7.4"
  }
 },
 "nbformat": 4,
 "nbformat_minor": 2
}
